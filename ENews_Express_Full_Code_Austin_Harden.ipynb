{
 "cells": [
  {
   "cell_type": "markdown",
   "id": "6yDxo9u0d9Na",
   "metadata": {
    "id": "6yDxo9u0d9Na"
   },
   "source": [
    "# Project Business Statistics: E-news Express\n",
    "\n",
    "**Marks: 60**"
   ]
  },
  {
   "cell_type": "markdown",
   "id": "SrLd-ICEmPSD",
   "metadata": {
    "id": "SrLd-ICEmPSD"
   },
   "source": [
    "## Define Problem Statement and Objectives"
   ]
  },
  {
   "cell_type": "markdown",
   "id": "9Vt1PLLqmXNn",
   "metadata": {
    "id": "9Vt1PLLqmXNn"
   },
   "source": [
    "Problem Statement: Our design team at E-news Express has created a new landing page for our site. We randomly selected a sample of 100 users and split them into 2 groups, with the treatment group being shown the new landing page and the control group seeing the old landing page. Now that we've conducted the test and have a dataset from this, we want to run statistical analyses to analyze the impact of the new landing page vs the old page across a number of variables, and use this analysis to put forth business recommendations to help grow our subscriptions.\n",
    "\n",
    "Objectives: Answer the following questions: \n",
    "- Explore the dataset and extract insights using Exploratory Data Analysis.\n",
    "- Do the users spend more time on the new landing page than the old landing page?\n",
    "- Is the conversion rate (the proportion of users who visit the landing page and get converted) for the new page greater than the conversion rate for the old page?\n",
    "- Does the converted status depend on the preferred language?\n",
    "- Is the mean time spent on the new page same for the different language users?"
   ]
  },
  {
   "cell_type": "markdown",
   "id": "a6a3d218",
   "metadata": {
    "id": "a6a3d218"
   },
   "source": [
    "## Import all the necessary libraries"
   ]
  },
  {
   "cell_type": "code",
   "execution_count": 1,
   "id": "658c5dec",
   "metadata": {
    "id": "658c5dec"
   },
   "outputs": [],
   "source": [
    "import numpy as np\n",
    "import pandas as pd\n",
    "from matplotlib import pyplot as plt\n",
    "import seaborn as sns"
   ]
  },
  {
   "cell_type": "markdown",
   "id": "9d75cfa2",
   "metadata": {
    "id": "9d75cfa2"
   },
   "source": [
    "## 1. Explore the dataset and extract insights using Exploratory Data Analysis. (10 Marks)"
   ]
  },
  {
   "cell_type": "markdown",
   "id": "27201534",
   "metadata": {
    "id": "27201534"
   },
   "source": [
    "### Exploratory Data Analysis - Step by step approach\n",
    "\n",
    "Typical Data exploration activity consists of the following steps:\n",
    "1.\tImporting Data\n",
    "2.\tVariable Identification\n",
    "3.  Variable Transformation/Feature Creation\n",
    "4.  Missing value detection\n",
    "5.\tUnivariate Analysis\n",
    "6.\tBivariate Analysis"
   ]
  },
  {
   "cell_type": "markdown",
   "id": "6970dd99",
   "metadata": {
    "id": "6970dd99"
   },
   "source": [
    "### Reading the Data into a DataFrame"
   ]
  },
  {
   "cell_type": "code",
   "execution_count": 2,
   "id": "d3b95640",
   "metadata": {
    "id": "d3b95640"
   },
   "outputs": [],
   "source": [
    "# write the code for reading the dataset abtest.csv\n",
    "df = pd.read_csv('abtest.csv')\n"
   ]
  },
  {
   "cell_type": "markdown",
   "id": "a4e471fd",
   "metadata": {
    "id": "a4e471fd"
   },
   "source": [
    "### Data Overview\n",
    "- View a few rows of the data frame.\n",
    "- Check the shape and data types of the data frame. Add observations.\n",
    "- Fix the data-types (if needed).\n",
    "- Missing Value Check.\n",
    "- Summary statistics from the data frame. Add observations."
   ]
  },
  {
   "cell_type": "code",
   "execution_count": 3,
   "id": "e1ad11d4",
   "metadata": {
    "id": "e1ad11d4"
   },
   "outputs": [
    {
     "data": {
      "text/html": [
       "<div>\n",
       "<style scoped>\n",
       "    .dataframe tbody tr th:only-of-type {\n",
       "        vertical-align: middle;\n",
       "    }\n",
       "\n",
       "    .dataframe tbody tr th {\n",
       "        vertical-align: top;\n",
       "    }\n",
       "\n",
       "    .dataframe thead th {\n",
       "        text-align: right;\n",
       "    }\n",
       "</style>\n",
       "<table border=\"1\" class=\"dataframe\">\n",
       "  <thead>\n",
       "    <tr style=\"text-align: right;\">\n",
       "      <th></th>\n",
       "      <th>user_id</th>\n",
       "      <th>group</th>\n",
       "      <th>landing_page</th>\n",
       "      <th>time_spent_on_the_page</th>\n",
       "      <th>converted</th>\n",
       "      <th>language_preferred</th>\n",
       "    </tr>\n",
       "  </thead>\n",
       "  <tbody>\n",
       "    <tr>\n",
       "      <th>0</th>\n",
       "      <td>546592</td>\n",
       "      <td>control</td>\n",
       "      <td>old</td>\n",
       "      <td>3.48</td>\n",
       "      <td>no</td>\n",
       "      <td>Spanish</td>\n",
       "    </tr>\n",
       "    <tr>\n",
       "      <th>1</th>\n",
       "      <td>546468</td>\n",
       "      <td>treatment</td>\n",
       "      <td>new</td>\n",
       "      <td>7.13</td>\n",
       "      <td>yes</td>\n",
       "      <td>English</td>\n",
       "    </tr>\n",
       "    <tr>\n",
       "      <th>2</th>\n",
       "      <td>546462</td>\n",
       "      <td>treatment</td>\n",
       "      <td>new</td>\n",
       "      <td>4.40</td>\n",
       "      <td>no</td>\n",
       "      <td>Spanish</td>\n",
       "    </tr>\n",
       "    <tr>\n",
       "      <th>3</th>\n",
       "      <td>546567</td>\n",
       "      <td>control</td>\n",
       "      <td>old</td>\n",
       "      <td>3.02</td>\n",
       "      <td>no</td>\n",
       "      <td>French</td>\n",
       "    </tr>\n",
       "    <tr>\n",
       "      <th>4</th>\n",
       "      <td>546459</td>\n",
       "      <td>treatment</td>\n",
       "      <td>new</td>\n",
       "      <td>4.75</td>\n",
       "      <td>yes</td>\n",
       "      <td>Spanish</td>\n",
       "    </tr>\n",
       "  </tbody>\n",
       "</table>\n",
       "</div>"
      ],
      "text/plain": [
       "   user_id      group landing_page  time_spent_on_the_page converted  \\\n",
       "0   546592    control          old                    3.48        no   \n",
       "1   546468  treatment          new                    7.13       yes   \n",
       "2   546462  treatment          new                    4.40        no   \n",
       "3   546567    control          old                    3.02        no   \n",
       "4   546459  treatment          new                    4.75       yes   \n",
       "\n",
       "  language_preferred  \n",
       "0            Spanish  \n",
       "1            English  \n",
       "2            Spanish  \n",
       "3             French  \n",
       "4            Spanish  "
      ]
     },
     "execution_count": 3,
     "metadata": {},
     "output_type": "execute_result"
    }
   ],
   "source": [
    "df.head(5)"
   ]
  },
  {
   "cell_type": "code",
   "execution_count": 4,
   "id": "58447200",
   "metadata": {},
   "outputs": [
    {
     "data": {
      "text/plain": [
       "(100, 6)"
      ]
     },
     "execution_count": 4,
     "metadata": {},
     "output_type": "execute_result"
    }
   ],
   "source": [
    "df.shape"
   ]
  },
  {
   "cell_type": "code",
   "execution_count": 5,
   "id": "ff2327e4",
   "metadata": {
    "scrolled": true
   },
   "outputs": [
    {
     "name": "stdout",
     "output_type": "stream",
     "text": [
      "<class 'pandas.core.frame.DataFrame'>\n",
      "RangeIndex: 100 entries, 0 to 99\n",
      "Data columns (total 6 columns):\n",
      " #   Column                  Non-Null Count  Dtype  \n",
      "---  ------                  --------------  -----  \n",
      " 0   user_id                 100 non-null    int64  \n",
      " 1   group                   100 non-null    object \n",
      " 2   landing_page            100 non-null    object \n",
      " 3   time_spent_on_the_page  100 non-null    float64\n",
      " 4   converted               100 non-null    object \n",
      " 5   language_preferred      100 non-null    object \n",
      "dtypes: float64(1), int64(1), object(4)\n",
      "memory usage: 4.8+ KB\n"
     ]
    }
   ],
   "source": [
    "df.info()"
   ]
  },
  {
   "cell_type": "markdown",
   "id": "110a56ec",
   "metadata": {},
   "source": [
    "The data frame has 6 columns and 100 rows. Of the 6 columns, two are numerical values with a user id and a float data type for time spent on the page. The other 4 columns are all object types, which we'll convert to category data types below."
   ]
  },
  {
   "cell_type": "code",
   "execution_count": 6,
   "id": "3c107dbe",
   "metadata": {},
   "outputs": [],
   "source": [
    "df['group'] = df['group'].astype('category')\n",
    "df['landing_page'] = df['landing_page'].astype('category')\n",
    "df['converted'] = df['converted'].astype('category')\n",
    "df['language_preferred'] = df['language_preferred'].astype('category')\n",
    "\n",
    "# changing all qualitative columns to category data type"
   ]
  },
  {
   "cell_type": "code",
   "execution_count": 7,
   "id": "18c54192",
   "metadata": {},
   "outputs": [
    {
     "data": {
      "text/plain": [
       "user_id                   0\n",
       "group                     0\n",
       "landing_page              0\n",
       "time_spent_on_the_page    0\n",
       "converted                 0\n",
       "language_preferred        0\n",
       "dtype: int64"
      ]
     },
     "execution_count": 7,
     "metadata": {},
     "output_type": "execute_result"
    }
   ],
   "source": [
    "df.isnull().sum()"
   ]
  },
  {
   "cell_type": "code",
   "execution_count": 8,
   "id": "16e885bc",
   "metadata": {},
   "outputs": [
    {
     "data": {
      "text/html": [
       "<div>\n",
       "<style scoped>\n",
       "    .dataframe tbody tr th:only-of-type {\n",
       "        vertical-align: middle;\n",
       "    }\n",
       "\n",
       "    .dataframe tbody tr th {\n",
       "        vertical-align: top;\n",
       "    }\n",
       "\n",
       "    .dataframe thead th {\n",
       "        text-align: right;\n",
       "    }\n",
       "</style>\n",
       "<table border=\"1\" class=\"dataframe\">\n",
       "  <thead>\n",
       "    <tr style=\"text-align: right;\">\n",
       "      <th></th>\n",
       "      <th>user_id</th>\n",
       "      <th>time_spent_on_the_page</th>\n",
       "    </tr>\n",
       "  </thead>\n",
       "  <tbody>\n",
       "    <tr>\n",
       "      <th>count</th>\n",
       "      <td>100.000000</td>\n",
       "      <td>100.000000</td>\n",
       "    </tr>\n",
       "    <tr>\n",
       "      <th>mean</th>\n",
       "      <td>546517.000000</td>\n",
       "      <td>5.377800</td>\n",
       "    </tr>\n",
       "    <tr>\n",
       "      <th>std</th>\n",
       "      <td>52.295779</td>\n",
       "      <td>2.378166</td>\n",
       "    </tr>\n",
       "    <tr>\n",
       "      <th>min</th>\n",
       "      <td>546443.000000</td>\n",
       "      <td>0.190000</td>\n",
       "    </tr>\n",
       "    <tr>\n",
       "      <th>25%</th>\n",
       "      <td>546467.750000</td>\n",
       "      <td>3.880000</td>\n",
       "    </tr>\n",
       "    <tr>\n",
       "      <th>50%</th>\n",
       "      <td>546492.500000</td>\n",
       "      <td>5.415000</td>\n",
       "    </tr>\n",
       "    <tr>\n",
       "      <th>75%</th>\n",
       "      <td>546567.250000</td>\n",
       "      <td>7.022500</td>\n",
       "    </tr>\n",
       "    <tr>\n",
       "      <th>max</th>\n",
       "      <td>546592.000000</td>\n",
       "      <td>10.710000</td>\n",
       "    </tr>\n",
       "  </tbody>\n",
       "</table>\n",
       "</div>"
      ],
      "text/plain": [
       "             user_id  time_spent_on_the_page\n",
       "count     100.000000              100.000000\n",
       "mean   546517.000000                5.377800\n",
       "std        52.295779                2.378166\n",
       "min    546443.000000                0.190000\n",
       "25%    546467.750000                3.880000\n",
       "50%    546492.500000                5.415000\n",
       "75%    546567.250000                7.022500\n",
       "max    546592.000000               10.710000"
      ]
     },
     "execution_count": 8,
     "metadata": {},
     "output_type": "execute_result"
    }
   ],
   "source": [
    "df.describe()"
   ]
  },
  {
   "cell_type": "code",
   "execution_count": 9,
   "id": "a2af00cb",
   "metadata": {},
   "outputs": [
    {
     "data": {
      "text/plain": [
       "control      50\n",
       "treatment    50\n",
       "Name: group, dtype: int64"
      ]
     },
     "execution_count": 9,
     "metadata": {},
     "output_type": "execute_result"
    }
   ],
   "source": [
    "df['group'].value_counts()"
   ]
  },
  {
   "cell_type": "code",
   "execution_count": 10,
   "id": "c3dbc775",
   "metadata": {},
   "outputs": [
    {
     "data": {
      "text/plain": [
       "new    50\n",
       "old    50\n",
       "Name: landing_page, dtype: int64"
      ]
     },
     "execution_count": 10,
     "metadata": {},
     "output_type": "execute_result"
    }
   ],
   "source": [
    "df['landing_page'].value_counts()"
   ]
  },
  {
   "cell_type": "code",
   "execution_count": 11,
   "id": "75cb593d",
   "metadata": {},
   "outputs": [
    {
     "data": {
      "text/plain": [
       "yes    54\n",
       "no     46\n",
       "Name: converted, dtype: int64"
      ]
     },
     "execution_count": 11,
     "metadata": {},
     "output_type": "execute_result"
    }
   ],
   "source": [
    "df['converted'].value_counts()"
   ]
  },
  {
   "cell_type": "code",
   "execution_count": 12,
   "id": "52a2fb95",
   "metadata": {},
   "outputs": [
    {
     "data": {
      "text/plain": [
       "French     34\n",
       "Spanish    34\n",
       "English    32\n",
       "Name: language_preferred, dtype: int64"
      ]
     },
     "execution_count": 12,
     "metadata": {},
     "output_type": "execute_result"
    }
   ],
   "source": [
    "df['language_preferred'].value_counts()"
   ]
  },
  {
   "cell_type": "markdown",
   "id": "f5e5a619",
   "metadata": {},
   "source": [
    "There are no missing values in the data frame, so we don't need to adjust anything there. For the quantitative variables, the user id doesn't actually make sense to look at a statistical summary for since it's just an assigned id. That means the only quantitative variable we'll be looking at is the time spent on the page.\n",
    "\n",
    "The observations for this range from .19 up to 10.7, with a mean at 5.42 and an IQR of 3.88 to 7.02. The standard deviation is measured at 2.38, so assuming this mirrors a normal distribution we would expect about 68% of observations to fall between 3.04 and 7.8.\n",
    "\n",
    "For the category variables, group and landing page are both split into 2 equal groups of 50 observations, with group containing control and treatment observations and landing page containing old and new. Based on an initial look through the data frame, it appears these two variables are interchangeable. For \"converted\", there are 54 yes observations vs 46 no's. For language, we see three different languages of French, Spanish and English which are split in nearly exact thirds of the 100 obs."
   ]
  },
  {
   "cell_type": "markdown",
   "id": "68f3b2c9",
   "metadata": {
    "id": "68f3b2c9"
   },
   "source": [
    "### Univariate Analysis"
   ]
  },
  {
   "cell_type": "code",
   "execution_count": 13,
   "id": "1932d0f3",
   "metadata": {
    "id": "1932d0f3"
   },
   "outputs": [],
   "source": [
    "# function to plot a boxplot and a histogram along the same scale.\n",
    "\n",
    "\n",
    "def histogram_boxplot(data, feature, figsize=(12, 7), kde=True, bins=None):\n",
    "    \"\"\"\n",
    "    Boxplot and histogram combined\n",
    "\n",
    "    data: dataframe\n",
    "    feature: dataframe column\n",
    "    figsize: size of figure (default (12,7))\n",
    "    kde: whether to show the density curve (default False)\n",
    "    bins: number of bins for histogram (default None)\n",
    "    \"\"\"\n",
    "    f2, (ax_box2, ax_hist2) = plt.subplots(\n",
    "        nrows=2,  # Number of rows of the subplot grid= 2\n",
    "        sharex=True,  # x-axis will be shared among all subplots\n",
    "        gridspec_kw={\"height_ratios\": (0.25, 0.75)},\n",
    "        figsize=figsize,\n",
    "    )  # creating the 2 subplots\n",
    "    sns.boxplot(\n",
    "        data=data, x=feature, ax=ax_box2, showmeans=True, color=\"violet\"\n",
    "    )  # boxplot will be created and a star will indicate the mean value of the column\n",
    "    sns.histplot(\n",
    "        data=data, x=feature, kde=kde, ax=ax_hist2, bins=bins, palette=\"winter\"\n",
    "    ) if bins else sns.histplot(\n",
    "        data=data, x=feature, kde=kde, ax=ax_hist2\n",
    "    )  # For histogram\n",
    "    ax_hist2.axvline(\n",
    "        data[feature].mean(), color=\"green\", linestyle=\"--\"\n",
    "    )  # Add mean to the histogram\n",
    "    ax_hist2.axvline(\n",
    "        data[feature].median(), color=\"black\", linestyle=\"-\"\n",
    "    )  # Add median to the histogram"
   ]
  },
  {
   "cell_type": "code",
   "execution_count": 14,
   "id": "2fce6350",
   "metadata": {
    "id": "2fce6350"
   },
   "outputs": [],
   "source": [
    "# function to create labeled barplots\n",
    "\n",
    "\n",
    "def labeled_barplot(data, feature, perc=False, n=None):\n",
    "    \"\"\"\n",
    "    Barplot with percentage at the top\n",
    "\n",
    "    data: dataframe\n",
    "    feature: dataframe column\n",
    "    perc: whether to display percentages instead of count (default is False)\n",
    "    n: displays the top n category levels (default is None, i.e., display all levels)\n",
    "    \"\"\"\n",
    "\n",
    "    total = len(data[feature])  # length of the column\n",
    "    count = data[feature].nunique()\n",
    "    if n is None:\n",
    "        plt.figure(figsize=(count + 1, 5))\n",
    "    else:\n",
    "        plt.figure(figsize=(n + 1, 5))\n",
    "\n",
    "    plt.xticks(rotation=90, fontsize=15)\n",
    "    ax = sns.countplot(data=data, x=feature, palette=\"Paired\", order=data[feature].value_counts().index[:n].sort_values())\n",
    "\n",
    "    for p in ax.patches:\n",
    "        if perc == True:\n",
    "            label = \"{:.1f}%\".format(100 * p.get_height() / total)  # percentage of each class of the category\n",
    "        else:\n",
    "            label = p.get_height()  # count of each level of the category\n",
    "\n",
    "        x = p.get_x() + p.get_width() / 2  # width of the plot\n",
    "        y = p.get_height()      # height of the plot\n",
    "\n",
    "        ax.annotate(label, (x, y), ha=\"center\", va=\"center\", size=12, xytext=(0, 5), textcoords=\"offset points\")  # annotate the percentage\n",
    "\n",
    "    plt.show()  # show the plot"
   ]
  },
  {
   "cell_type": "code",
   "execution_count": 15,
   "id": "e6f99481",
   "metadata": {
    "id": "e6f99481"
   },
   "outputs": [
    {
     "data": {
      "image/png": "[encoded data removed]",
      "text/plain": [
       "<Figure size 864x504 with 2 Axes>"
      ]
     },
     "metadata": {
      "needs_background": "light"
     },
     "output_type": "display_data"
    }
   ],
   "source": [
    "histogram_boxplot(df, 'time_spent_on_the_page')"
   ]
  },
  {
   "cell_type": "markdown",
   "id": "435a0e8e",
   "metadata": {},
   "source": [
    "I added in the KDE on this chart to show that while this is definitely not a perfect normal distribution, the shape of the KDE curve is starting to resemble a normal bell curve distribution. There are no outliers in this data frame given that 1.5xIQR is about 4.7 and no observations lie outside Q1-4.7 or Q3+4.7. Finally, there is no meaningful skew to this distribution based on the mean and median being very close."
   ]
  },
  {
   "cell_type": "code",
   "execution_count": 16,
   "id": "2bcb55b3",
   "metadata": {},
   "outputs": [
    {
     "data": {
      "image/png": "[encoded data removed]",
      "text/plain": [
       "<Figure size 216x360 with 1 Axes>"
      ]
     },
     "metadata": {
      "needs_background": "light"
     },
     "output_type": "display_data"
    }
   ],
   "source": [
    "labeled_barplot(df,'converted',perc = True)"
   ]
  },
  {
   "cell_type": "code",
   "execution_count": 17,
   "id": "e82d2797",
   "metadata": {},
   "outputs": [
    {
     "data": {
      "image/png": "[encoded data removed]",
      "text/plain": [
       "<Figure size 216x360 with 1 Axes>"
      ]
     },
     "metadata": {
      "needs_background": "light"
     },
     "output_type": "display_data"
    }
   ],
   "source": [
    "labeled_barplot(df,'group',perc = True)"
   ]
  },
  {
   "cell_type": "code",
   "execution_count": 18,
   "id": "bbb3e2cd",
   "metadata": {},
   "outputs": [
    {
     "data": {
      "image/png": "[encoded data removed]",
      "text/plain": [
       "<Figure size 288x360 with 1 Axes>"
      ]
     },
     "metadata": {
      "needs_background": "light"
     },
     "output_type": "display_data"
    }
   ],
   "source": [
    "labeled_barplot(df,'language_preferred',perc = True)"
   ]
  },
  {
   "cell_type": "code",
   "execution_count": 19,
   "id": "85b6dd60",
   "metadata": {},
   "outputs": [
    {
     "data": {
      "image/png": "[encoded data removed]",
      "text/plain": [
       "<Figure size 216x360 with 1 Axes>"
      ]
     },
     "metadata": {
      "needs_background": "light"
     },
     "output_type": "display_data"
    }
   ],
   "source": [
    "labeled_barplot(df,'landing_page',perc = True)"
   ]
  },
  {
   "cell_type": "markdown",
   "id": "fad2de2f",
   "metadata": {
    "id": "fad2de2f"
   },
   "source": [
    "### Bivariate Analysis"
   ]
  },
  {
   "cell_type": "code",
   "execution_count": 20,
   "id": "58e9a1d0",
   "metadata": {
    "id": "58e9a1d0"
   },
   "outputs": [
    {
     "data": {
      "image/png": "[encoded data removed]",
      "text/plain": [
       "<Figure size 432x288 with 1 Axes>"
      ]
     },
     "metadata": {
      "needs_background": "light"
     },
     "output_type": "display_data"
    }
   ],
   "source": [
    "sns.histplot(data = df, x = 'time_spent_on_the_page', hue = 'landing_page')\n",
    "plt.show()"
   ]
  },
  {
   "cell_type": "code",
   "execution_count": 21,
   "id": "e080a7e9",
   "metadata": {},
   "outputs": [
    {
     "data": {
      "image/png": "[encoded data removed]",
      "text/plain": [
       "<Figure size 432x288 with 1 Axes>"
      ]
     },
     "metadata": {
      "needs_background": "light"
     },
     "output_type": "display_data"
    }
   ],
   "source": [
    "sns.histplot(data = df, x = 'time_spent_on_the_page', hue = 'converted')\n",
    "plt.show()"
   ]
  },
  {
   "cell_type": "code",
   "execution_count": 22,
   "id": "d5b26498",
   "metadata": {},
   "outputs": [
    {
     "data": {
      "image/png": "[encoded data removed]",
      "text/plain": [
       "<Figure size 432x288 with 1 Axes>"
      ]
     },
     "metadata": {
      "needs_background": "light"
     },
     "output_type": "display_data"
    }
   ],
   "source": [
    "sns.histplot(data = df, x = 'time_spent_on_the_page', hue = 'language_preferred')\n",
    "plt.show()"
   ]
  },
  {
   "cell_type": "markdown",
   "id": "14cd3925",
   "metadata": {},
   "source": [
    "Just from an initial view, these graphs would seem to suggest that users on the new landing page spend more time on the page than those on the old landing page, and those that convert spend more time than those that don't. The language graph is much more difficult to gain insight from just through visual analysis."
   ]
  },
  {
   "cell_type": "markdown",
   "id": "27906576",
   "metadata": {
    "id": "27906576"
   },
   "source": [
    "## 2. Do the users spend more time on the new landing page than the existing landing page? (10 Marks)"
   ]
  },
  {
   "cell_type": "markdown",
   "id": "e5fdf0c8",
   "metadata": {
    "id": "e5fdf0c8"
   },
   "source": [
    "### Perform Visual Analysis"
   ]
  },
  {
   "cell_type": "code",
   "execution_count": 23,
   "id": "6eZJa41eg21n",
   "metadata": {
    "id": "6eZJa41eg21n"
   },
   "outputs": [
    {
     "data": {
      "image/png": "[encoded data removed]",
      "text/plain": [
       "<Figure size 432x288 with 1 Axes>"
      ]
     },
     "metadata": {
      "needs_background": "light"
     },
     "output_type": "display_data"
    }
   ],
   "source": [
    "sns.boxplot(x = 'landing_page', y = 'time_spent_on_the_page', data = df)\n",
    "plt.show()"
   ]
  },
  {
   "cell_type": "markdown",
   "id": "56b3dafd",
   "metadata": {
    "id": "56b3dafd"
   },
   "source": [
    "### Step 1: Define the null and alternate hypotheses"
   ]
  },
  {
   "cell_type": "markdown",
   "id": "a07bb281",
   "metadata": {},
   "source": [
    "H0: Users on the new landing page spend the same amount of time on the page as users on the old landing page.\n",
    "H0: Time_spent_new = Time_spent_old\n",
    "HA: Users on the new landing page spend more time on the page as users on the old landing page.\n",
    "HA: Time_spent_new > Time_spent_old"
   ]
  },
  {
   "cell_type": "markdown",
   "id": "c7ee4907",
   "metadata": {
    "id": "c7ee4907"
   },
   "source": [
    "### Step 2: Select Appropriate test"
   ]
  },
  {
   "cell_type": "markdown",
   "id": "00b80643",
   "metadata": {},
   "source": [
    "This is a one tailed test that's comparing the means of two independent populations. Although we had the overall standard deviation of the dataframe, we don't know the standard deviation of the two populations.\n",
    "\n",
    "Based on this, we'll want to use a 2-sample independent t-test."
   ]
  },
  {
   "cell_type": "markdown",
   "id": "3f58c9a7",
   "metadata": {
    "id": "3f58c9a7"
   },
   "source": [
    "### Step 3: Decide the significance level"
   ]
  },
  {
   "cell_type": "markdown",
   "id": "b4962203",
   "metadata": {},
   "source": [
    "I'm going to use a 95% significance level for this test, so alpha will be equal to .05"
   ]
  },
  {
   "cell_type": "markdown",
   "id": "5fed2eac",
   "metadata": {
    "id": "5fed2eac"
   },
   "source": [
    "### Step 4: Collect and prepare data"
   ]
  },
  {
   "cell_type": "code",
   "execution_count": 24,
   "id": "f5a59495",
   "metadata": {
    "id": "f5a59495"
   },
   "outputs": [],
   "source": [
    "time_spent_new = df[df['landing_page'] == 'new']['time_spent_on_the_page']\n",
    "time_spent_old = df[df['landing_page'] == 'old']['time_spent_on_the_page']\n",
    "\n",
    "# creating variables for time spent on the new page and time spent on the old page"
   ]
  },
  {
   "cell_type": "code",
   "execution_count": 25,
   "id": "0bba7f5e",
   "metadata": {},
   "outputs": [],
   "source": [
    "import scipy.stats as stats"
   ]
  },
  {
   "cell_type": "code",
   "execution_count": 26,
   "id": "737e8d0a",
   "metadata": {},
   "outputs": [
    {
     "name": "stdout",
     "output_type": "stream",
     "text": [
      "The sample standard deviation of the time spent on the new page is: 1.82\n",
      "The sample standard deviation of the time spent on the new page is: 2.58\n"
     ]
    }
   ],
   "source": [
    "print('The sample standard deviation of the time spent on the new page is:', round(time_spent_new.std(),2))\n",
    "print('The sample standard deviation of the time spent on the new page is:', round(time_spent_old.std(),2))"
   ]
  },
  {
   "cell_type": "markdown",
   "id": "03790f58",
   "metadata": {},
   "source": [
    "Based on the above, we can't assume that the standard devs. of the two populations are equal."
   ]
  },
  {
   "cell_type": "markdown",
   "id": "f5c5258d",
   "metadata": {
    "id": "f5c5258d"
   },
   "source": [
    "### Step 5: Calculate the p-value"
   ]
  },
  {
   "cell_type": "code",
   "execution_count": 27,
   "id": "fac8594a",
   "metadata": {
    "id": "fac8594a"
   },
   "outputs": [
    {
     "data": {
      "text/plain": [
       "Ttest_indResult(statistic=3.7867702694199856, pvalue=0.0001392381225166549)"
      ]
     },
     "execution_count": 27,
     "metadata": {},
     "output_type": "execute_result"
    }
   ],
   "source": [
    "stats.ttest_ind(time_spent_new, time_spent_old, axis=0, equal_var=False, alternative='greater')"
   ]
  },
  {
   "cell_type": "markdown",
   "id": "359b12f8",
   "metadata": {
    "id": "359b12f8"
   },
   "source": [
    "### Step 6: Compare the p-value with $\\alpha$"
   ]
  },
  {
   "cell_type": "markdown",
   "id": "ed55a44a",
   "metadata": {
    "id": "7be47289"
   },
   "source": [
    "The p-value of .00014 is much lower than our alpha value of .05. "
   ]
  },
  {
   "cell_type": "markdown",
   "id": "d9affc84",
   "metadata": {
    "id": "d9affc84"
   },
   "source": [
    "### Step 7:  Draw inference"
   ]
  },
  {
   "cell_type": "markdown",
   "id": "6b16dd4b",
   "metadata": {
    "id": "6b16dd4b"
   },
   "source": [
    "Because of this, we have enough evidence to reject the null hypothesis and accept the alternative, that the mean of time spent on the new landing page is greater than the mean of time spent on the old page."
   ]
  },
  {
   "cell_type": "markdown",
   "id": "1ad0823a",
   "metadata": {
    "id": "1ad0823a"
   },
   "source": [
    "**A similar approach can be followed to answer the other questions.**"
   ]
  },
  {
   "cell_type": "markdown",
   "id": "353e9d24",
   "metadata": {
    "id": "353e9d24"
   },
   "source": [
    "## 3. Is the conversion rate (the proportion of users who visit the landing page and get converted) for the new page greater than the conversion rate for the old page? (10 Marks)"
   ]
  },
  {
   "cell_type": "markdown",
   "id": "fc90f941",
   "metadata": {
    "id": "b7f52898"
   },
   "source": [
    "H0: Users on the new landing page convert at the same rate as users on the old landing page.\n",
    "H0: Conversion_rate_new = Conversion_rate_old\n",
    "HA: Users on the new landing page convert at a higher rate than users on the old landing page.\n",
    "HA: Conversion_rate_new > Conversion_rate_old"
   ]
  },
  {
   "cell_type": "markdown",
   "id": "160ca8a8",
   "metadata": {},
   "source": [
    "Since we're comparing conversion rates of two populations (proportion of converted users out of all users), we'll use a two-proportion Z-Test.\n",
    "\n",
    "Again, we'll use a 95% significance level so alpha will be .05."
   ]
  },
  {
   "cell_type": "code",
   "execution_count": 28,
   "id": "c8f210ba",
   "metadata": {},
   "outputs": [
    {
     "data": {
      "image/png": "[encoded data removed]",
      "text/plain": [
       "<Figure size 432x288 with 1 Axes>"
      ]
     },
     "metadata": {
      "needs_background": "light"
     },
     "output_type": "display_data"
    }
   ],
   "source": [
    "sns.histplot(data = df, x = 'landing_page', hue = 'converted', multiple = 'stack')\n",
    "plt.show()"
   ]
  },
  {
   "cell_type": "code",
   "execution_count": 29,
   "id": "5da9b329",
   "metadata": {},
   "outputs": [],
   "source": [
    "converted_new = df[df['group'] == 'treatment']['converted'].value_counts()['yes']\n",
    "converted_old = df[df['group'] == 'control']['converted'].value_counts()['yes']\n",
    "\n",
    "count_treatment = df.group.value_counts()['treatment']\n",
    "count_control = df.group.value_counts()['control']\n",
    "\n",
    "# creating variables to filter the dataframe to those that converted, and group between treatment and control groups"
   ]
  },
  {
   "cell_type": "code",
   "execution_count": 30,
   "id": "6d13854f",
   "metadata": {},
   "outputs": [
    {
     "name": "stdout",
     "output_type": "stream",
     "text": [
      "33 21\n",
      "50 50\n"
     ]
    }
   ],
   "source": [
    "print (converted_new, converted_old)\n",
    "print (count_treatment, count_control)"
   ]
  },
  {
   "cell_type": "code",
   "execution_count": 31,
   "id": "56582abf",
   "metadata": {},
   "outputs": [],
   "source": [
    "from statsmodels.stats.proportion import proportions_ztest"
   ]
  },
  {
   "cell_type": "code",
   "execution_count": 32,
   "id": "13b2bf97",
   "metadata": {},
   "outputs": [],
   "source": [
    "converted_count = np.array([33, 21])\n",
    "total_count = np.array([50, 50])\n",
    "\n",
    "# created arrays for counts of conversion and total counts on treatment and control groups"
   ]
  },
  {
   "cell_type": "code",
   "execution_count": 33,
   "id": "9a1effcc",
   "metadata": {},
   "outputs": [
    {
     "name": "stdout",
     "output_type": "stream",
     "text": [
      "test stat is 2.4077170617153842\n",
      "p_value is 0.016052616408112556\n"
     ]
    }
   ],
   "source": [
    "test_stat, p_value = proportions_ztest(converted_count, total_count)\n",
    "print('test stat is', test_stat)\n",
    "print('p_value is', p_value)"
   ]
  },
  {
   "cell_type": "markdown",
   "id": "4508a5b9",
   "metadata": {},
   "source": [
    "Based on the p_value of .016 being less than our alpha of .05, we have sufficient evidence to reject the null hypothesis and say that the conversion rate of the new landing page is greater than the conversion rate of the old landing page."
   ]
  },
  {
   "cell_type": "markdown",
   "id": "d49bfa2d",
   "metadata": {
    "id": "d49bfa2d"
   },
   "source": [
    "## 4. Is the conversion and preferred language are independent or related? (10 Marks)"
   ]
  },
  {
   "cell_type": "markdown",
   "id": "caeee16d",
   "metadata": {
    "id": "b0e63f17"
   },
   "source": [
    "H0: Conversion rate and preferred language are independent of each other.\n",
    "HA: Conversion rate and preferred language are not independent of each other."
   ]
  },
  {
   "cell_type": "markdown",
   "id": "b65b53b8",
   "metadata": {},
   "source": [
    "Because we're exploring independence between two variables, we'll use a chi-square test of independence.\n",
    "\n",
    "The significance level will be 95%, so our alpha value is .05."
   ]
  },
  {
   "cell_type": "code",
   "execution_count": 34,
   "id": "f45a0958",
   "metadata": {},
   "outputs": [
    {
     "data": {
      "image/png": "[encoded data removed]",
      "text/plain": [
       "<Figure size 432x288 with 1 Axes>"
      ]
     },
     "metadata": {
      "needs_background": "light"
     },
     "output_type": "display_data"
    }
   ],
   "source": [
    "sns.histplot(data = df, x = 'language_preferred', hue = 'converted', multiple = 'stack')\n",
    "plt.show()"
   ]
  },
  {
   "cell_type": "code",
   "execution_count": 35,
   "id": "5a842143",
   "metadata": {},
   "outputs": [],
   "source": [
    "converted_english = df[df['language_preferred'] == 'English']['converted'].value_counts()['yes']\n",
    "converted_french = df[df['language_preferred'] == 'French']['converted'].value_counts()['yes']\n",
    "converted_spanish = df[df['language_preferred'] == 'Spanish']['converted'].value_counts()['yes']\n",
    "\n",
    "count_english = df.language_preferred.value_counts()['English']\n",
    "count_spanish = df.language_preferred.value_counts()['Spanish']\n",
    "count_french = df.language_preferred.value_counts()['French']\n",
    "\n",
    "# creating variables for the counts of total users and those that converted within each language"
   ]
  },
  {
   "cell_type": "code",
   "execution_count": 36,
   "id": "48c8eb35",
   "metadata": {},
   "outputs": [],
   "source": [
    "obs = np.array([[converted_english, converted_french, converted_spanish], [count_english, count_french, count_spanish]])\n",
    "\n",
    "# creating an array with the number of conversions and total count within each language"
   ]
  },
  {
   "cell_type": "code",
   "execution_count": 37,
   "id": "3af91d2c",
   "metadata": {},
   "outputs": [
    {
     "name": "stdout",
     "output_type": "stream",
     "text": [
      "0.6329258325119037\n"
     ]
    }
   ],
   "source": [
    "from scipy.stats import chi2_contingency\n",
    "\n",
    "chi, p_value, dof, expected = chi2_contingency(obs)\n",
    "\n",
    "print(p_value)"
   ]
  },
  {
   "cell_type": "markdown",
   "id": "18479094",
   "metadata": {},
   "source": [
    "The p_value we get from this test is .633, which is much larger than our alpha value of .05. Therefore, we don't have enough evidence to reject the null hypothesis and must say that preferred language and conversion rate are independent of each other."
   ]
  },
  {
   "cell_type": "markdown",
   "id": "8d585a90",
   "metadata": {
    "id": "8d585a90"
   },
   "source": [
    "## 5. Is the time spent on the new page same for the different language users? (10 Marks)"
   ]
  },
  {
   "cell_type": "code",
   "execution_count": 38,
   "id": "b422f395",
   "metadata": {
    "id": "b422f395"
   },
   "outputs": [
    {
     "data": {
      "image/png": "[encoded data removed]",
      "text/plain": [
       "<Figure size 432x288 with 1 Axes>"
      ]
     },
     "metadata": {
      "needs_background": "light"
     },
     "output_type": "display_data"
    }
   ],
   "source": [
    "sns.boxplot(x = 'language_preferred', y = 'time_spent_on_the_page', data = df[df['landing_page'] == 'new'])\n",
    "plt.show()"
   ]
  },
  {
   "cell_type": "markdown",
   "id": "51159c29",
   "metadata": {},
   "source": [
    "H0: The average time spent on the new page is the same for all preferred languages\n",
    "H0: Time_spent_new_English = time_spent_new_spanish = time_spent_new_french\n",
    "HA: At least one of the languages has a different average time spent on the new page than another."
   ]
  },
  {
   "cell_type": "markdown",
   "id": "f50e1bba",
   "metadata": {},
   "source": [
    "Since we're comparing equality of means between three different populations, we'll use the ANOVA test of variance"
   ]
  },
  {
   "cell_type": "markdown",
   "id": "ee5a526e",
   "metadata": {},
   "source": [
    "We'll use a significance level of 95%, so our alpha value will be .05"
   ]
  },
  {
   "cell_type": "markdown",
   "id": "b632ea97",
   "metadata": {},
   "source": [
    "First, we need to run the Shapiro-Wilkes test to test the following hypotheses:\n",
    "\n",
    "H0: Time spent on the new page follows a normal distribution\n",
    "\n",
    "HA: Time spent on the new page does not follow a normal distribution"
   ]
  },
  {
   "cell_type": "code",
   "execution_count": 39,
   "id": "a92272b5",
   "metadata": {},
   "outputs": [],
   "source": [
    "df_new = df[df['landing_page'] == 'new']\n",
    "\n",
    "# creating a new data frame to filter the initial df to only the users who received the new landing page experience"
   ]
  },
  {
   "cell_type": "code",
   "execution_count": 40,
   "id": "e4f8cb3f",
   "metadata": {},
   "outputs": [
    {
     "name": "stdout",
     "output_type": "stream",
     "text": [
      "The p-value is 0.8040016293525696\n"
     ]
    }
   ],
   "source": [
    "from scipy.stats import shapiro\n",
    "\n",
    "w, p_value = shapiro(df_new['time_spent_on_the_page']) \n",
    "print('The p-value is', p_value)"
   ]
  },
  {
   "cell_type": "markdown",
   "id": "dc2cbc51",
   "metadata": {},
   "source": [
    "The p_value of .80 is much higher than our alpha value of .05, so we don't have enough evidence to reject the null hypothesis and can move forward with the assumption that time spent on page follows a normal distribution.\n",
    "\n",
    "Next, we need to run a Levene test to confirm our assumption that the population variances are equal."
   ]
  },
  {
   "cell_type": "markdown",
   "id": "e1d5a21e",
   "metadata": {},
   "source": [
    "H0: All of the population variances are equal\n",
    "HA: At least one of the population variances is not equal."
   ]
  },
  {
   "cell_type": "code",
   "execution_count": 41,
   "id": "74ae2522",
   "metadata": {},
   "outputs": [
    {
     "name": "stdout",
     "output_type": "stream",
     "text": [
      "The p-value is 0.46711357711340173\n"
     ]
    }
   ],
   "source": [
    "from scipy.stats import levene\n",
    "statistic, p_value = levene( df_new[df_new['language_preferred']==\"English\"]['time_spent_on_the_page'], \n",
    "                             df_new[df_new['language_preferred']==\"French\"]['time_spent_on_the_page'], \n",
    "                             df_new[df_new['language_preferred']==\"Spanish\"]['time_spent_on_the_page'])\n",
    "\n",
    "print('The p-value is', p_value)"
   ]
  },
  {
   "cell_type": "markdown",
   "id": "d02dec32",
   "metadata": {},
   "source": [
    "Because the p_value is larger than our alpha value of .05, we fail to reject the null hypothesis and can move forward with our assumption of equality of variances between populations."
   ]
  },
  {
   "cell_type": "code",
   "execution_count": 42,
   "id": "2f436037",
   "metadata": {},
   "outputs": [],
   "source": [
    "time_spent_english = df_new[df_new['language_preferred'] == 'English']['time_spent_on_the_page']\n",
    "time_spent_french = df_new[df_new['language_preferred'] == 'French']['time_spent_on_the_page']\n",
    "time_spent_spanish = df_new[df_new['language_preferred'] == 'Spanish']['time_spent_on_the_page']\n",
    "\n",
    "# creating new variables to calculate time spent on the new landing page by language"
   ]
  },
  {
   "cell_type": "code",
   "execution_count": 43,
   "id": "d10fe3c9",
   "metadata": {},
   "outputs": [
    {
     "name": "stdout",
     "output_type": "stream",
     "text": [
      "0.43204138694325955\n"
     ]
    }
   ],
   "source": [
    "from scipy.stats import f_oneway\n",
    "\n",
    "test_stat, p_value = stats.f_oneway(time_spent_english, time_spent_spanish, time_spent_french)\n",
    "                              \n",
    "print(p_value)"
   ]
  },
  {
   "cell_type": "markdown",
   "id": "c8aab6c1",
   "metadata": {},
   "source": [
    "The p_value of .43 is higher than our alpha level of .05, so we don't have enough evidence to reject the null hypothesis and must accept that the average time spent on the new page is equal for all languages."
   ]
  },
  {
   "cell_type": "markdown",
   "id": "3acbc947",
   "metadata": {
    "id": "3acbc947"
   },
   "source": [
    "## Conclusion and Business Recommendations"
   ]
  },
  {
   "cell_type": "markdown",
   "id": "21fb1063",
   "metadata": {
    "id": "21fb1063"
   },
   "source": [
    "Based on our hypothesis testing, there are a few conclusions we are able to draw from the data:\n",
    "\n",
    "First, we can see that the mean time spent on the new landing page is greater than that of the old landing page.\n",
    "\n",
    "Second, we accept that the conversion rate on the new landing page is greater than that of the old landing page.\n",
    "\n",
    "Third, we see that conversion rate and preferred language are independent of each other.\n",
    "\n",
    "Finally, we showed that the average time spent on the new page is equal for all languages.\n",
    "\n",
    "Taking all of these learnings together, we can put forward a few business recommendations to drive more subscribers for the news portal. \n",
    "\n",
    "First, because our testing showed that time on page and conversion rate both increased with the new landing page, we should roll out this landing page to all of our users and use this as our control page going forward. This will increase engagement with the site and will drive more subscriptions than we would have received with the old landing page.\n",
    "\n",
    "Secondly, our testing showed that the user's preferred language is independent of conversion rate, and all user languages have equal time spent on the page. Because there isn't a meaningful difference in user behavior across different languages, we should focus improvements across all languages we use instead of spending time, money and resources for specific testing within each language. We'll want to revisit this in the future as we roll out additional changes, but for now we can be confident that we can make a significant business impact across all of our user languages with this new page."
   ]
  }
 ],
 "metadata": {
  "colab": {
   "collapsed_sections": [],
   "name": "ENews_Express_Learner_Notebook[Full Code Version].ipynb",
   "provenance": []
  },
  "kernelspec": {
   "display_name": "Python 3 (ipykernel)",
   "language": "python",
   "name": "python3"
  },
  "language_info": {
   "codemirror_mode": {
    "name": "ipython",
    "version": 3
   },
   "file_extension": ".py",
   "mimetype": "text/x-python",
   "name": "python",
   "nbconvert_exporter": "python",
   "pygments_lexer": "ipython3",
   "version": "3.9.7"
  }
 },
 "nbformat": 4,
 "nbformat_minor": 5
}
