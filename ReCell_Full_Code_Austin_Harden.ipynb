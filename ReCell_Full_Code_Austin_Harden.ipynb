{
 "cells": [
  {
   "cell_type": "markdown",
   "metadata": {
    "id": "LC7LRtYLraa8"
   },
   "source": [
    "# Supervised Learning - Foundations: ReCell \n",
    "\n",
    "***Marks: 60***"
   ]
  },
  {
   "cell_type": "markdown",
   "metadata": {
    "id": "RA_GXJwuhmVz"
   },
   "source": [
    "# Context\n",
    "\n",
    "Buying and selling used phones and tablets used to be something that happened on a handful of online marketplace sites. But the used and refurbished device market has grown considerably over the past decade, and a new IDC (International Data Corporation) forecast predicts that the used phone market would be worth \\\\$52.7bn by 2023 with a compound annual growth rate (CAGR) of 13.6% from 2018 to 2023. This growth can be attributed to an uptick in demand for used phones and tablets that offer considerable savings compared with new models.\n",
    "\n",
    "Refurbished and used devices continue to provide cost-effective alternatives to both consumers and businesses that are looking to save money when purchasing one. There are plenty of other benefits associated with the used device market. Used and refurbished devices can be sold with warranties and can also be insured with proof of purchase. Third-party vendors/platforms, such as Verizon, Amazon, etc., provide attractive offers to customers for refurbished devices. Maximizing the longevity of devices through second-hand trade also reduces their environmental impact and helps in recycling and reducing waste. The impact of the COVID-19 outbreak may further boost this segment as consumers cut back on discretionary spending and buy phones and tablets only for immediate needs.\n",
    "\n",
    " \n",
    "# Objective\n",
    "\n",
    "The rising potential of this comparatively under-the-radar market fuels the need for an ML-based solution to develop a dynamic pricing strategy for used and refurbished devices. ReCell, a startup aiming to tap the potential in this market, has hired you as a data scientist. They want you to analyze the data provided and build a linear regression model to predict the price of a used phone/tablet and identify factors that significantly influence it.\n",
    "\n",
    " \n",
    "# Data Description\n",
    "The data contains the different attributes of used/refurbished phones and tablets. The detailed data dictionary is given below.\n",
    "\n",
    "**Data Dictionary**\n",
    "\n",
    "- brand_name: Name of manufacturing brand\n",
    "- os: OS on which the device runs\n",
    "- screen_size: Size of the screen in cm\n",
    "- 4g: Whether 4G is available or not\n",
    "- 5g: Whether 5G is available or not\n",
    "- main_camera_mp: Resolution of the rear camera in megapixels\n",
    "- selfie_camera_mp: Resolution of the front camera in megapixels\n",
    "- int_memory: Amount of internal memory (ROM) in GB\n",
    "- ram: Amount of RAM in GB\n",
    "- battery: Energy capacity of the device battery in mAh\n",
    "- weight: Weight of the device in grams\n",
    "- release_year: Year when the device model was released\n",
    "- days_used: Number of days the used/refurbished device has been used\n",
    "- new_price: Price of a new device of the same model in euros\n",
    "- used_price: Price of the used/refurbished device in euros"
   ]
  },
  {
   "cell_type": "markdown",
   "metadata": {
    "id": "GLmC-0-fDPyI"
   },
   "source": [
    "# Importing necessary libraries and data"
   ]
  },
  {
   "cell_type": "code",
   "execution_count": 1,
   "metadata": {
    "id": "zeF8YaNKDPyK"
   },
   "outputs": [],
   "source": [
    "import numpy as np\n",
    "import pandas as pd\n",
    "import seaborn as sns\n",
    "import matplotlib.pyplot as plt\n",
    "sns.set()\n",
    "import warnings\n",
    "warnings.filterwarnings('ignore')\n",
    "\n",
    "# split the data into train and test\n",
    "from sklearn.model_selection import train_test_split\n",
    "\n",
    "# to build linear regression_model\n",
    "from sklearn.linear_model import LinearRegression\n",
    "\n",
    "# to check model performance\n",
    "from sklearn.metrics import mean_absolute_error, mean_squared_error, r2_score\n",
    "\n",
    "# to build linear regression_model using statsmodels\n",
    "import statsmodels.api as sm\n",
    "\n",
    "# to compute VIF\n",
    "from statsmodels.stats.outliers_influence import variance_inflation_factor"
   ]
  },
  {
   "cell_type": "markdown",
   "metadata": {
    "id": "UvpMDcaaMKtI"
   },
   "source": [
    "# Data Overview\n",
    "\n",
    "- Observations\n",
    "- Sanity checks"
   ]
  },
  {
   "cell_type": "code",
   "execution_count": 2,
   "metadata": {
    "id": "01hJQ7EfMKtK"
   },
   "outputs": [],
   "source": [
    "data = pd.read_csv('used_device_data.csv')"
   ]
  },
  {
   "cell_type": "code",
   "execution_count": 3,
   "metadata": {},
   "outputs": [
    {
     "data": {
      "text/plain": [
       "(3454, 15)"
      ]
     },
     "execution_count": 3,
     "metadata": {},
     "output_type": "execute_result"
    }
   ],
   "source": [
    "data.shape"
   ]
  },
  {
   "cell_type": "code",
   "execution_count": 4,
   "metadata": {},
   "outputs": [
    {
     "name": "stdout",
     "output_type": "stream",
     "text": [
      "There are 3454 rows and 15 columns\n"
     ]
    }
   ],
   "source": [
    "print(f\"There are {data.shape[0]} rows and {data.shape[1]} columns\")"
   ]
  },
  {
   "cell_type": "code",
   "execution_count": 5,
   "metadata": {},
   "outputs": [
    {
     "name": "stdout",
     "output_type": "stream",
     "text": [
      "<class 'pandas.core.frame.DataFrame'>\n",
      "RangeIndex: 3454 entries, 0 to 3453\n",
      "Data columns (total 15 columns):\n",
      " #   Column            Non-Null Count  Dtype  \n",
      "---  ------            --------------  -----  \n",
      " 0   brand_name        3454 non-null   object \n",
      " 1   os                3454 non-null   object \n",
      " 2   screen_size       3454 non-null   float64\n",
      " 3   4g                3454 non-null   object \n",
      " 4   5g                3454 non-null   object \n",
      " 5   main_camera_mp    3275 non-null   float64\n",
      " 6   selfie_camera_mp  3452 non-null   float64\n",
      " 7   int_memory        3450 non-null   float64\n",
      " 8   ram               3450 non-null   float64\n",
      " 9   battery           3448 non-null   float64\n",
      " 10  weight            3447 non-null   float64\n",
      " 11  release_year      3454 non-null   int64  \n",
      " 12  days_used         3454 non-null   int64  \n",
      " 13  new_price         3454 non-null   float64\n",
      " 14  used_price        3454 non-null   float64\n",
      "dtypes: float64(9), int64(2), object(4)\n",
      "memory usage: 404.9+ KB\n"
     ]
    }
   ],
   "source": [
    "data.info()"
   ]
  },
  {
   "cell_type": "code",
   "execution_count": 6,
   "metadata": {},
   "outputs": [
    {
     "data": {
      "text/html": [
       "<div>\n",
       "<style scoped>\n",
       "    .dataframe tbody tr th:only-of-type {\n",
       "        vertical-align: middle;\n",
       "    }\n",
       "\n",
       "    .dataframe tbody tr th {\n",
       "        vertical-align: top;\n",
       "    }\n",
       "\n",
       "    .dataframe thead th {\n",
       "        text-align: right;\n",
       "    }\n",
       "</style>\n",
       "<table border=\"1\" class=\"dataframe\">\n",
       "  <thead>\n",
       "    <tr style=\"text-align: right;\">\n",
       "      <th></th>\n",
       "      <th>brand_name</th>\n",
       "      <th>os</th>\n",
       "      <th>screen_size</th>\n",
       "      <th>4g</th>\n",
       "      <th>5g</th>\n",
       "      <th>main_camera_mp</th>\n",
       "      <th>selfie_camera_mp</th>\n",
       "      <th>int_memory</th>\n",
       "      <th>ram</th>\n",
       "      <th>battery</th>\n",
       "      <th>weight</th>\n",
       "      <th>release_year</th>\n",
       "      <th>days_used</th>\n",
       "      <th>new_price</th>\n",
       "      <th>used_price</th>\n",
       "    </tr>\n",
       "  </thead>\n",
       "  <tbody>\n",
       "    <tr>\n",
       "      <th>1207</th>\n",
       "      <td>HTC</td>\n",
       "      <td>Android</td>\n",
       "      <td>12.70</td>\n",
       "      <td>no</td>\n",
       "      <td>no</td>\n",
       "      <td>8.0</td>\n",
       "      <td>5.0</td>\n",
       "      <td>32.0</td>\n",
       "      <td>4.0</td>\n",
       "      <td>2100.0</td>\n",
       "      <td>160.00</td>\n",
       "      <td>2014</td>\n",
       "      <td>1044</td>\n",
       "      <td>190.05</td>\n",
       "      <td>70.70</td>\n",
       "    </tr>\n",
       "    <tr>\n",
       "      <th>143</th>\n",
       "      <td>Samsung</td>\n",
       "      <td>Android</td>\n",
       "      <td>20.32</td>\n",
       "      <td>yes</td>\n",
       "      <td>no</td>\n",
       "      <td>5.0</td>\n",
       "      <td>2.0</td>\n",
       "      <td>16.0</td>\n",
       "      <td>1.5</td>\n",
       "      <td>4200.0</td>\n",
       "      <td>313.00</td>\n",
       "      <td>2015</td>\n",
       "      <td>909</td>\n",
       "      <td>210.23</td>\n",
       "      <td>75.65</td>\n",
       "    </tr>\n",
       "    <tr>\n",
       "      <th>3202</th>\n",
       "      <td>Huawei</td>\n",
       "      <td>Android</td>\n",
       "      <td>16.69</td>\n",
       "      <td>yes</td>\n",
       "      <td>yes</td>\n",
       "      <td>10.5</td>\n",
       "      <td>16.0</td>\n",
       "      <td>128.0</td>\n",
       "      <td>8.0</td>\n",
       "      <td>4000.0</td>\n",
       "      <td>178.00</td>\n",
       "      <td>2020</td>\n",
       "      <td>221</td>\n",
       "      <td>469.87</td>\n",
       "      <td>128.57</td>\n",
       "    </tr>\n",
       "    <tr>\n",
       "      <th>1127</th>\n",
       "      <td>Honor</td>\n",
       "      <td>Android</td>\n",
       "      <td>10.29</td>\n",
       "      <td>no</td>\n",
       "      <td>no</td>\n",
       "      <td>8.0</td>\n",
       "      <td>2.0</td>\n",
       "      <td>32.0</td>\n",
       "      <td>4.0</td>\n",
       "      <td>1730.0</td>\n",
       "      <td>159.00</td>\n",
       "      <td>2015</td>\n",
       "      <td>894</td>\n",
       "      <td>69.98</td>\n",
       "      <td>48.57</td>\n",
       "    </tr>\n",
       "    <tr>\n",
       "      <th>2926</th>\n",
       "      <td>Xiaomi</td>\n",
       "      <td>Android</td>\n",
       "      <td>14.83</td>\n",
       "      <td>yes</td>\n",
       "      <td>no</td>\n",
       "      <td>13.0</td>\n",
       "      <td>8.0</td>\n",
       "      <td>64.0</td>\n",
       "      <td>4.0</td>\n",
       "      <td>3000.0</td>\n",
       "      <td>150.00</td>\n",
       "      <td>2018</td>\n",
       "      <td>446</td>\n",
       "      <td>169.30</td>\n",
       "      <td>105.80</td>\n",
       "    </tr>\n",
       "    <tr>\n",
       "      <th>1726</th>\n",
       "      <td>LG</td>\n",
       "      <td>Android</td>\n",
       "      <td>7.67</td>\n",
       "      <td>no</td>\n",
       "      <td>no</td>\n",
       "      <td>2.0</td>\n",
       "      <td>1.3</td>\n",
       "      <td>16.0</td>\n",
       "      <td>4.0</td>\n",
       "      <td>1540.0</td>\n",
       "      <td>140.45</td>\n",
       "      <td>2014</td>\n",
       "      <td>952</td>\n",
       "      <td>61.35</td>\n",
       "      <td>29.49</td>\n",
       "    </tr>\n",
       "    <tr>\n",
       "      <th>62</th>\n",
       "      <td>Infinix</td>\n",
       "      <td>Android</td>\n",
       "      <td>15.39</td>\n",
       "      <td>yes</td>\n",
       "      <td>no</td>\n",
       "      <td>NaN</td>\n",
       "      <td>16.0</td>\n",
       "      <td>32.0</td>\n",
       "      <td>3.0</td>\n",
       "      <td>4000.0</td>\n",
       "      <td>178.00</td>\n",
       "      <td>2019</td>\n",
       "      <td>316</td>\n",
       "      <td>99.70</td>\n",
       "      <td>95.13</td>\n",
       "    </tr>\n",
       "    <tr>\n",
       "      <th>3273</th>\n",
       "      <td>Sony</td>\n",
       "      <td>Android</td>\n",
       "      <td>15.37</td>\n",
       "      <td>yes</td>\n",
       "      <td>yes</td>\n",
       "      <td>NaN</td>\n",
       "      <td>8.0</td>\n",
       "      <td>256.0</td>\n",
       "      <td>8.0</td>\n",
       "      <td>4000.0</td>\n",
       "      <td>181.40</td>\n",
       "      <td>2020</td>\n",
       "      <td>236</td>\n",
       "      <td>934.15</td>\n",
       "      <td>240.67</td>\n",
       "    </tr>\n",
       "    <tr>\n",
       "      <th>1411</th>\n",
       "      <td>Others</td>\n",
       "      <td>Others</td>\n",
       "      <td>19.94</td>\n",
       "      <td>no</td>\n",
       "      <td>no</td>\n",
       "      <td>5.0</td>\n",
       "      <td>2.0</td>\n",
       "      <td>32.0</td>\n",
       "      <td>4.0</td>\n",
       "      <td>4450.0</td>\n",
       "      <td>384.00</td>\n",
       "      <td>2014</td>\n",
       "      <td>767</td>\n",
       "      <td>170.81</td>\n",
       "      <td>78.89</td>\n",
       "    </tr>\n",
       "    <tr>\n",
       "      <th>551</th>\n",
       "      <td>Alcatel</td>\n",
       "      <td>Android</td>\n",
       "      <td>10.29</td>\n",
       "      <td>no</td>\n",
       "      <td>no</td>\n",
       "      <td>5.0</td>\n",
       "      <td>0.3</td>\n",
       "      <td>16.0</td>\n",
       "      <td>4.0</td>\n",
       "      <td>1800.0</td>\n",
       "      <td>157.00</td>\n",
       "      <td>2013</td>\n",
       "      <td>921</td>\n",
       "      <td>99.85</td>\n",
       "      <td>51.29</td>\n",
       "    </tr>\n",
       "  </tbody>\n",
       "</table>\n",
       "</div>"
      ],
      "text/plain": [
       "     brand_name       os  screen_size   4g   5g  main_camera_mp  \\\n",
       "1207        HTC  Android        12.70   no   no             8.0   \n",
       "143     Samsung  Android        20.32  yes   no             5.0   \n",
       "3202     Huawei  Android        16.69  yes  yes            10.5   \n",
       "1127      Honor  Android        10.29   no   no             8.0   \n",
       "2926     Xiaomi  Android        14.83  yes   no            13.0   \n",
       "1726         LG  Android         7.67   no   no             2.0   \n",
       "62      Infinix  Android        15.39  yes   no             NaN   \n",
       "3273       Sony  Android        15.37  yes  yes             NaN   \n",
       "1411     Others   Others        19.94   no   no             5.0   \n",
       "551     Alcatel  Android        10.29   no   no             5.0   \n",
       "\n",
       "      selfie_camera_mp  int_memory  ram  battery  weight  release_year  \\\n",
       "1207               5.0        32.0  4.0   2100.0  160.00          2014   \n",
       "143                2.0        16.0  1.5   4200.0  313.00          2015   \n",
       "3202              16.0       128.0  8.0   4000.0  178.00          2020   \n",
       "1127               2.0        32.0  4.0   1730.0  159.00          2015   \n",
       "2926               8.0        64.0  4.0   3000.0  150.00          2018   \n",
       "1726               1.3        16.0  4.0   1540.0  140.45          2014   \n",
       "62                16.0        32.0  3.0   4000.0  178.00          2019   \n",
       "3273               8.0       256.0  8.0   4000.0  181.40          2020   \n",
       "1411               2.0        32.0  4.0   4450.0  384.00          2014   \n",
       "551                0.3        16.0  4.0   1800.0  157.00          2013   \n",
       "\n",
       "      days_used  new_price  used_price  \n",
       "1207       1044     190.05       70.70  \n",
       "143         909     210.23       75.65  \n",
       "3202        221     469.87      128.57  \n",
       "1127        894      69.98       48.57  \n",
       "2926        446     169.30      105.80  \n",
       "1726        952      61.35       29.49  \n",
       "62          316      99.70       95.13  \n",
       "3273        236     934.15      240.67  \n",
       "1411        767     170.81       78.89  \n",
       "551         921      99.85       51.29  "
      ]
     },
     "execution_count": 6,
     "metadata": {},
     "output_type": "execute_result"
    }
   ],
   "source": [
    "data.sample(10, random_state=2)"
   ]
  },
  {
   "cell_type": "markdown",
   "metadata": {},
   "source": [
    "Looking at the sample and the info, I see that there are 4 object columns and two integer columns. One of these integers is release year, so I'll likely want to convert that to date time. For the object columns I'm going to look into converting these to dummy variables (upon further inspection, it appears a phone can be both 4g and 5g, so I won't be able to use dummy variables to get rid of one of these columns). I'm also initially unsure of the units on the screen size, battery and weight columns, so for my own knowledge I'll want to look into those to give me a better intuitive understanding of the data set."
   ]
  },
  {
   "cell_type": "code",
   "execution_count": 7,
   "metadata": {},
   "outputs": [],
   "source": [
    "df = data.copy()"
   ]
  },
  {
   "cell_type": "code",
   "execution_count": 8,
   "metadata": {},
   "outputs": [
    {
     "data": {
      "text/plain": [
       "0"
      ]
     },
     "execution_count": 8,
     "metadata": {},
     "output_type": "execute_result"
    }
   ],
   "source": [
    "df.duplicated().sum()"
   ]
  },
  {
   "cell_type": "code",
   "execution_count": 9,
   "metadata": {},
   "outputs": [
    {
     "data": {
      "text/plain": [
       "brand_name            0\n",
       "os                    0\n",
       "screen_size           0\n",
       "4g                    0\n",
       "5g                    0\n",
       "main_camera_mp      179\n",
       "selfie_camera_mp      2\n",
       "int_memory            4\n",
       "ram                   4\n",
       "battery               6\n",
       "weight                7\n",
       "release_year          0\n",
       "days_used             0\n",
       "new_price             0\n",
       "used_price            0\n",
       "dtype: int64"
      ]
     },
     "execution_count": 9,
     "metadata": {},
     "output_type": "execute_result"
    }
   ],
   "source": [
    "df.isnull().sum()"
   ]
  },
  {
   "cell_type": "markdown",
   "metadata": {},
   "source": [
    "The number of missing values is relatively low, with only the main_camera_mp being above 7 total. Even for that column, there are 179 NaN values out of nearly 3500 rows, so about 95% of those entries have values. We'll still want to investigate these values to see if we can replace them or if there's any pattern to which entries they're missing for."
   ]
  },
  {
   "cell_type": "markdown",
   "metadata": {
    "id": "__7ciGcIDPyk"
   },
   "source": [
    "# Exploratory Data Analysis (EDA)\n",
    "\n",
    "- EDA is an important part of any project involving data.\n",
    "- It is important to investigate and understand the data better before building a model with it.\n",
    "- A few questions have been mentioned below which will help you approach the analysis in the right manner and generate insights from the data.\n",
    "- A thorough analysis of the data, in addition to the questions mentioned below, should be done."
   ]
  },
  {
   "cell_type": "markdown",
   "metadata": {
    "id": "oEyqzdJBb0jU"
   },
   "source": [
    "**Questions**:\n",
    "\n",
    "1. What does the distribution of used device prices look like?\n",
    "2. What percentage of the used device market is dominated by Android devices?\n",
    "3. The amount of RAM is important for the smooth functioning of a device. How does the amount of RAM vary with the brand?\n",
    "4. A large battery often increases a device's weight, making it feel uncomfortable in the hands. How does the weight vary for phones and tablets offering large batteries (more than 4500 mAh)?\n",
    "5. Bigger screens are desirable for entertainment purposes as they offer a better viewing experience. How many phones and tablets are available across different brands with a screen size larger than 6 inches?\n",
    "6. Budget devices nowadays offer great selfie cameras, allowing us to capture our favorite moments with loved ones. What is the distribution of budget devices offering greater than 8MP selfie cameras across brands?\n",
    "7. Which attributes are highly correlated with the price of a used device?"
   ]
  },
  {
   "cell_type": "code",
   "execution_count": 10,
   "metadata": {
    "id": "cN1lyueHttwW"
   },
   "outputs": [
    {
     "data": {
      "text/html": [
       "<div>\n",
       "<style scoped>\n",
       "    .dataframe tbody tr th:only-of-type {\n",
       "        vertical-align: middle;\n",
       "    }\n",
       "\n",
       "    .dataframe tbody tr th {\n",
       "        vertical-align: top;\n",
       "    }\n",
       "\n",
       "    .dataframe thead th {\n",
       "        text-align: right;\n",
       "    }\n",
       "</style>\n",
       "<table border=\"1\" class=\"dataframe\">\n",
       "  <thead>\n",
       "    <tr style=\"text-align: right;\">\n",
       "      <th></th>\n",
       "      <th>count</th>\n",
       "      <th>unique</th>\n",
       "      <th>top</th>\n",
       "      <th>freq</th>\n",
       "      <th>mean</th>\n",
       "      <th>std</th>\n",
       "      <th>min</th>\n",
       "      <th>25%</th>\n",
       "      <th>50%</th>\n",
       "      <th>75%</th>\n",
       "      <th>max</th>\n",
       "    </tr>\n",
       "  </thead>\n",
       "  <tbody>\n",
       "    <tr>\n",
       "      <th>brand_name</th>\n",
       "      <td>3454</td>\n",
       "      <td>34</td>\n",
       "      <td>Others</td>\n",
       "      <td>502</td>\n",
       "      <td>NaN</td>\n",
       "      <td>NaN</td>\n",
       "      <td>NaN</td>\n",
       "      <td>NaN</td>\n",
       "      <td>NaN</td>\n",
       "      <td>NaN</td>\n",
       "      <td>NaN</td>\n",
       "    </tr>\n",
       "    <tr>\n",
       "      <th>os</th>\n",
       "      <td>3454</td>\n",
       "      <td>4</td>\n",
       "      <td>Android</td>\n",
       "      <td>3214</td>\n",
       "      <td>NaN</td>\n",
       "      <td>NaN</td>\n",
       "      <td>NaN</td>\n",
       "      <td>NaN</td>\n",
       "      <td>NaN</td>\n",
       "      <td>NaN</td>\n",
       "      <td>NaN</td>\n",
       "    </tr>\n",
       "    <tr>\n",
       "      <th>screen_size</th>\n",
       "      <td>3454.0</td>\n",
       "      <td>NaN</td>\n",
       "      <td>NaN</td>\n",
       "      <td>NaN</td>\n",
       "      <td>13.713115</td>\n",
       "      <td>3.80528</td>\n",
       "      <td>5.08</td>\n",
       "      <td>12.7</td>\n",
       "      <td>12.83</td>\n",
       "      <td>15.34</td>\n",
       "      <td>30.71</td>\n",
       "    </tr>\n",
       "    <tr>\n",
       "      <th>4g</th>\n",
       "      <td>3454</td>\n",
       "      <td>2</td>\n",
       "      <td>yes</td>\n",
       "      <td>2335</td>\n",
       "      <td>NaN</td>\n",
       "      <td>NaN</td>\n",
       "      <td>NaN</td>\n",
       "      <td>NaN</td>\n",
       "      <td>NaN</td>\n",
       "      <td>NaN</td>\n",
       "      <td>NaN</td>\n",
       "    </tr>\n",
       "    <tr>\n",
       "      <th>5g</th>\n",
       "      <td>3454</td>\n",
       "      <td>2</td>\n",
       "      <td>no</td>\n",
       "      <td>3302</td>\n",
       "      <td>NaN</td>\n",
       "      <td>NaN</td>\n",
       "      <td>NaN</td>\n",
       "      <td>NaN</td>\n",
       "      <td>NaN</td>\n",
       "      <td>NaN</td>\n",
       "      <td>NaN</td>\n",
       "    </tr>\n",
       "    <tr>\n",
       "      <th>main_camera_mp</th>\n",
       "      <td>3275.0</td>\n",
       "      <td>NaN</td>\n",
       "      <td>NaN</td>\n",
       "      <td>NaN</td>\n",
       "      <td>9.460208</td>\n",
       "      <td>4.815461</td>\n",
       "      <td>0.08</td>\n",
       "      <td>5.0</td>\n",
       "      <td>8.0</td>\n",
       "      <td>13.0</td>\n",
       "      <td>48.0</td>\n",
       "    </tr>\n",
       "    <tr>\n",
       "      <th>selfie_camera_mp</th>\n",
       "      <td>3452.0</td>\n",
       "      <td>NaN</td>\n",
       "      <td>NaN</td>\n",
       "      <td>NaN</td>\n",
       "      <td>6.554229</td>\n",
       "      <td>6.970372</td>\n",
       "      <td>0.0</td>\n",
       "      <td>2.0</td>\n",
       "      <td>5.0</td>\n",
       "      <td>8.0</td>\n",
       "      <td>32.0</td>\n",
       "    </tr>\n",
       "    <tr>\n",
       "      <th>int_memory</th>\n",
       "      <td>3450.0</td>\n",
       "      <td>NaN</td>\n",
       "      <td>NaN</td>\n",
       "      <td>NaN</td>\n",
       "      <td>54.573099</td>\n",
       "      <td>84.972371</td>\n",
       "      <td>0.01</td>\n",
       "      <td>16.0</td>\n",
       "      <td>32.0</td>\n",
       "      <td>64.0</td>\n",
       "      <td>1024.0</td>\n",
       "    </tr>\n",
       "    <tr>\n",
       "      <th>ram</th>\n",
       "      <td>3450.0</td>\n",
       "      <td>NaN</td>\n",
       "      <td>NaN</td>\n",
       "      <td>NaN</td>\n",
       "      <td>4.036122</td>\n",
       "      <td>1.365105</td>\n",
       "      <td>0.02</td>\n",
       "      <td>4.0</td>\n",
       "      <td>4.0</td>\n",
       "      <td>4.0</td>\n",
       "      <td>12.0</td>\n",
       "    </tr>\n",
       "    <tr>\n",
       "      <th>battery</th>\n",
       "      <td>3448.0</td>\n",
       "      <td>NaN</td>\n",
       "      <td>NaN</td>\n",
       "      <td>NaN</td>\n",
       "      <td>3133.402697</td>\n",
       "      <td>1299.682844</td>\n",
       "      <td>500.0</td>\n",
       "      <td>2100.0</td>\n",
       "      <td>3000.0</td>\n",
       "      <td>4000.0</td>\n",
       "      <td>9720.0</td>\n",
       "    </tr>\n",
       "    <tr>\n",
       "      <th>weight</th>\n",
       "      <td>3447.0</td>\n",
       "      <td>NaN</td>\n",
       "      <td>NaN</td>\n",
       "      <td>NaN</td>\n",
       "      <td>182.751871</td>\n",
       "      <td>88.413228</td>\n",
       "      <td>69.0</td>\n",
       "      <td>142.0</td>\n",
       "      <td>160.0</td>\n",
       "      <td>185.0</td>\n",
       "      <td>855.0</td>\n",
       "    </tr>\n",
       "    <tr>\n",
       "      <th>release_year</th>\n",
       "      <td>3454.0</td>\n",
       "      <td>NaN</td>\n",
       "      <td>NaN</td>\n",
       "      <td>NaN</td>\n",
       "      <td>2015.965258</td>\n",
       "      <td>2.298455</td>\n",
       "      <td>2013.0</td>\n",
       "      <td>2014.0</td>\n",
       "      <td>2015.5</td>\n",
       "      <td>2018.0</td>\n",
       "      <td>2020.0</td>\n",
       "    </tr>\n",
       "    <tr>\n",
       "      <th>days_used</th>\n",
       "      <td>3454.0</td>\n",
       "      <td>NaN</td>\n",
       "      <td>NaN</td>\n",
       "      <td>NaN</td>\n",
       "      <td>674.869716</td>\n",
       "      <td>248.580166</td>\n",
       "      <td>91.0</td>\n",
       "      <td>533.5</td>\n",
       "      <td>690.5</td>\n",
       "      <td>868.75</td>\n",
       "      <td>1094.0</td>\n",
       "    </tr>\n",
       "    <tr>\n",
       "      <th>new_price</th>\n",
       "      <td>3454.0</td>\n",
       "      <td>NaN</td>\n",
       "      <td>NaN</td>\n",
       "      <td>NaN</td>\n",
       "      <td>237.038848</td>\n",
       "      <td>194.302782</td>\n",
       "      <td>18.2</td>\n",
       "      <td>120.3425</td>\n",
       "      <td>189.785</td>\n",
       "      <td>291.115</td>\n",
       "      <td>2560.2</td>\n",
       "    </tr>\n",
       "    <tr>\n",
       "      <th>used_price</th>\n",
       "      <td>3454.0</td>\n",
       "      <td>NaN</td>\n",
       "      <td>NaN</td>\n",
       "      <td>NaN</td>\n",
       "      <td>92.302936</td>\n",
       "      <td>54.701648</td>\n",
       "      <td>4.65</td>\n",
       "      <td>56.4825</td>\n",
       "      <td>81.87</td>\n",
       "      <td>116.245</td>\n",
       "      <td>749.52</td>\n",
       "    </tr>\n",
       "  </tbody>\n",
       "</table>\n",
       "</div>"
      ],
      "text/plain": [
       "                   count unique      top  freq         mean          std  \\\n",
       "brand_name          3454     34   Others   502          NaN          NaN   \n",
       "os                  3454      4  Android  3214          NaN          NaN   \n",
       "screen_size       3454.0    NaN      NaN   NaN    13.713115      3.80528   \n",
       "4g                  3454      2      yes  2335          NaN          NaN   \n",
       "5g                  3454      2       no  3302          NaN          NaN   \n",
       "main_camera_mp    3275.0    NaN      NaN   NaN     9.460208     4.815461   \n",
       "selfie_camera_mp  3452.0    NaN      NaN   NaN     6.554229     6.970372   \n",
       "int_memory        3450.0    NaN      NaN   NaN    54.573099    84.972371   \n",
       "ram               3450.0    NaN      NaN   NaN     4.036122     1.365105   \n",
       "battery           3448.0    NaN      NaN   NaN  3133.402697  1299.682844   \n",
       "weight            3447.0    NaN      NaN   NaN   182.751871    88.413228   \n",
       "release_year      3454.0    NaN      NaN   NaN  2015.965258     2.298455   \n",
       "days_used         3454.0    NaN      NaN   NaN   674.869716   248.580166   \n",
       "new_price         3454.0    NaN      NaN   NaN   237.038848   194.302782   \n",
       "used_price        3454.0    NaN      NaN   NaN    92.302936    54.701648   \n",
       "\n",
       "                     min       25%      50%      75%     max  \n",
       "brand_name           NaN       NaN      NaN      NaN     NaN  \n",
       "os                   NaN       NaN      NaN      NaN     NaN  \n",
       "screen_size         5.08      12.7    12.83    15.34   30.71  \n",
       "4g                   NaN       NaN      NaN      NaN     NaN  \n",
       "5g                   NaN       NaN      NaN      NaN     NaN  \n",
       "main_camera_mp      0.08       5.0      8.0     13.0    48.0  \n",
       "selfie_camera_mp     0.0       2.0      5.0      8.0    32.0  \n",
       "int_memory          0.01      16.0     32.0     64.0  1024.0  \n",
       "ram                 0.02       4.0      4.0      4.0    12.0  \n",
       "battery            500.0    2100.0   3000.0   4000.0  9720.0  \n",
       "weight              69.0     142.0    160.0    185.0   855.0  \n",
       "release_year      2013.0    2014.0   2015.5   2018.0  2020.0  \n",
       "days_used           91.0     533.5    690.5   868.75  1094.0  \n",
       "new_price           18.2  120.3425  189.785  291.115  2560.2  \n",
       "used_price          4.65   56.4825    81.87  116.245  749.52  "
      ]
     },
     "execution_count": 10,
     "metadata": {},
     "output_type": "execute_result"
    }
   ],
   "source": [
    "df.describe(include = \"all\").T"
   ]
  },
  {
   "cell_type": "code",
   "execution_count": 11,
   "metadata": {},
   "outputs": [],
   "source": [
    "def histogram_boxplot(data, feature, figsize=(12, 7), kde=False, bins=None):\n",
    "    \"\"\"\n",
    "    Boxplot and histogram combined\n",
    "\n",
    "    data: dataframe\n",
    "    feature: dataframe column\n",
    "    figsize: size of figure (default (12,7))\n",
    "    kde: whether to the show density curve (default False)\n",
    "    bins: number of bins for histogram (default None)\n",
    "    \"\"\"\n",
    "    f2, (ax_box2, ax_hist2) = plt.subplots(\n",
    "        nrows=2,  # Number of rows of the subplot grid= 2\n",
    "        sharex=True,  # x-axis will be shared among all subplots\n",
    "        gridspec_kw={\"height_ratios\": (0.25, 0.75)},\n",
    "        figsize=figsize,\n",
    "    )  # creating the 2 subplots\n",
    "    sns.boxplot(\n",
    "        data=data, x=feature, ax=ax_box2, showmeans=True, color=\"violet\"\n",
    "    )  # boxplot will be created and a star will indicate the mean value of the column\n",
    "    sns.histplot(\n",
    "        data=data, x=feature, kde=kde, ax=ax_hist2, bins=bins, palette=\"winter\"\n",
    "    ) if bins else sns.histplot(\n",
    "        data=data, x=feature, kde=kde, ax=ax_hist2\n",
    "    )  # For histogram\n",
    "    ax_hist2.axvline(\n",
    "        data[feature].mean(), color=\"green\", linestyle=\"--\"\n",
    "    )  # Add mean to the histogram\n",
    "    ax_hist2.axvline(\n",
    "        data[feature].median(), color=\"black\", linestyle=\"-\"\n",
    "    )  # Add median to the histogram"
   ]
  },
  {
   "cell_type": "code",
   "execution_count": 12,
   "metadata": {},
   "outputs": [],
   "source": [
    "# function to create labeled barplots\n",
    "\n",
    "\n",
    "def labeled_barplot(data, feature, perc=False, n=None):\n",
    "    \"\"\"\n",
    "    Barplot with percentage at the top\n",
    "\n",
    "    data: dataframe\n",
    "    feature: dataframe column\n",
    "    perc: whether to display percentages instead of count (default is False)\n",
    "    n: displays the top n category levels (default is None, i.e., display all levels)\n",
    "    \"\"\"\n",
    "\n",
    "    total = len(data[feature])  # length of the column\n",
    "    count = data[feature].nunique()\n",
    "    if n is None:\n",
    "        plt.figure(figsize=(count + 1, 5))\n",
    "    else:\n",
    "        plt.figure(figsize=(n + 1, 5))\n",
    "\n",
    "    plt.xticks(rotation=90, fontsize=15)\n",
    "    ax = sns.countplot(\n",
    "        data=data,\n",
    "        x=feature,\n",
    "        palette=\"Paired\",\n",
    "        order=data[feature].value_counts().index[:n].sort_values(),\n",
    "    )\n",
    "\n",
    "    for p in ax.patches:\n",
    "        if perc == True:\n",
    "            label = \"{:.1f}%\".format(\n",
    "                100 * p.get_height() / total\n",
    "            )  # percentage of each class of the category\n",
    "        else:\n",
    "            label = p.get_height()  # count of each level of the category\n",
    "\n",
    "        x = p.get_x() + p.get_width() / 2  # width of the plot\n",
    "        y = p.get_height()  # height of the plot\n",
    "\n",
    "        ax.annotate(\n",
    "            label,\n",
    "            (x, y),\n",
    "            ha=\"center\",\n",
    "            va=\"center\",\n",
    "            size=12,\n",
    "            xytext=(0, 5),\n",
    "            textcoords=\"offset points\",\n",
    "        )  # annotate the percentage\n",
    "\n",
    "    plt.show()  # show the plot"
   ]
  },
  {
   "cell_type": "markdown",
   "metadata": {},
   "source": [
    "## Question 1 Used Price"
   ]
  },
  {
   "cell_type": "code",
   "execution_count": 13,
   "metadata": {},
   "outputs": [
    {
     "data": {
      "image/png": "[encoded data removed]",
      "text/plain": [
       "<Figure size 864x504 with 2 Axes>"
      ]
     },
     "metadata": {},
     "output_type": "display_data"
    }
   ],
   "source": [
    "histogram_boxplot(df, \"used_price\")"
   ]
  },
  {
   "cell_type": "code",
   "execution_count": 14,
   "metadata": {},
   "outputs": [],
   "source": [
    "df[\"used_price_log\"] = np.log(df[\"used_price\"])"
   ]
  },
  {
   "cell_type": "code",
   "execution_count": 15,
   "metadata": {},
   "outputs": [
    {
     "data": {
      "image/png": "[encoded data removed]",
      "text/plain": [
       "<Figure size 864x504 with 2 Axes>"
      ]
     },
     "metadata": {},
     "output_type": "display_data"
    }
   ],
   "source": [
    "histogram_boxplot(df, \"used_price_log\")"
   ]
  },
  {
   "cell_type": "markdown",
   "metadata": {},
   "source": [
    "Taking the log of the used price makes the distribution much closer to normal."
   ]
  },
  {
   "cell_type": "markdown",
   "metadata": {},
   "source": [
    "## Question 2 What % of Used Devices are Android OS"
   ]
  },
  {
   "cell_type": "code",
   "execution_count": 16,
   "metadata": {},
   "outputs": [
    {
     "data": {
      "text/plain": [
       "os\n",
       "Android    3214\n",
       "Others      137\n",
       "Windows      67\n",
       "iOS          36\n",
       "dtype: int64"
      ]
     },
     "execution_count": 16,
     "metadata": {},
     "output_type": "execute_result"
    }
   ],
   "source": [
    "df.value_counts('os')"
   ]
  },
  {
   "cell_type": "code",
   "execution_count": 17,
   "metadata": {},
   "outputs": [
    {
     "data": {
      "text/plain": [
       "os\n",
       "Android    93.0\n",
       "Others      4.0\n",
       "Windows     2.0\n",
       "iOS         1.0\n",
       "dtype: float64"
      ]
     },
     "execution_count": 17,
     "metadata": {},
     "output_type": "execute_result"
    }
   ],
   "source": [
    "df.value_counts('os', normalize = True).mul(100).round(0)"
   ]
  },
  {
   "cell_type": "markdown",
   "metadata": {},
   "source": [
    "93% of the used devices in our data set run on the Android OS."
   ]
  },
  {
   "cell_type": "markdown",
   "metadata": {},
   "source": [
    "## Question 3 How does RAM vary by brand?"
   ]
  },
  {
   "cell_type": "code",
   "execution_count": 18,
   "metadata": {},
   "outputs": [],
   "source": [
    "grouped_df = df.groupby('brand_name')"
   ]
  },
  {
   "cell_type": "code",
   "execution_count": 19,
   "metadata": {},
   "outputs": [
    {
     "name": "stdout",
     "output_type": "stream",
     "text": [
      "brand_name\n",
      "OnePlus       6.36\n",
      "Oppo          4.96\n",
      "Vivo          4.76\n",
      "Huawei        4.66\n",
      "Honor         4.60\n",
      "Xiaomi        4.58\n",
      "Google        4.53\n",
      "Meizu         4.45\n",
      "Samsung       4.20\n",
      "Realme        4.20\n",
      "Sony          4.07\n",
      "Asus          4.05\n",
      "ZTE           4.02\n",
      "HTC           4.00\n",
      "Apple         4.00\n",
      "XOLO          4.00\n",
      "Microsoft     4.00\n",
      "Panasonic     4.00\n",
      "Coolpad       3.95\n",
      "LG            3.94\n",
      "Motorola      3.94\n",
      "Gionee        3.93\n",
      "Acer          3.90\n",
      "Lenovo        3.89\n",
      "BlackBerry    3.83\n",
      "Others        3.78\n",
      "Spice         3.75\n",
      "Micromax      3.68\n",
      "Alcatel       3.41\n",
      "Karbonn       3.35\n",
      "Lava          3.28\n",
      "Infinix       2.60\n",
      "Nokia         2.42\n",
      "Celkon        1.61\n",
      "Name: ram, dtype: float64\n"
     ]
    }
   ],
   "source": [
    "grouped_df1 = grouped_df.ram.mean().round(2).sort_values(ascending=False)\n",
    "print(grouped_df1)"
   ]
  },
  {
   "cell_type": "code",
   "execution_count": 20,
   "metadata": {},
   "outputs": [
    {
     "data": {
      "text/plain": [
       "count    34.000000\n",
       "mean      3.961765\n",
       "std       0.787376\n",
       "min       1.610000\n",
       "25%       3.792500\n",
       "50%       4.000000\n",
       "75%       4.200000\n",
       "max       6.360000\n",
       "Name: ram, dtype: float64"
      ]
     },
     "execution_count": 20,
     "metadata": {},
     "output_type": "execute_result"
    }
   ],
   "source": [
    "grouped_df1.describe()"
   ]
  },
  {
   "cell_type": "markdown",
   "metadata": {},
   "source": [
    "Average RAM varies widely by brand, from a minimum of 1.61 for Celkon phones to a maximum of 6.36 for OnePlus. The average is very near 4.0 with a std of .787. The IQR is 3.79 to 4.2, which means we have multiple outliers on both sides of the distribution"
   ]
  },
  {
   "cell_type": "code",
   "execution_count": 21,
   "metadata": {},
   "outputs": [
    {
     "data": {
      "image/png": "[encoded data removed]",
      "text/plain": [
       "<Figure size 1080x360 with 1 Axes>"
      ]
     },
     "metadata": {},
     "output_type": "display_data"
    }
   ],
   "source": [
    "plt.figure(figsize=(15, 5))\n",
    "sns.barplot(data=df, x=\"brand_name\", y=\"ram\")\n",
    "plt.xticks(rotation=90)\n",
    "plt.show()"
   ]
  },
  {
   "cell_type": "markdown",
   "metadata": {},
   "source": [
    "## Question 4 How does weight vary on phones with at least 4500 mAh (battery)?"
   ]
  },
  {
   "cell_type": "code",
   "execution_count": 22,
   "metadata": {},
   "outputs": [],
   "source": [
    "large_batt_df = df[df.battery > 4500]"
   ]
  },
  {
   "cell_type": "code",
   "execution_count": 23,
   "metadata": {},
   "outputs": [
    {
     "data": {
      "text/plain": [
       "count    341.000000\n",
       "mean     332.275660\n",
       "std      155.501832\n",
       "min      118.000000\n",
       "25%      198.000000\n",
       "50%      300.000000\n",
       "75%      467.000000\n",
       "max      855.000000\n",
       "Name: weight, dtype: float64"
      ]
     },
     "execution_count": 23,
     "metadata": {},
     "output_type": "execute_result"
    }
   ],
   "source": [
    "large_batt_df.weight.describe()"
   ]
  },
  {
   "cell_type": "code",
   "execution_count": 24,
   "metadata": {},
   "outputs": [
    {
     "data": {
      "text/plain": [
       "count    3447.000000\n",
       "mean      182.751871\n",
       "std        88.413228\n",
       "min        69.000000\n",
       "25%       142.000000\n",
       "50%       160.000000\n",
       "75%       185.000000\n",
       "max       855.000000\n",
       "Name: weight, dtype: float64"
      ]
     },
     "execution_count": 24,
     "metadata": {},
     "output_type": "execute_result"
    }
   ],
   "source": [
    "df.weight.describe()"
   ]
  },
  {
   "cell_type": "code",
   "execution_count": 25,
   "metadata": {},
   "outputs": [
    {
     "data": {
      "image/png": "[encoded data removed]",
      "text/plain": [
       "<Figure size 1080x360 with 1 Axes>"
      ]
     },
     "metadata": {},
     "output_type": "display_data"
    }
   ],
   "source": [
    "plt.figure(figsize=(15, 5))\n",
    "sns.barplot(data=large_batt_df, x=\"brand_name\", y=\"weight\")\n",
    "plt.xticks(rotation=90)\n",
    "plt.show()"
   ]
  },
  {
   "cell_type": "markdown",
   "metadata": {},
   "source": [
    "For phones with large batteries, the mean weight is 332 which is nearly twice as large as the entire data set mean. The IQR ranges from 198 to 467, so the 25th percentile weight on phones with large batteries is above the 75th percentile weight of all the phones in the data set. Based on this, I expect weight and battery size to be highly correlated."
   ]
  },
  {
   "cell_type": "markdown",
   "metadata": {},
   "source": [
    "## Question 5 How many phones for each brand have at least a 6 inch screen?"
   ]
  },
  {
   "cell_type": "code",
   "execution_count": 26,
   "metadata": {},
   "outputs": [],
   "source": [
    "large_screen_df = df[df.screen_size >= 6 * 2.54] # multiplying by 2.54 to convert to inches"
   ]
  },
  {
   "cell_type": "code",
   "execution_count": 27,
   "metadata": {},
   "outputs": [
    {
     "data": {
      "text/plain": [
       "Huawei       157\n",
       "Samsung      131\n",
       "Others       118\n",
       "Vivo          82\n",
       "Oppo          78\n",
       "Lenovo        76\n",
       "Honor         72\n",
       "Xiaomi        69\n",
       "LG            63\n",
       "Asus          51\n",
       "Motorola      43\n",
       "Realme        41\n",
       "Alcatel       34\n",
       "ZTE           25\n",
       "Apple         24\n",
       "Sony          23\n",
       "Meizu         21\n",
       "Acer          20\n",
       "Nokia         19\n",
       "OnePlus       16\n",
       "HTC           14\n",
       "Micromax      11\n",
       "Infinix       10\n",
       "Gionee         8\n",
       "Google         7\n",
       "XOLO           4\n",
       "Panasonic      3\n",
       "Coolpad        3\n",
       "Karbonn        2\n",
       "Spice          2\n",
       "Microsoft      1\n",
       "Name: brand_name, dtype: int64"
      ]
     },
     "execution_count": 27,
     "metadata": {},
     "output_type": "execute_result"
    }
   ],
   "source": [
    "large_screen_df.brand_name.value_counts()"
   ]
  },
  {
   "cell_type": "code",
   "execution_count": 28,
   "metadata": {},
   "outputs": [
    {
     "data": {
      "image/png": "[encoded data removed]",
      "text/plain": [
       "<Figure size 2304x360 with 1 Axes>"
      ]
     },
     "metadata": {},
     "output_type": "display_data"
    }
   ],
   "source": [
    "labeled_barplot(large_screen_df, \"brand_name\", perc = True)"
   ]
  },
  {
   "cell_type": "markdown",
   "metadata": {},
   "source": [
    "Huawei has the most large screen phones of any brand in this data set, although there are 479 listed as \"other\". Each brand has at least 1 phone with a 6 inch screen or larger."
   ]
  },
  {
   "cell_type": "markdown",
   "metadata": {},
   "source": [
    "## Question 6 What's the distribution of budget phones that have a greater than 8mp selfie camera by brand?"
   ]
  },
  {
   "cell_type": "code",
   "execution_count": 29,
   "metadata": {},
   "outputs": [
    {
     "data": {
      "text/plain": [
       "Huawei        87\n",
       "Vivo          78\n",
       "Oppo          75\n",
       "Xiaomi        63\n",
       "Samsung       57\n",
       "Honor         41\n",
       "Others        34\n",
       "LG            32\n",
       "Motorola      26\n",
       "Meizu         24\n",
       "HTC           20\n",
       "ZTE           20\n",
       "Realme        18\n",
       "OnePlus       18\n",
       "Lenovo        14\n",
       "Sony          14\n",
       "Nokia         10\n",
       "Asus           6\n",
       "Infinix        4\n",
       "Gionee         4\n",
       "Coolpad        3\n",
       "BlackBerry     2\n",
       "Micromax       2\n",
       "Panasonic      2\n",
       "Acer           1\n",
       "Name: brand_name, dtype: int64"
      ]
     },
     "execution_count": 29,
     "metadata": {},
     "output_type": "execute_result"
    }
   ],
   "source": [
    "good_selfie_df = df[df.selfie_camera_mp > 8.0]\n",
    "good_selfie_df.brand_name.value_counts()"
   ]
  },
  {
   "cell_type": "code",
   "execution_count": 30,
   "metadata": {},
   "outputs": [
    {
     "data": {
      "image/png": "[encoded data removed]",
      "text/plain": [
       "<Figure size 1872x360 with 1 Axes>"
      ]
     },
     "metadata": {},
     "output_type": "display_data"
    }
   ],
   "source": [
    "labeled_barplot(good_selfie_df, \"brand_name\", perc = True)"
   ]
  },
  {
   "cell_type": "markdown",
   "metadata": {},
   "source": [
    "The brands with the most devices that have high end selfie cameras are Huawei, Vivo, Oppo, Xiaomi and Samsung."
   ]
  },
  {
   "cell_type": "markdown",
   "metadata": {},
   "source": [
    "## Question 7 Which attributes are most highly correlated with used phone price?"
   ]
  },
  {
   "cell_type": "code",
   "execution_count": 31,
   "metadata": {},
   "outputs": [
    {
     "data": {
      "image/png": "[encoded data removed]",
      "text/plain": [
       "<Figure size 1080x504 with 2 Axes>"
      ]
     },
     "metadata": {},
     "output_type": "display_data"
    }
   ],
   "source": [
    "cols_list = df.select_dtypes(include=np.number).columns.tolist()\n",
    "\n",
    "cols_list.remove(\"release_year\") # dropping release_year because it's a date\n",
    "\n",
    "plt.figure(figsize=(15, 7))\n",
    "sns.heatmap(\n",
    "    df[cols_list].corr(), annot=True, vmin=-1, vmax=1, fmt=\".2f\", cmap=\"Spectral\"\n",
    ")\n",
    "plt.show()"
   ]
  },
  {
   "cell_type": "markdown",
   "metadata": {},
   "source": [
    "The variable most highly correlated with used price is the new price of the phone. After that the selfie camera mp, battery, ram and screen size are also highly correlated with the used price. The only variable with a negative correlation is days_used, which makes intuitive sense because that means that older phones are cheaper than less used ones."
   ]
  },
  {
   "cell_type": "markdown",
   "metadata": {},
   "source": [
    "## Additional EDA"
   ]
  },
  {
   "cell_type": "code",
   "execution_count": 32,
   "metadata": {},
   "outputs": [
    {
     "data": {
      "image/png": "[encoded data removed]",
      "text/plain": [
       "<Figure size 864x504 with 2 Axes>"
      ]
     },
     "metadata": {},
     "output_type": "display_data"
    }
   ],
   "source": [
    "histogram_boxplot(df, \"days_used\")"
   ]
  },
  {
   "cell_type": "code",
   "execution_count": 33,
   "metadata": {},
   "outputs": [
    {
     "data": {
      "image/png": "[encoded data removed]",
      "text/plain": [
       "<Figure size 864x504 with 2 Axes>"
      ]
     },
     "metadata": {},
     "output_type": "display_data"
    }
   ],
   "source": [
    "histogram_boxplot(df, \"selfie_camera_mp\")"
   ]
  },
  {
   "cell_type": "code",
   "execution_count": 34,
   "metadata": {},
   "outputs": [
    {
     "data": {
      "image/png": "[encoded data removed]",
      "text/plain": [
       "<Figure size 864x504 with 2 Axes>"
      ]
     },
     "metadata": {},
     "output_type": "display_data"
    }
   ],
   "source": [
    "histogram_boxplot(df, \"new_price\")"
   ]
  },
  {
   "cell_type": "code",
   "execution_count": 35,
   "metadata": {},
   "outputs": [],
   "source": [
    "df[\"new_price_log\"] = np.log(df[\"new_price\"])"
   ]
  },
  {
   "cell_type": "code",
   "execution_count": 36,
   "metadata": {},
   "outputs": [
    {
     "data": {
      "image/png": "[encoded data removed]",
      "text/plain": [
       "<Figure size 864x504 with 2 Axes>"
      ]
     },
     "metadata": {},
     "output_type": "display_data"
    }
   ],
   "source": [
    "histogram_boxplot(df, \"new_price_log\")"
   ]
  },
  {
   "cell_type": "markdown",
   "metadata": {},
   "source": [
    "Similar to Used price, taking the log of new price gets us a distribution much closer to normal"
   ]
  },
  {
   "cell_type": "markdown",
   "metadata": {
    "id": "pVn5toJ7MKte"
   },
   "source": [
    "# Data Preprocessing\n",
    "\n",
    "- Missing value treatment\n",
    "- Feature engineering (if needed)\n",
    "- Outlier detection and treatment (if needed)\n",
    "- Preparing data for modeling\n",
    "- Any other preprocessing steps (if needed)"
   ]
  },
  {
   "cell_type": "markdown",
   "metadata": {
    "id": "zUi6E9EUMKth"
   },
   "source": [
    "## Missing Value Treatment"
   ]
  },
  {
   "cell_type": "code",
   "execution_count": 37,
   "metadata": {},
   "outputs": [],
   "source": [
    "df1 = df.copy()"
   ]
  },
  {
   "cell_type": "code",
   "execution_count": 38,
   "metadata": {},
   "outputs": [
    {
     "data": {
      "text/plain": [
       "brand_name            0\n",
       "os                    0\n",
       "screen_size           0\n",
       "4g                    0\n",
       "5g                    0\n",
       "main_camera_mp      179\n",
       "selfie_camera_mp      2\n",
       "int_memory            4\n",
       "ram                   4\n",
       "battery               6\n",
       "weight                7\n",
       "release_year          0\n",
       "days_used             0\n",
       "new_price             0\n",
       "used_price            0\n",
       "used_price_log        0\n",
       "new_price_log         0\n",
       "dtype: int64"
      ]
     },
     "execution_count": 38,
     "metadata": {},
     "output_type": "execute_result"
    }
   ],
   "source": [
    "df1.isnull().sum()"
   ]
  },
  {
   "cell_type": "code",
   "execution_count": 39,
   "metadata": {},
   "outputs": [],
   "source": [
    "# creating list of columns with nulls\n",
    "cols_impute = [\n",
    "    \"main_camera_mp\",\n",
    "    \"selfie_camera_mp\",\n",
    "    \"int_memory\",\n",
    "    \"ram\",\n",
    "    \"battery\",\n",
    "    \"weight\",\n",
    "]\n",
    "\n",
    "# for loop to fill na's based on median of the column when grouped by brand name and release year\n",
    "for col in cols_impute:\n",
    "    df1[col] = df1.groupby(['brand_name','release_year'])[col].transform(\n",
    "        lambda x: x.fillna(x.median())\n",
    "    )"
   ]
  },
  {
   "cell_type": "code",
   "execution_count": 40,
   "metadata": {},
   "outputs": [
    {
     "data": {
      "text/plain": [
       "brand_name            0\n",
       "os                    0\n",
       "screen_size           0\n",
       "4g                    0\n",
       "5g                    0\n",
       "main_camera_mp      179\n",
       "selfie_camera_mp      2\n",
       "int_memory            0\n",
       "ram                   0\n",
       "battery               6\n",
       "weight                7\n",
       "release_year          0\n",
       "days_used             0\n",
       "new_price             0\n",
       "used_price            0\n",
       "used_price_log        0\n",
       "new_price_log         0\n",
       "dtype: int64"
      ]
     },
     "execution_count": 40,
     "metadata": {},
     "output_type": "execute_result"
    }
   ],
   "source": [
    "df1.isnull().sum()"
   ]
  },
  {
   "cell_type": "code",
   "execution_count": 41,
   "metadata": {},
   "outputs": [],
   "source": [
    "cols_impute = [\n",
    "    \"main_camera_mp\",\n",
    "    \"selfie_camera_mp\",\n",
    "    \"int_memory\",\n",
    "    \"ram\",\n",
    "    \"battery\",\n",
    "    \"weight\",\n",
    "]\n",
    "\n",
    "# for loop to fill na's based on median of the column when grouped by brand name\n",
    "for col in cols_impute:\n",
    "    df1[col] = df1.groupby('brand_name')[col].transform(\n",
    "        lambda x: x.fillna(x.median())\n",
    "    )"
   ]
  },
  {
   "cell_type": "code",
   "execution_count": 42,
   "metadata": {},
   "outputs": [
    {
     "data": {
      "text/plain": [
       "brand_name           0\n",
       "os                   0\n",
       "screen_size          0\n",
       "4g                   0\n",
       "5g                   0\n",
       "main_camera_mp      10\n",
       "selfie_camera_mp     0\n",
       "int_memory           0\n",
       "ram                  0\n",
       "battery              0\n",
       "weight               0\n",
       "release_year         0\n",
       "days_used            0\n",
       "new_price            0\n",
       "used_price           0\n",
       "used_price_log       0\n",
       "new_price_log        0\n",
       "dtype: int64"
      ]
     },
     "execution_count": 42,
     "metadata": {},
     "output_type": "execute_result"
    }
   ],
   "source": [
    "df1.isnull().sum()"
   ]
  },
  {
   "cell_type": "code",
   "execution_count": 43,
   "metadata": {},
   "outputs": [],
   "source": [
    "# making sure main_camera_mp is a float variable\n",
    "df1['main_camera_mp'] = pd.to_numeric(df1['main_camera_mp'],errors = 'coerce')"
   ]
  },
  {
   "cell_type": "code",
   "execution_count": 44,
   "metadata": {},
   "outputs": [],
   "source": [
    "# fill remaining main_camera_mp nulls with column median\n",
    "df1[\"main_camera_mp\"] = df1[\"main_camera_mp\"].fillna(df1[\"main_camera_mp\"].median())"
   ]
  },
  {
   "cell_type": "code",
   "execution_count": 45,
   "metadata": {},
   "outputs": [
    {
     "data": {
      "text/plain": [
       "brand_name          0\n",
       "os                  0\n",
       "screen_size         0\n",
       "4g                  0\n",
       "5g                  0\n",
       "main_camera_mp      0\n",
       "selfie_camera_mp    0\n",
       "int_memory          0\n",
       "ram                 0\n",
       "battery             0\n",
       "weight              0\n",
       "release_year        0\n",
       "days_used           0\n",
       "new_price           0\n",
       "used_price          0\n",
       "used_price_log      0\n",
       "new_price_log       0\n",
       "dtype: int64"
      ]
     },
     "execution_count": 45,
     "metadata": {},
     "output_type": "execute_result"
    }
   ],
   "source": [
    "df1.isnull().sum()"
   ]
  },
  {
   "cell_type": "code",
   "execution_count": 46,
   "metadata": {},
   "outputs": [
    {
     "data": {
      "text/html": [
       "<div>\n",
       "<style scoped>\n",
       "    .dataframe tbody tr th:only-of-type {\n",
       "        vertical-align: middle;\n",
       "    }\n",
       "\n",
       "    .dataframe tbody tr th {\n",
       "        vertical-align: top;\n",
       "    }\n",
       "\n",
       "    .dataframe thead th {\n",
       "        text-align: right;\n",
       "    }\n",
       "</style>\n",
       "<table border=\"1\" class=\"dataframe\">\n",
       "  <thead>\n",
       "    <tr style=\"text-align: right;\">\n",
       "      <th></th>\n",
       "      <th>brand_name</th>\n",
       "      <th>os</th>\n",
       "      <th>screen_size</th>\n",
       "      <th>4g</th>\n",
       "      <th>5g</th>\n",
       "      <th>main_camera_mp</th>\n",
       "      <th>selfie_camera_mp</th>\n",
       "      <th>int_memory</th>\n",
       "      <th>ram</th>\n",
       "      <th>battery</th>\n",
       "      <th>weight</th>\n",
       "      <th>release_year</th>\n",
       "      <th>days_used</th>\n",
       "      <th>new_price</th>\n",
       "      <th>used_price</th>\n",
       "      <th>used_price_log</th>\n",
       "      <th>new_price_log</th>\n",
       "    </tr>\n",
       "  </thead>\n",
       "  <tbody>\n",
       "    <tr>\n",
       "      <th>count</th>\n",
       "      <td>3454</td>\n",
       "      <td>3454</td>\n",
       "      <td>3454.000000</td>\n",
       "      <td>3454</td>\n",
       "      <td>3454</td>\n",
       "      <td>3454.000000</td>\n",
       "      <td>3454.000000</td>\n",
       "      <td>3454.000000</td>\n",
       "      <td>3454.000000</td>\n",
       "      <td>3454.000000</td>\n",
       "      <td>3454.000000</td>\n",
       "      <td>3454.000000</td>\n",
       "      <td>3454.000000</td>\n",
       "      <td>3454.000000</td>\n",
       "      <td>3454.000000</td>\n",
       "      <td>3454.000000</td>\n",
       "      <td>3454.000000</td>\n",
       "    </tr>\n",
       "    <tr>\n",
       "      <th>unique</th>\n",
       "      <td>34</td>\n",
       "      <td>4</td>\n",
       "      <td>NaN</td>\n",
       "      <td>2</td>\n",
       "      <td>2</td>\n",
       "      <td>NaN</td>\n",
       "      <td>NaN</td>\n",
       "      <td>NaN</td>\n",
       "      <td>NaN</td>\n",
       "      <td>NaN</td>\n",
       "      <td>NaN</td>\n",
       "      <td>NaN</td>\n",
       "      <td>NaN</td>\n",
       "      <td>NaN</td>\n",
       "      <td>NaN</td>\n",
       "      <td>NaN</td>\n",
       "      <td>NaN</td>\n",
       "    </tr>\n",
       "    <tr>\n",
       "      <th>top</th>\n",
       "      <td>Others</td>\n",
       "      <td>Android</td>\n",
       "      <td>NaN</td>\n",
       "      <td>yes</td>\n",
       "      <td>no</td>\n",
       "      <td>NaN</td>\n",
       "      <td>NaN</td>\n",
       "      <td>NaN</td>\n",
       "      <td>NaN</td>\n",
       "      <td>NaN</td>\n",
       "      <td>NaN</td>\n",
       "      <td>NaN</td>\n",
       "      <td>NaN</td>\n",
       "      <td>NaN</td>\n",
       "      <td>NaN</td>\n",
       "      <td>NaN</td>\n",
       "      <td>NaN</td>\n",
       "    </tr>\n",
       "    <tr>\n",
       "      <th>freq</th>\n",
       "      <td>502</td>\n",
       "      <td>3214</td>\n",
       "      <td>NaN</td>\n",
       "      <td>2335</td>\n",
       "      <td>3302</td>\n",
       "      <td>NaN</td>\n",
       "      <td>NaN</td>\n",
       "      <td>NaN</td>\n",
       "      <td>NaN</td>\n",
       "      <td>NaN</td>\n",
       "      <td>NaN</td>\n",
       "      <td>NaN</td>\n",
       "      <td>NaN</td>\n",
       "      <td>NaN</td>\n",
       "      <td>NaN</td>\n",
       "      <td>NaN</td>\n",
       "      <td>NaN</td>\n",
       "    </tr>\n",
       "    <tr>\n",
       "      <th>mean</th>\n",
       "      <td>NaN</td>\n",
       "      <td>NaN</td>\n",
       "      <td>13.713115</td>\n",
       "      <td>NaN</td>\n",
       "      <td>NaN</td>\n",
       "      <td>9.617597</td>\n",
       "      <td>6.555067</td>\n",
       "      <td>54.528474</td>\n",
       "      <td>4.032620</td>\n",
       "      <td>3132.577446</td>\n",
       "      <td>182.636856</td>\n",
       "      <td>2015.965258</td>\n",
       "      <td>674.869716</td>\n",
       "      <td>237.038848</td>\n",
       "      <td>92.302936</td>\n",
       "      <td>4.364712</td>\n",
       "      <td>5.233107</td>\n",
       "    </tr>\n",
       "    <tr>\n",
       "      <th>std</th>\n",
       "      <td>NaN</td>\n",
       "      <td>NaN</td>\n",
       "      <td>3.805280</td>\n",
       "      <td>NaN</td>\n",
       "      <td>NaN</td>\n",
       "      <td>4.749438</td>\n",
       "      <td>6.968440</td>\n",
       "      <td>84.934991</td>\n",
       "      <td>1.368598</td>\n",
       "      <td>1298.884193</td>\n",
       "      <td>88.360445</td>\n",
       "      <td>2.298455</td>\n",
       "      <td>248.580166</td>\n",
       "      <td>194.302782</td>\n",
       "      <td>54.701648</td>\n",
       "      <td>0.588914</td>\n",
       "      <td>0.683637</td>\n",
       "    </tr>\n",
       "    <tr>\n",
       "      <th>min</th>\n",
       "      <td>NaN</td>\n",
       "      <td>NaN</td>\n",
       "      <td>5.080000</td>\n",
       "      <td>NaN</td>\n",
       "      <td>NaN</td>\n",
       "      <td>0.080000</td>\n",
       "      <td>0.000000</td>\n",
       "      <td>0.010000</td>\n",
       "      <td>0.020000</td>\n",
       "      <td>500.000000</td>\n",
       "      <td>69.000000</td>\n",
       "      <td>2013.000000</td>\n",
       "      <td>91.000000</td>\n",
       "      <td>18.200000</td>\n",
       "      <td>4.650000</td>\n",
       "      <td>1.536867</td>\n",
       "      <td>2.901422</td>\n",
       "    </tr>\n",
       "    <tr>\n",
       "      <th>25%</th>\n",
       "      <td>NaN</td>\n",
       "      <td>NaN</td>\n",
       "      <td>12.700000</td>\n",
       "      <td>NaN</td>\n",
       "      <td>NaN</td>\n",
       "      <td>5.000000</td>\n",
       "      <td>2.000000</td>\n",
       "      <td>16.000000</td>\n",
       "      <td>4.000000</td>\n",
       "      <td>2100.000000</td>\n",
       "      <td>142.000000</td>\n",
       "      <td>2014.000000</td>\n",
       "      <td>533.500000</td>\n",
       "      <td>120.342500</td>\n",
       "      <td>56.482500</td>\n",
       "      <td>4.033931</td>\n",
       "      <td>4.790342</td>\n",
       "    </tr>\n",
       "    <tr>\n",
       "      <th>50%</th>\n",
       "      <td>NaN</td>\n",
       "      <td>NaN</td>\n",
       "      <td>12.830000</td>\n",
       "      <td>NaN</td>\n",
       "      <td>NaN</td>\n",
       "      <td>8.000000</td>\n",
       "      <td>5.000000</td>\n",
       "      <td>32.000000</td>\n",
       "      <td>4.000000</td>\n",
       "      <td>3000.000000</td>\n",
       "      <td>160.000000</td>\n",
       "      <td>2015.500000</td>\n",
       "      <td>690.500000</td>\n",
       "      <td>189.785000</td>\n",
       "      <td>81.870000</td>\n",
       "      <td>4.405133</td>\n",
       "      <td>5.245892</td>\n",
       "    </tr>\n",
       "    <tr>\n",
       "      <th>75%</th>\n",
       "      <td>NaN</td>\n",
       "      <td>NaN</td>\n",
       "      <td>15.340000</td>\n",
       "      <td>NaN</td>\n",
       "      <td>NaN</td>\n",
       "      <td>13.000000</td>\n",
       "      <td>8.000000</td>\n",
       "      <td>64.000000</td>\n",
       "      <td>4.000000</td>\n",
       "      <td>4000.000000</td>\n",
       "      <td>185.000000</td>\n",
       "      <td>2018.000000</td>\n",
       "      <td>868.750000</td>\n",
       "      <td>291.115000</td>\n",
       "      <td>116.245000</td>\n",
       "      <td>4.755700</td>\n",
       "      <td>5.673718</td>\n",
       "    </tr>\n",
       "    <tr>\n",
       "      <th>max</th>\n",
       "      <td>NaN</td>\n",
       "      <td>NaN</td>\n",
       "      <td>30.710000</td>\n",
       "      <td>NaN</td>\n",
       "      <td>NaN</td>\n",
       "      <td>48.000000</td>\n",
       "      <td>32.000000</td>\n",
       "      <td>1024.000000</td>\n",
       "      <td>12.000000</td>\n",
       "      <td>9720.000000</td>\n",
       "      <td>855.000000</td>\n",
       "      <td>2020.000000</td>\n",
       "      <td>1094.000000</td>\n",
       "      <td>2560.200000</td>\n",
       "      <td>749.520000</td>\n",
       "      <td>6.619433</td>\n",
       "      <td>7.847841</td>\n",
       "    </tr>\n",
       "  </tbody>\n",
       "</table>\n",
       "</div>"
      ],
      "text/plain": [
       "       brand_name       os  screen_size    4g    5g  main_camera_mp  \\\n",
       "count        3454     3454  3454.000000  3454  3454     3454.000000   \n",
       "unique         34        4          NaN     2     2             NaN   \n",
       "top        Others  Android          NaN   yes    no             NaN   \n",
       "freq          502     3214          NaN  2335  3302             NaN   \n",
       "mean          NaN      NaN    13.713115   NaN   NaN        9.617597   \n",
       "std           NaN      NaN     3.805280   NaN   NaN        4.749438   \n",
       "min           NaN      NaN     5.080000   NaN   NaN        0.080000   \n",
       "25%           NaN      NaN    12.700000   NaN   NaN        5.000000   \n",
       "50%           NaN      NaN    12.830000   NaN   NaN        8.000000   \n",
       "75%           NaN      NaN    15.340000   NaN   NaN       13.000000   \n",
       "max           NaN      NaN    30.710000   NaN   NaN       48.000000   \n",
       "\n",
       "        selfie_camera_mp   int_memory          ram      battery       weight  \\\n",
       "count        3454.000000  3454.000000  3454.000000  3454.000000  3454.000000   \n",
       "unique               NaN          NaN          NaN          NaN          NaN   \n",
       "top                  NaN          NaN          NaN          NaN          NaN   \n",
       "freq                 NaN          NaN          NaN          NaN          NaN   \n",
       "mean            6.555067    54.528474     4.032620  3132.577446   182.636856   \n",
       "std             6.968440    84.934991     1.368598  1298.884193    88.360445   \n",
       "min             0.000000     0.010000     0.020000   500.000000    69.000000   \n",
       "25%             2.000000    16.000000     4.000000  2100.000000   142.000000   \n",
       "50%             5.000000    32.000000     4.000000  3000.000000   160.000000   \n",
       "75%             8.000000    64.000000     4.000000  4000.000000   185.000000   \n",
       "max            32.000000  1024.000000    12.000000  9720.000000   855.000000   \n",
       "\n",
       "        release_year    days_used    new_price   used_price  used_price_log  \\\n",
       "count    3454.000000  3454.000000  3454.000000  3454.000000     3454.000000   \n",
       "unique           NaN          NaN          NaN          NaN             NaN   \n",
       "top              NaN          NaN          NaN          NaN             NaN   \n",
       "freq             NaN          NaN          NaN          NaN             NaN   \n",
       "mean     2015.965258   674.869716   237.038848    92.302936        4.364712   \n",
       "std         2.298455   248.580166   194.302782    54.701648        0.588914   \n",
       "min      2013.000000    91.000000    18.200000     4.650000        1.536867   \n",
       "25%      2014.000000   533.500000   120.342500    56.482500        4.033931   \n",
       "50%      2015.500000   690.500000   189.785000    81.870000        4.405133   \n",
       "75%      2018.000000   868.750000   291.115000   116.245000        4.755700   \n",
       "max      2020.000000  1094.000000  2560.200000   749.520000        6.619433   \n",
       "\n",
       "        new_price_log  \n",
       "count     3454.000000  \n",
       "unique            NaN  \n",
       "top               NaN  \n",
       "freq              NaN  \n",
       "mean         5.233107  \n",
       "std          0.683637  \n",
       "min          2.901422  \n",
       "25%          4.790342  \n",
       "50%          5.245892  \n",
       "75%          5.673718  \n",
       "max          7.847841  "
      ]
     },
     "execution_count": 46,
     "metadata": {},
     "output_type": "execute_result"
    }
   ],
   "source": [
    "df1.describe(include = 'all')"
   ]
  },
  {
   "cell_type": "markdown",
   "metadata": {},
   "source": [
    "## Outlier Detection"
   ]
  },
  {
   "cell_type": "code",
   "execution_count": 47,
   "metadata": {},
   "outputs": [
    {
     "data": {
      "image/png": "[encoded data removed]",
      "text/plain": [
       "<Figure size 1080x3600 with 12 Axes>"
      ]
     },
     "metadata": {},
     "output_type": "display_data"
    }
   ],
   "source": [
    "# creating a list of numeric columns\n",
    "numeric_columns = df1.select_dtypes(include=np.number).columns.tolist()\n",
    "# dropping release_year as it's a date\n",
    "numeric_columns.remove(\"release_year\")\n",
    "\n",
    "plt.figure(figsize=(15, 50))\n",
    "\n",
    "for i, variable in enumerate(numeric_columns):\n",
    "    plt.subplot(12, 3, i + 1)\n",
    "    plt.boxplot(df1[variable], whis=1.5)\n",
    "    plt.title(variable)\n",
    "\n",
    "plt.show()"
   ]
  },
  {
   "cell_type": "markdown",
   "metadata": {},
   "source": [
    "There are a significant number of outliers in almost every numeric column, so I'm going to look through each to determine how we should treat them. For the screen size, main camera mp, selfie camera mp and internal memory I'm planning to treat the outliers because for screen size they're somewhat evenly distributed around the mean and for the selfie mp and internal memory there are very few so capping them shouldn't impact our model significantly.\n",
    "\n",
    "For all other variables I won't treat the outliers because removing them would meaningfully change the distribution."
   ]
  },
  {
   "cell_type": "code",
   "execution_count": 48,
   "metadata": {},
   "outputs": [],
   "source": [
    "def treat_outliers(df1, col):\n",
    "    \"\"\"\n",
    "    Treats outliers in a variable\n",
    "    df1: dataframe\n",
    "    col: dataframe column\n",
    "    \"\"\"\n",
    "    Q1 = df1[col].quantile(0.25)  # 25th percentile\n",
    "    Q3 = df1[col].quantile(0.75)  # 75th percentile\n",
    "    IQR = Q3 - Q1\n",
    "    Lower_Whisker = Q1 - 1.5 * IQR\n",
    "    Upper_Whisker = Q3 + 1.5 * IQR\n",
    "\n",
    "    # all the values smaller than Lower_Whisker will be assigned the value of Lower_Whisker\n",
    "    # all the values greater than Upper_Whisker will be assigned the value of Upper_Whisker\n",
    "    df1[col] = np.clip(df1[col], Lower_Whisker, Upper_Whisker)\n",
    "\n",
    "    return df1\n",
    "\n",
    "col_list = [\n",
    "    \"selfie_camera_mp\",\n",
    "    \"main_camera_mp\",\n",
    "    \"int_memory\",\n",
    "    \"screen_size\"\n",
    "]\n",
    "\n",
    "def treat_outliers_all(df1, col_list):\n",
    "    for c in col_list:\n",
    "        df = treat_outliers(df1, c)\n",
    "\n",
    "    return df"
   ]
  },
  {
   "cell_type": "code",
   "execution_count": 49,
   "metadata": {},
   "outputs": [],
   "source": [
    "df2 = treat_outliers_all(df1, col_list)"
   ]
  },
  {
   "cell_type": "code",
   "execution_count": 50,
   "metadata": {},
   "outputs": [
    {
     "data": {
      "image/png": "[encoded data removed]",
      "text/plain": [
       "<Figure size 1080x3600 with 12 Axes>"
      ]
     },
     "metadata": {},
     "output_type": "display_data"
    }
   ],
   "source": [
    "plt.figure(figsize=(15, 50))\n",
    "\n",
    "for i, variable in enumerate(numeric_columns):\n",
    "    plt.subplot(12, 3, i + 1)\n",
    "    plt.boxplot(df2[variable], whis=1.5)\n",
    "    plt.title(variable)\n",
    "\n",
    "plt.show()"
   ]
  },
  {
   "cell_type": "code",
   "execution_count": 51,
   "metadata": {},
   "outputs": [
    {
     "data": {
      "text/plain": [
       "brand_name          0\n",
       "os                  0\n",
       "screen_size         0\n",
       "4g                  0\n",
       "5g                  0\n",
       "main_camera_mp      0\n",
       "selfie_camera_mp    0\n",
       "int_memory          0\n",
       "ram                 0\n",
       "battery             0\n",
       "weight              0\n",
       "release_year        0\n",
       "days_used           0\n",
       "new_price           0\n",
       "used_price          0\n",
       "used_price_log      0\n",
       "new_price_log       0\n",
       "dtype: int64"
      ]
     },
     "execution_count": 51,
     "metadata": {},
     "output_type": "execute_result"
    }
   ],
   "source": [
    "df2.isnull().sum()"
   ]
  },
  {
   "cell_type": "code",
   "execution_count": 52,
   "metadata": {},
   "outputs": [
    {
     "name": "stdout",
     "output_type": "stream",
     "text": [
      "<class 'pandas.core.frame.DataFrame'>\n",
      "RangeIndex: 3454 entries, 0 to 3453\n",
      "Data columns (total 17 columns):\n",
      " #   Column            Non-Null Count  Dtype  \n",
      "---  ------            --------------  -----  \n",
      " 0   brand_name        3454 non-null   object \n",
      " 1   os                3454 non-null   object \n",
      " 2   screen_size       3454 non-null   float64\n",
      " 3   4g                3454 non-null   object \n",
      " 4   5g                3454 non-null   object \n",
      " 5   main_camera_mp    3454 non-null   float64\n",
      " 6   selfie_camera_mp  3454 non-null   float64\n",
      " 7   int_memory        3454 non-null   float64\n",
      " 8   ram               3454 non-null   float64\n",
      " 9   battery           3454 non-null   float64\n",
      " 10  weight            3454 non-null   float64\n",
      " 11  release_year      3454 non-null   int64  \n",
      " 12  days_used         3454 non-null   int64  \n",
      " 13  new_price         3454 non-null   float64\n",
      " 14  used_price        3454 non-null   float64\n",
      " 15  used_price_log    3454 non-null   float64\n",
      " 16  new_price_log     3454 non-null   float64\n",
      "dtypes: float64(11), int64(2), object(4)\n",
      "memory usage: 458.9+ KB\n"
     ]
    }
   ],
   "source": [
    "df2.info()"
   ]
  },
  {
   "cell_type": "markdown",
   "metadata": {},
   "source": [
    "## Data Prep for Modeling"
   ]
  },
  {
   "cell_type": "markdown",
   "metadata": {},
   "source": [
    "- Normalize used price using used_price_log, define independent and dependent variables\n",
    "- Encode categorical variables and turn them into dummy variables\n",
    "- Create a test/train split on the data before we create our model"
   ]
  },
  {
   "cell_type": "code",
   "execution_count": 53,
   "metadata": {},
   "outputs": [
    {
     "name": "stdout",
     "output_type": "stream",
     "text": [
      "  brand_name       os  screen_size   4g   5g  main_camera_mp  \\\n",
      "0      Honor  Android        14.50  yes   no            13.0   \n",
      "1      Honor  Android        17.30  yes  yes            13.0   \n",
      "2      Honor  Android        16.69  yes  yes            13.0   \n",
      "3      Honor  Android        19.30  yes  yes            13.0   \n",
      "4      Honor  Android        15.32  yes   no            13.0   \n",
      "\n",
      "   selfie_camera_mp  int_memory  ram  battery  weight  release_year  \\\n",
      "0               5.0        64.0  3.0   3020.0   146.0          2020   \n",
      "1              16.0       128.0  8.0   4300.0   213.0          2020   \n",
      "2               8.0       128.0  8.0   4200.0   213.0          2020   \n",
      "3               8.0        64.0  6.0   7250.0   480.0          2020   \n",
      "4               8.0        64.0  3.0   5000.0   185.0          2020   \n",
      "\n",
      "   days_used  new_price_log  \n",
      "0        127       4.715100  \n",
      "1        325       5.519018  \n",
      "2        162       5.884631  \n",
      "3        345       5.630961  \n",
      "4        293       4.947837  \n",
      "\n",
      "0    4.307572\n",
      "1    5.162097\n",
      "2    5.111084\n",
      "3    5.135387\n",
      "4    4.389995\n",
      "Name: used_price_log, dtype: float64\n"
     ]
    }
   ],
   "source": [
    "X = df2.drop([\"used_price\", \"used_price_log\", \"new_price\"], axis=1)\n",
    "y = df2[\"used_price_log\"]\n",
    "\n",
    "print(X.head())\n",
    "print()\n",
    "print(y.head())"
   ]
  },
  {
   "cell_type": "code",
   "execution_count": 54,
   "metadata": {},
   "outputs": [
    {
     "data": {
      "text/plain": [
       "brand_name          0\n",
       "os                  0\n",
       "screen_size         0\n",
       "4g                  0\n",
       "5g                  0\n",
       "main_camera_mp      0\n",
       "selfie_camera_mp    0\n",
       "int_memory          0\n",
       "ram                 0\n",
       "battery             0\n",
       "weight              0\n",
       "release_year        0\n",
       "days_used           0\n",
       "new_price_log       0\n",
       "dtype: int64"
      ]
     },
     "execution_count": 54,
     "metadata": {},
     "output_type": "execute_result"
    }
   ],
   "source": [
    "X.isnull().sum()"
   ]
  },
  {
   "cell_type": "code",
   "execution_count": 55,
   "metadata": {},
   "outputs": [],
   "source": [
    "X = sm.add_constant(X)"
   ]
  },
  {
   "cell_type": "code",
   "execution_count": 56,
   "metadata": {},
   "outputs": [
    {
     "data": {
      "text/html": [
       "<div>\n",
       "<style scoped>\n",
       "    .dataframe tbody tr th:only-of-type {\n",
       "        vertical-align: middle;\n",
       "    }\n",
       "\n",
       "    .dataframe tbody tr th {\n",
       "        vertical-align: top;\n",
       "    }\n",
       "\n",
       "    .dataframe thead th {\n",
       "        text-align: right;\n",
       "    }\n",
       "</style>\n",
       "<table border=\"1\" class=\"dataframe\">\n",
       "  <thead>\n",
       "    <tr style=\"text-align: right;\">\n",
       "      <th></th>\n",
       "      <th>const</th>\n",
       "      <th>screen_size</th>\n",
       "      <th>main_camera_mp</th>\n",
       "      <th>selfie_camera_mp</th>\n",
       "      <th>int_memory</th>\n",
       "      <th>ram</th>\n",
       "      <th>battery</th>\n",
       "      <th>weight</th>\n",
       "      <th>release_year</th>\n",
       "      <th>days_used</th>\n",
       "      <th>...</th>\n",
       "      <th>brand_name_Spice</th>\n",
       "      <th>brand_name_Vivo</th>\n",
       "      <th>brand_name_XOLO</th>\n",
       "      <th>brand_name_Xiaomi</th>\n",
       "      <th>brand_name_ZTE</th>\n",
       "      <th>os_Others</th>\n",
       "      <th>os_Windows</th>\n",
       "      <th>os_iOS</th>\n",
       "      <th>4g_yes</th>\n",
       "      <th>5g_yes</th>\n",
       "    </tr>\n",
       "  </thead>\n",
       "  <tbody>\n",
       "    <tr>\n",
       "      <th>0</th>\n",
       "      <td>1.0</td>\n",
       "      <td>14.50</td>\n",
       "      <td>13.0</td>\n",
       "      <td>5.0</td>\n",
       "      <td>64.0</td>\n",
       "      <td>3.0</td>\n",
       "      <td>3020.0</td>\n",
       "      <td>146.0</td>\n",
       "      <td>2020.0</td>\n",
       "      <td>127.0</td>\n",
       "      <td>...</td>\n",
       "      <td>0.0</td>\n",
       "      <td>0.0</td>\n",
       "      <td>0.0</td>\n",
       "      <td>0.0</td>\n",
       "      <td>0.0</td>\n",
       "      <td>0.0</td>\n",
       "      <td>0.0</td>\n",
       "      <td>0.0</td>\n",
       "      <td>1.0</td>\n",
       "      <td>0.0</td>\n",
       "    </tr>\n",
       "    <tr>\n",
       "      <th>1</th>\n",
       "      <td>1.0</td>\n",
       "      <td>17.30</td>\n",
       "      <td>13.0</td>\n",
       "      <td>16.0</td>\n",
       "      <td>128.0</td>\n",
       "      <td>8.0</td>\n",
       "      <td>4300.0</td>\n",
       "      <td>213.0</td>\n",
       "      <td>2020.0</td>\n",
       "      <td>325.0</td>\n",
       "      <td>...</td>\n",
       "      <td>0.0</td>\n",
       "      <td>0.0</td>\n",
       "      <td>0.0</td>\n",
       "      <td>0.0</td>\n",
       "      <td>0.0</td>\n",
       "      <td>0.0</td>\n",
       "      <td>0.0</td>\n",
       "      <td>0.0</td>\n",
       "      <td>1.0</td>\n",
       "      <td>1.0</td>\n",
       "    </tr>\n",
       "    <tr>\n",
       "      <th>2</th>\n",
       "      <td>1.0</td>\n",
       "      <td>16.69</td>\n",
       "      <td>13.0</td>\n",
       "      <td>8.0</td>\n",
       "      <td>128.0</td>\n",
       "      <td>8.0</td>\n",
       "      <td>4200.0</td>\n",
       "      <td>213.0</td>\n",
       "      <td>2020.0</td>\n",
       "      <td>162.0</td>\n",
       "      <td>...</td>\n",
       "      <td>0.0</td>\n",
       "      <td>0.0</td>\n",
       "      <td>0.0</td>\n",
       "      <td>0.0</td>\n",
       "      <td>0.0</td>\n",
       "      <td>0.0</td>\n",
       "      <td>0.0</td>\n",
       "      <td>0.0</td>\n",
       "      <td>1.0</td>\n",
       "      <td>1.0</td>\n",
       "    </tr>\n",
       "    <tr>\n",
       "      <th>3</th>\n",
       "      <td>1.0</td>\n",
       "      <td>19.30</td>\n",
       "      <td>13.0</td>\n",
       "      <td>8.0</td>\n",
       "      <td>64.0</td>\n",
       "      <td>6.0</td>\n",
       "      <td>7250.0</td>\n",
       "      <td>480.0</td>\n",
       "      <td>2020.0</td>\n",
       "      <td>345.0</td>\n",
       "      <td>...</td>\n",
       "      <td>0.0</td>\n",
       "      <td>0.0</td>\n",
       "      <td>0.0</td>\n",
       "      <td>0.0</td>\n",
       "      <td>0.0</td>\n",
       "      <td>0.0</td>\n",
       "      <td>0.0</td>\n",
       "      <td>0.0</td>\n",
       "      <td>1.0</td>\n",
       "      <td>1.0</td>\n",
       "    </tr>\n",
       "    <tr>\n",
       "      <th>4</th>\n",
       "      <td>1.0</td>\n",
       "      <td>15.32</td>\n",
       "      <td>13.0</td>\n",
       "      <td>8.0</td>\n",
       "      <td>64.0</td>\n",
       "      <td>3.0</td>\n",
       "      <td>5000.0</td>\n",
       "      <td>185.0</td>\n",
       "      <td>2020.0</td>\n",
       "      <td>293.0</td>\n",
       "      <td>...</td>\n",
       "      <td>0.0</td>\n",
       "      <td>0.0</td>\n",
       "      <td>0.0</td>\n",
       "      <td>0.0</td>\n",
       "      <td>0.0</td>\n",
       "      <td>0.0</td>\n",
       "      <td>0.0</td>\n",
       "      <td>0.0</td>\n",
       "      <td>1.0</td>\n",
       "      <td>0.0</td>\n",
       "    </tr>\n",
       "  </tbody>\n",
       "</table>\n",
       "<p>5 rows × 49 columns</p>\n",
       "</div>"
      ],
      "text/plain": [
       "   const  screen_size  main_camera_mp  selfie_camera_mp  int_memory  ram  \\\n",
       "0    1.0        14.50            13.0               5.0        64.0  3.0   \n",
       "1    1.0        17.30            13.0              16.0       128.0  8.0   \n",
       "2    1.0        16.69            13.0               8.0       128.0  8.0   \n",
       "3    1.0        19.30            13.0               8.0        64.0  6.0   \n",
       "4    1.0        15.32            13.0               8.0        64.0  3.0   \n",
       "\n",
       "   battery  weight  release_year  days_used  ...  brand_name_Spice  \\\n",
       "0   3020.0   146.0        2020.0      127.0  ...               0.0   \n",
       "1   4300.0   213.0        2020.0      325.0  ...               0.0   \n",
       "2   4200.0   213.0        2020.0      162.0  ...               0.0   \n",
       "3   7250.0   480.0        2020.0      345.0  ...               0.0   \n",
       "4   5000.0   185.0        2020.0      293.0  ...               0.0   \n",
       "\n",
       "   brand_name_Vivo  brand_name_XOLO  brand_name_Xiaomi  brand_name_ZTE  \\\n",
       "0              0.0              0.0                0.0             0.0   \n",
       "1              0.0              0.0                0.0             0.0   \n",
       "2              0.0              0.0                0.0             0.0   \n",
       "3              0.0              0.0                0.0             0.0   \n",
       "4              0.0              0.0                0.0             0.0   \n",
       "\n",
       "   os_Others  os_Windows  os_iOS  4g_yes  5g_yes  \n",
       "0        0.0         0.0     0.0     1.0     0.0  \n",
       "1        0.0         0.0     0.0     1.0     1.0  \n",
       "2        0.0         0.0     0.0     1.0     1.0  \n",
       "3        0.0         0.0     0.0     1.0     1.0  \n",
       "4        0.0         0.0     0.0     1.0     0.0  \n",
       "\n",
       "[5 rows x 49 columns]"
      ]
     },
     "execution_count": 56,
     "metadata": {},
     "output_type": "execute_result"
    }
   ],
   "source": [
    "X = pd.get_dummies(\n",
    "    X,\n",
    "    columns=X.select_dtypes(include=[\"object\", \"category\"]).columns.tolist(),\n",
    "    drop_first=True,\n",
    ") \n",
    "\n",
    "X = X.astype(float)\n",
    "\n",
    "X.head()"
   ]
  },
  {
   "cell_type": "code",
   "execution_count": 57,
   "metadata": {},
   "outputs": [],
   "source": [
    "x_train, x_test, y_train, y_test = train_test_split(X, y, test_size = .3, random_state=1)"
   ]
  },
  {
   "cell_type": "code",
   "execution_count": 58,
   "metadata": {},
   "outputs": [
    {
     "name": "stdout",
     "output_type": "stream",
     "text": [
      "Number of rows in train data = 2417\n",
      "Number of rows in test data = 1037\n"
     ]
    }
   ],
   "source": [
    "print(\"Number of rows in train data =\", x_train.shape[0])\n",
    "print(\"Number of rows in test data =\", x_test.shape[0])"
   ]
  },
  {
   "cell_type": "code",
   "execution_count": 59,
   "metadata": {},
   "outputs": [
    {
     "data": {
      "text/plain": [
       "const                    0\n",
       "screen_size              0\n",
       "main_camera_mp           0\n",
       "selfie_camera_mp         0\n",
       "int_memory               0\n",
       "ram                      0\n",
       "battery                  0\n",
       "weight                   0\n",
       "release_year             0\n",
       "days_used                0\n",
       "new_price_log            0\n",
       "brand_name_Alcatel       0\n",
       "brand_name_Apple         0\n",
       "brand_name_Asus          0\n",
       "brand_name_BlackBerry    0\n",
       "brand_name_Celkon        0\n",
       "brand_name_Coolpad       0\n",
       "brand_name_Gionee        0\n",
       "brand_name_Google        0\n",
       "brand_name_HTC           0\n",
       "brand_name_Honor         0\n",
       "brand_name_Huawei        0\n",
       "brand_name_Infinix       0\n",
       "brand_name_Karbonn       0\n",
       "brand_name_LG            0\n",
       "brand_name_Lava          0\n",
       "brand_name_Lenovo        0\n",
       "brand_name_Meizu         0\n",
       "brand_name_Micromax      0\n",
       "brand_name_Microsoft     0\n",
       "brand_name_Motorola      0\n",
       "brand_name_Nokia         0\n",
       "brand_name_OnePlus       0\n",
       "brand_name_Oppo          0\n",
       "brand_name_Others        0\n",
       "brand_name_Panasonic     0\n",
       "brand_name_Realme        0\n",
       "brand_name_Samsung       0\n",
       "brand_name_Sony          0\n",
       "brand_name_Spice         0\n",
       "brand_name_Vivo          0\n",
       "brand_name_XOLO          0\n",
       "brand_name_Xiaomi        0\n",
       "brand_name_ZTE           0\n",
       "os_Others                0\n",
       "os_Windows               0\n",
       "os_iOS                   0\n",
       "4g_yes                   0\n",
       "5g_yes                   0\n",
       "dtype: int64"
      ]
     },
     "execution_count": 59,
     "metadata": {},
     "output_type": "execute_result"
    }
   ],
   "source": [
    "x_train.isnull().sum()"
   ]
  },
  {
   "cell_type": "code",
   "execution_count": 60,
   "metadata": {},
   "outputs": [],
   "source": [
    "x_train = sm.add_constant(x_train)\n",
    "\n",
    "x_test = sm.add_constant(x_test)"
   ]
  },
  {
   "cell_type": "markdown",
   "metadata": {
    "id": "KNzFis7eEaXj"
   },
   "source": [
    "# EDA\n",
    "\n",
    "- It is a good idea to explore the data once again after manipulating it."
   ]
  },
  {
   "cell_type": "code",
   "execution_count": 61,
   "metadata": {
    "id": "4lcDTGi9EZ1M"
   },
   "outputs": [
    {
     "data": {
      "text/html": [
       "<div>\n",
       "<style scoped>\n",
       "    .dataframe tbody tr th:only-of-type {\n",
       "        vertical-align: middle;\n",
       "    }\n",
       "\n",
       "    .dataframe tbody tr th {\n",
       "        vertical-align: top;\n",
       "    }\n",
       "\n",
       "    .dataframe thead th {\n",
       "        text-align: right;\n",
       "    }\n",
       "</style>\n",
       "<table border=\"1\" class=\"dataframe\">\n",
       "  <thead>\n",
       "    <tr style=\"text-align: right;\">\n",
       "      <th></th>\n",
       "      <th>count</th>\n",
       "      <th>unique</th>\n",
       "      <th>top</th>\n",
       "      <th>freq</th>\n",
       "      <th>mean</th>\n",
       "      <th>std</th>\n",
       "      <th>min</th>\n",
       "      <th>25%</th>\n",
       "      <th>50%</th>\n",
       "      <th>75%</th>\n",
       "      <th>max</th>\n",
       "    </tr>\n",
       "  </thead>\n",
       "  <tbody>\n",
       "    <tr>\n",
       "      <th>brand_name</th>\n",
       "      <td>3454</td>\n",
       "      <td>34</td>\n",
       "      <td>Others</td>\n",
       "      <td>502</td>\n",
       "      <td>NaN</td>\n",
       "      <td>NaN</td>\n",
       "      <td>NaN</td>\n",
       "      <td>NaN</td>\n",
       "      <td>NaN</td>\n",
       "      <td>NaN</td>\n",
       "      <td>NaN</td>\n",
       "    </tr>\n",
       "    <tr>\n",
       "      <th>os</th>\n",
       "      <td>3454</td>\n",
       "      <td>4</td>\n",
       "      <td>Android</td>\n",
       "      <td>3214</td>\n",
       "      <td>NaN</td>\n",
       "      <td>NaN</td>\n",
       "      <td>NaN</td>\n",
       "      <td>NaN</td>\n",
       "      <td>NaN</td>\n",
       "      <td>NaN</td>\n",
       "      <td>NaN</td>\n",
       "    </tr>\n",
       "    <tr>\n",
       "      <th>screen_size</th>\n",
       "      <td>3454.0</td>\n",
       "      <td>NaN</td>\n",
       "      <td>NaN</td>\n",
       "      <td>NaN</td>\n",
       "      <td>13.551595</td>\n",
       "      <td>2.807499</td>\n",
       "      <td>8.74</td>\n",
       "      <td>12.7</td>\n",
       "      <td>12.83</td>\n",
       "      <td>15.34</td>\n",
       "      <td>19.3</td>\n",
       "    </tr>\n",
       "    <tr>\n",
       "      <th>4g</th>\n",
       "      <td>3454</td>\n",
       "      <td>2</td>\n",
       "      <td>yes</td>\n",
       "      <td>2335</td>\n",
       "      <td>NaN</td>\n",
       "      <td>NaN</td>\n",
       "      <td>NaN</td>\n",
       "      <td>NaN</td>\n",
       "      <td>NaN</td>\n",
       "      <td>NaN</td>\n",
       "      <td>NaN</td>\n",
       "    </tr>\n",
       "    <tr>\n",
       "      <th>5g</th>\n",
       "      <td>3454</td>\n",
       "      <td>2</td>\n",
       "      <td>no</td>\n",
       "      <td>3302</td>\n",
       "      <td>NaN</td>\n",
       "      <td>NaN</td>\n",
       "      <td>NaN</td>\n",
       "      <td>NaN</td>\n",
       "      <td>NaN</td>\n",
       "      <td>NaN</td>\n",
       "      <td>NaN</td>\n",
       "    </tr>\n",
       "    <tr>\n",
       "      <th>main_camera_mp</th>\n",
       "      <td>3454.0</td>\n",
       "      <td>NaN</td>\n",
       "      <td>NaN</td>\n",
       "      <td>NaN</td>\n",
       "      <td>9.586329</td>\n",
       "      <td>4.572418</td>\n",
       "      <td>0.08</td>\n",
       "      <td>5.0</td>\n",
       "      <td>8.0</td>\n",
       "      <td>13.0</td>\n",
       "      <td>25.0</td>\n",
       "    </tr>\n",
       "    <tr>\n",
       "      <th>selfie_camera_mp</th>\n",
       "      <td>3454.0</td>\n",
       "      <td>NaN</td>\n",
       "      <td>NaN</td>\n",
       "      <td>NaN</td>\n",
       "      <td>5.96242</td>\n",
       "      <td>5.345927</td>\n",
       "      <td>0.0</td>\n",
       "      <td>2.0</td>\n",
       "      <td>5.0</td>\n",
       "      <td>8.0</td>\n",
       "      <td>17.0</td>\n",
       "    </tr>\n",
       "    <tr>\n",
       "      <th>int_memory</th>\n",
       "      <td>3454.0</td>\n",
       "      <td>NaN</td>\n",
       "      <td>NaN</td>\n",
       "      <td>NaN</td>\n",
       "      <td>44.694079</td>\n",
       "      <td>39.079988</td>\n",
       "      <td>0.01</td>\n",
       "      <td>16.0</td>\n",
       "      <td>32.0</td>\n",
       "      <td>64.0</td>\n",
       "      <td>136.0</td>\n",
       "    </tr>\n",
       "    <tr>\n",
       "      <th>ram</th>\n",
       "      <td>3454.0</td>\n",
       "      <td>NaN</td>\n",
       "      <td>NaN</td>\n",
       "      <td>NaN</td>\n",
       "      <td>4.03262</td>\n",
       "      <td>1.368598</td>\n",
       "      <td>0.02</td>\n",
       "      <td>4.0</td>\n",
       "      <td>4.0</td>\n",
       "      <td>4.0</td>\n",
       "      <td>12.0</td>\n",
       "    </tr>\n",
       "    <tr>\n",
       "      <th>battery</th>\n",
       "      <td>3454.0</td>\n",
       "      <td>NaN</td>\n",
       "      <td>NaN</td>\n",
       "      <td>NaN</td>\n",
       "      <td>3132.577446</td>\n",
       "      <td>1298.884193</td>\n",
       "      <td>500.0</td>\n",
       "      <td>2100.0</td>\n",
       "      <td>3000.0</td>\n",
       "      <td>4000.0</td>\n",
       "      <td>9720.0</td>\n",
       "    </tr>\n",
       "    <tr>\n",
       "      <th>weight</th>\n",
       "      <td>3454.0</td>\n",
       "      <td>NaN</td>\n",
       "      <td>NaN</td>\n",
       "      <td>NaN</td>\n",
       "      <td>182.636856</td>\n",
       "      <td>88.360445</td>\n",
       "      <td>69.0</td>\n",
       "      <td>142.0</td>\n",
       "      <td>160.0</td>\n",
       "      <td>185.0</td>\n",
       "      <td>855.0</td>\n",
       "    </tr>\n",
       "    <tr>\n",
       "      <th>release_year</th>\n",
       "      <td>3454.0</td>\n",
       "      <td>NaN</td>\n",
       "      <td>NaN</td>\n",
       "      <td>NaN</td>\n",
       "      <td>2015.965258</td>\n",
       "      <td>2.298455</td>\n",
       "      <td>2013.0</td>\n",
       "      <td>2014.0</td>\n",
       "      <td>2015.5</td>\n",
       "      <td>2018.0</td>\n",
       "      <td>2020.0</td>\n",
       "    </tr>\n",
       "    <tr>\n",
       "      <th>days_used</th>\n",
       "      <td>3454.0</td>\n",
       "      <td>NaN</td>\n",
       "      <td>NaN</td>\n",
       "      <td>NaN</td>\n",
       "      <td>674.869716</td>\n",
       "      <td>248.580166</td>\n",
       "      <td>91.0</td>\n",
       "      <td>533.5</td>\n",
       "      <td>690.5</td>\n",
       "      <td>868.75</td>\n",
       "      <td>1094.0</td>\n",
       "    </tr>\n",
       "    <tr>\n",
       "      <th>new_price</th>\n",
       "      <td>3454.0</td>\n",
       "      <td>NaN</td>\n",
       "      <td>NaN</td>\n",
       "      <td>NaN</td>\n",
       "      <td>237.038848</td>\n",
       "      <td>194.302782</td>\n",
       "      <td>18.2</td>\n",
       "      <td>120.3425</td>\n",
       "      <td>189.785</td>\n",
       "      <td>291.115</td>\n",
       "      <td>2560.2</td>\n",
       "    </tr>\n",
       "    <tr>\n",
       "      <th>used_price</th>\n",
       "      <td>3454.0</td>\n",
       "      <td>NaN</td>\n",
       "      <td>NaN</td>\n",
       "      <td>NaN</td>\n",
       "      <td>92.302936</td>\n",
       "      <td>54.701648</td>\n",
       "      <td>4.65</td>\n",
       "      <td>56.4825</td>\n",
       "      <td>81.87</td>\n",
       "      <td>116.245</td>\n",
       "      <td>749.52</td>\n",
       "    </tr>\n",
       "    <tr>\n",
       "      <th>used_price_log</th>\n",
       "      <td>3454.0</td>\n",
       "      <td>NaN</td>\n",
       "      <td>NaN</td>\n",
       "      <td>NaN</td>\n",
       "      <td>4.364712</td>\n",
       "      <td>0.588914</td>\n",
       "      <td>1.536867</td>\n",
       "      <td>4.033931</td>\n",
       "      <td>4.405133</td>\n",
       "      <td>4.7557</td>\n",
       "      <td>6.619433</td>\n",
       "    </tr>\n",
       "    <tr>\n",
       "      <th>new_price_log</th>\n",
       "      <td>3454.0</td>\n",
       "      <td>NaN</td>\n",
       "      <td>NaN</td>\n",
       "      <td>NaN</td>\n",
       "      <td>5.233107</td>\n",
       "      <td>0.683637</td>\n",
       "      <td>2.901422</td>\n",
       "      <td>4.790342</td>\n",
       "      <td>5.245892</td>\n",
       "      <td>5.673718</td>\n",
       "      <td>7.847841</td>\n",
       "    </tr>\n",
       "  </tbody>\n",
       "</table>\n",
       "</div>"
      ],
      "text/plain": [
       "                   count unique      top  freq         mean          std  \\\n",
       "brand_name          3454     34   Others   502          NaN          NaN   \n",
       "os                  3454      4  Android  3214          NaN          NaN   \n",
       "screen_size       3454.0    NaN      NaN   NaN    13.551595     2.807499   \n",
       "4g                  3454      2      yes  2335          NaN          NaN   \n",
       "5g                  3454      2       no  3302          NaN          NaN   \n",
       "main_camera_mp    3454.0    NaN      NaN   NaN     9.586329     4.572418   \n",
       "selfie_camera_mp  3454.0    NaN      NaN   NaN      5.96242     5.345927   \n",
       "int_memory        3454.0    NaN      NaN   NaN    44.694079    39.079988   \n",
       "ram               3454.0    NaN      NaN   NaN      4.03262     1.368598   \n",
       "battery           3454.0    NaN      NaN   NaN  3132.577446  1298.884193   \n",
       "weight            3454.0    NaN      NaN   NaN   182.636856    88.360445   \n",
       "release_year      3454.0    NaN      NaN   NaN  2015.965258     2.298455   \n",
       "days_used         3454.0    NaN      NaN   NaN   674.869716   248.580166   \n",
       "new_price         3454.0    NaN      NaN   NaN   237.038848   194.302782   \n",
       "used_price        3454.0    NaN      NaN   NaN    92.302936    54.701648   \n",
       "used_price_log    3454.0    NaN      NaN   NaN     4.364712     0.588914   \n",
       "new_price_log     3454.0    NaN      NaN   NaN     5.233107     0.683637   \n",
       "\n",
       "                       min       25%       50%       75%       max  \n",
       "brand_name             NaN       NaN       NaN       NaN       NaN  \n",
       "os                     NaN       NaN       NaN       NaN       NaN  \n",
       "screen_size           8.74      12.7     12.83     15.34      19.3  \n",
       "4g                     NaN       NaN       NaN       NaN       NaN  \n",
       "5g                     NaN       NaN       NaN       NaN       NaN  \n",
       "main_camera_mp        0.08       5.0       8.0      13.0      25.0  \n",
       "selfie_camera_mp       0.0       2.0       5.0       8.0      17.0  \n",
       "int_memory            0.01      16.0      32.0      64.0     136.0  \n",
       "ram                   0.02       4.0       4.0       4.0      12.0  \n",
       "battery              500.0    2100.0    3000.0    4000.0    9720.0  \n",
       "weight                69.0     142.0     160.0     185.0     855.0  \n",
       "release_year        2013.0    2014.0    2015.5    2018.0    2020.0  \n",
       "days_used             91.0     533.5     690.5    868.75    1094.0  \n",
       "new_price             18.2  120.3425   189.785   291.115    2560.2  \n",
       "used_price            4.65   56.4825     81.87   116.245    749.52  \n",
       "used_price_log    1.536867  4.033931  4.405133    4.7557  6.619433  \n",
       "new_price_log     2.901422  4.790342  5.245892  5.673718  7.847841  "
      ]
     },
     "execution_count": 61,
     "metadata": {},
     "output_type": "execute_result"
    }
   ],
   "source": [
    "df2.describe(include=\"all\").T"
   ]
  },
  {
   "cell_type": "code",
   "execution_count": 62,
   "metadata": {},
   "outputs": [
    {
     "data": {
      "image/png": "[encoded data removed]",
      "text/plain": [
       "<Figure size 1080x504 with 2 Axes>"
      ]
     },
     "metadata": {},
     "output_type": "display_data"
    }
   ],
   "source": [
    "cols_list = df2.select_dtypes(include=np.number).columns.tolist()\n",
    "\n",
    "cols_list.remove(\"release_year\") # dropping release_year because it's a date\n",
    "\n",
    "plt.figure(figsize=(15, 7))\n",
    "sns.heatmap(\n",
    "    df2[cols_list].corr(), annot=True, vmin=-1, vmax=1, fmt=\".2f\", cmap=\"Spectral\"\n",
    ")\n",
    "plt.show()"
   ]
  },
  {
   "cell_type": "markdown",
   "metadata": {
    "id": "x9Ycp1rkDPzL"
   },
   "source": [
    "## Building a Linear Regression model"
   ]
  },
  {
   "cell_type": "code",
   "execution_count": 63,
   "metadata": {
    "id": "ZNRiMg0wMKth"
   },
   "outputs": [
    {
     "name": "stdout",
     "output_type": "stream",
     "text": [
      "                            OLS Regression Results                            \n",
      "==============================================================================\n",
      "Dep. Variable:         used_price_log   R-squared:                       0.848\n",
      "Model:                            OLS   Adj. R-squared:                  0.845\n",
      "Method:                 Least Squares   F-statistic:                     276.0\n",
      "Date:                Fri, 04 Mar 2022   Prob (F-statistic):               0.00\n",
      "Time:                        13:38:49   Log-Likelihood:                 151.31\n",
      "No. Observations:                2417   AIC:                            -204.6\n",
      "Df Residuals:                    2368   BIC:                             79.10\n",
      "Df Model:                          48                                         \n",
      "Covariance Type:            nonrobust                                         \n",
      "=========================================================================================\n",
      "                            coef    std err          t      P>|t|      [0.025      0.975]\n",
      "-----------------------------------------------------------------------------------------\n",
      "const                   -25.9950      9.634     -2.698      0.007     -44.887      -7.103\n",
      "screen_size               0.0327      0.003      9.399      0.000       0.026       0.040\n",
      "main_camera_mp            0.0237      0.002     14.379      0.000       0.020       0.027\n",
      "selfie_camera_mp          0.0181      0.002     10.378      0.000       0.015       0.022\n",
      "int_memory                0.0006      0.000      3.135      0.002       0.000       0.001\n",
      "ram                       0.0265      0.005      5.258      0.000       0.017       0.036\n",
      "battery               -2.013e-05   7.14e-06     -2.821      0.005   -3.41e-05   -6.14e-06\n",
      "weight                    0.0012      0.000     10.939      0.000       0.001       0.001\n",
      "release_year              0.0135      0.005      2.819      0.005       0.004       0.023\n",
      "days_used              3.978e-05   3.06e-05      1.301      0.193   -2.02e-05    9.97e-05\n",
      "new_price_log             0.4046      0.013     31.868      0.000       0.380       0.430\n",
      "brand_name_Alcatel        0.0237      0.047      0.503      0.615      -0.069       0.116\n",
      "brand_name_Apple          0.1818      0.146      1.247      0.212      -0.104       0.468\n",
      "brand_name_Asus           0.0102      0.047      0.215      0.830      -0.083       0.103\n",
      "brand_name_BlackBerry    -0.0021      0.070     -0.030      0.976      -0.138       0.134\n",
      "brand_name_Celkon        -0.0619      0.066     -0.936      0.349      -0.192       0.068\n",
      "brand_name_Coolpad        0.0130      0.072      0.181      0.856      -0.128       0.154\n",
      "brand_name_Gionee         0.0460      0.057      0.805      0.421      -0.066       0.158\n",
      "brand_name_Google        -0.0184      0.084     -0.220      0.826      -0.183       0.146\n",
      "brand_name_HTC           -0.0121      0.048     -0.254      0.799      -0.106       0.081\n",
      "brand_name_Honor          0.0281      0.049      0.577      0.564      -0.067       0.124\n",
      "brand_name_Huawei        -0.0047      0.044     -0.106      0.916      -0.091       0.082\n",
      "brand_name_Infinix        0.1475      0.092      1.599      0.110      -0.033       0.328\n",
      "brand_name_Karbonn        0.0825      0.066      1.243      0.214      -0.048       0.213\n",
      "brand_name_LG             0.0021      0.045      0.047      0.962      -0.086       0.090\n",
      "brand_name_Lava           0.0432      0.062      0.702      0.483      -0.078       0.164\n",
      "brand_name_Lenovo         0.0434      0.045      0.971      0.332      -0.044       0.131\n",
      "brand_name_Meizu         -0.0293      0.056     -0.527      0.598      -0.138       0.080\n",
      "brand_name_Micromax      -0.0327      0.047     -0.692      0.489      -0.125       0.060\n",
      "brand_name_Microsoft      0.0920      0.087      1.054      0.292      -0.079       0.263\n",
      "brand_name_Motorola      -0.0048      0.049     -0.098      0.922      -0.101       0.091\n",
      "brand_name_Nokia          0.0984      0.051      1.914      0.056      -0.002       0.199\n",
      "brand_name_OnePlus        0.0109      0.077      0.142      0.887      -0.139       0.161\n",
      "brand_name_Oppo           0.0249      0.047      0.529      0.597      -0.067       0.117\n",
      "brand_name_Others        -0.0096      0.042     -0.230      0.818      -0.091       0.072\n",
      "brand_name_Panasonic      0.0567      0.055      1.026      0.305      -0.052       0.165\n",
      "brand_name_Realme         0.0020      0.061      0.032      0.974      -0.118       0.121\n",
      "brand_name_Samsung       -0.0113      0.043     -0.265      0.791      -0.095       0.073\n",
      "brand_name_Sony          -0.0634      0.050     -1.267      0.205      -0.161       0.035\n",
      "brand_name_Spice         -0.0200      0.063     -0.320      0.749      -0.143       0.103\n",
      "brand_name_Vivo          -0.0362      0.048     -0.754      0.451      -0.130       0.058\n",
      "brand_name_XOLO           0.0175      0.054      0.322      0.748      -0.089       0.124\n",
      "brand_name_Xiaomi         0.0656      0.048      1.377      0.169      -0.028       0.159\n",
      "brand_name_ZTE           -0.0031      0.047     -0.066      0.948      -0.095       0.089\n",
      "os_Others                -0.0916      0.031     -2.931      0.003      -0.153      -0.030\n",
      "os_Windows               -0.0154      0.045     -0.344      0.731      -0.103       0.072\n",
      "os_iOS                   -0.2015      0.144     -1.396      0.163      -0.485       0.082\n",
      "4g_yes                    0.0436      0.016      2.751      0.006       0.013       0.075\n",
      "5g_yes                   -0.0634      0.031     -2.039      0.042      -0.124      -0.002\n",
      "==============================================================================\n",
      "Omnibus:                      215.105   Durbin-Watson:                   1.928\n",
      "Prob(Omnibus):                  0.000   Jarque-Bera (JB):              400.043\n",
      "Skew:                          -0.605   Prob(JB):                     1.35e-87\n",
      "Kurtosis:                       4.584   Cond. No.                     8.15e+06\n",
      "==============================================================================\n",
      "\n",
      "Notes:\n",
      "[1] Standard Errors assume that the covariance matrix of the errors is correctly specified.\n",
      "[2] The condition number is large, 8.15e+06. This might indicate that there are\n",
      "strong multicollinearity or other numerical problems.\n"
     ]
    }
   ],
   "source": [
    "olsmodel = sm.OLS(y_train, x_train).fit()\n",
    "print(olsmodel.summary())"
   ]
  },
  {
   "cell_type": "markdown",
   "metadata": {
    "id": "jvoU3F6oMKti"
   },
   "source": [
    "## Model performance evaluation"
   ]
  },
  {
   "cell_type": "code",
   "execution_count": 64,
   "metadata": {
    "id": "k3e6gzxdMKti"
   },
   "outputs": [],
   "source": [
    "def adj_r2_score(predictors, targets, predictions):\n",
    "    r2 = r2_score(targets, predictions)\n",
    "    n = predictors.shape[0]\n",
    "    k = predictors.shape[1]\n",
    "    return 1 - ((1 - r2) * (n - 1) / (n - k - 1))\n",
    "\n",
    "\n",
    "# function to compute MAPE\n",
    "def mape_score(targets, predictions):\n",
    "    return np.mean(np.abs(targets - predictions) / targets) * 100\n",
    "\n",
    "\n",
    "# function to compute different metrics to check performance of a regression model\n",
    "def model_performance_regression(model, predictors, target):\n",
    "    \"\"\"\n",
    "    Function to compute different metrics to check regression model performance\n",
    "\n",
    "    model: regressor\n",
    "    predictors: independent variables\n",
    "    target: dependent variable\n",
    "    \"\"\"\n",
    "\n",
    "    # predicting using the independent variables\n",
    "    pred = model.predict(predictors)\n",
    "    \n",
    "    # taking the exponential of target and predictors so we judge performance on initial data and not log version\n",
    "    target = np.exp(target)\n",
    "    pred = np.exp(pred)\n",
    "\n",
    "    r2 = r2_score(target, pred)  # R-squared\n",
    "    adjr2 = adj_r2_score(predictors, target, pred)  #adjusted R-squared\n",
    "    rmse = np.sqrt(mean_squared_error(target, pred))  # RMSE\n",
    "    mae = mean_absolute_error(target, pred)  # MAE\n",
    "    mape = mape_score(target, pred)  # MAPE\n",
    "\n",
    "    # creating a dataframe of metrics\n",
    "    df_perf = pd.DataFrame(\n",
    "        {\n",
    "            \"RMSE\": rmse,\n",
    "            \"MAE\": mae,\n",
    "            \"R-squared\": r2,\n",
    "            \"Adj. R-squared\": adjr2,\n",
    "            \"MAPE\": mape,\n",
    "        },\n",
    "        index=[0],\n",
    "    )\n",
    "\n",
    "    return df_perf"
   ]
  },
  {
   "cell_type": "code",
   "execution_count": 65,
   "metadata": {},
   "outputs": [
    {
     "name": "stdout",
     "output_type": "stream",
     "text": [
      "Training Performance\n",
      "\n"
     ]
    },
    {
     "data": {
      "text/html": [
       "<div>\n",
       "<style scoped>\n",
       "    .dataframe tbody tr th:only-of-type {\n",
       "        vertical-align: middle;\n",
       "    }\n",
       "\n",
       "    .dataframe tbody tr th {\n",
       "        vertical-align: top;\n",
       "    }\n",
       "\n",
       "    .dataframe thead th {\n",
       "        text-align: right;\n",
       "    }\n",
       "</style>\n",
       "<table border=\"1\" class=\"dataframe\">\n",
       "  <thead>\n",
       "    <tr style=\"text-align: right;\">\n",
       "      <th></th>\n",
       "      <th>RMSE</th>\n",
       "      <th>MAE</th>\n",
       "      <th>R-squared</th>\n",
       "      <th>Adj. R-squared</th>\n",
       "      <th>MAPE</th>\n",
       "    </tr>\n",
       "  </thead>\n",
       "  <tbody>\n",
       "    <tr>\n",
       "      <th>0</th>\n",
       "      <td>24.498958</td>\n",
       "      <td>16.257579</td>\n",
       "      <td>0.804918</td>\n",
       "      <td>0.80088</td>\n",
       "      <td>18.590709</td>\n",
       "    </tr>\n",
       "  </tbody>\n",
       "</table>\n",
       "</div>"
      ],
      "text/plain": [
       "        RMSE        MAE  R-squared  Adj. R-squared       MAPE\n",
       "0  24.498958  16.257579   0.804918         0.80088  18.590709"
      ]
     },
     "execution_count": 65,
     "metadata": {},
     "output_type": "execute_result"
    }
   ],
   "source": [
    "print(\"Training Performance\\n\")\n",
    "olsmodel_train_perf = model_performance_regression(olsmodel, x_train, y_train)\n",
    "olsmodel_train_perf"
   ]
  },
  {
   "cell_type": "code",
   "execution_count": 66,
   "metadata": {},
   "outputs": [
    {
     "name": "stdout",
     "output_type": "stream",
     "text": [
      "Test Performance\n",
      "\n"
     ]
    },
    {
     "data": {
      "text/html": [
       "<div>\n",
       "<style scoped>\n",
       "    .dataframe tbody tr th:only-of-type {\n",
       "        vertical-align: middle;\n",
       "    }\n",
       "\n",
       "    .dataframe tbody tr th {\n",
       "        vertical-align: top;\n",
       "    }\n",
       "\n",
       "    .dataframe thead th {\n",
       "        text-align: right;\n",
       "    }\n",
       "</style>\n",
       "<table border=\"1\" class=\"dataframe\">\n",
       "  <thead>\n",
       "    <tr style=\"text-align: right;\">\n",
       "      <th></th>\n",
       "      <th>RMSE</th>\n",
       "      <th>MAE</th>\n",
       "      <th>R-squared</th>\n",
       "      <th>Adj. R-squared</th>\n",
       "      <th>MAPE</th>\n",
       "    </tr>\n",
       "  </thead>\n",
       "  <tbody>\n",
       "    <tr>\n",
       "      <th>0</th>\n",
       "      <td>24.253636</td>\n",
       "      <td>16.544556</td>\n",
       "      <td>0.789343</td>\n",
       "      <td>0.778885</td>\n",
       "      <td>19.411777</td>\n",
       "    </tr>\n",
       "  </tbody>\n",
       "</table>\n",
       "</div>"
      ],
      "text/plain": [
       "        RMSE        MAE  R-squared  Adj. R-squared       MAPE\n",
       "0  24.253636  16.544556   0.789343        0.778885  19.411777"
      ]
     },
     "execution_count": 66,
     "metadata": {},
     "output_type": "execute_result"
    }
   ],
   "source": [
    "print(\"Test Performance\\n\")\n",
    "olsmodel_test_perf = model_performance_regression(olsmodel, x_test, y_test)\n",
    "olsmodel_test_perf"
   ]
  },
  {
   "cell_type": "markdown",
   "metadata": {},
   "source": [
    "The r-squared and adj. r-squared on the training data is greater than that on the testing data. While the difference is only about 1-2%, this shows that there is some slight overfitting occurring."
   ]
  },
  {
   "cell_type": "markdown",
   "metadata": {
    "id": "a9GxSQf-qH8e"
   },
   "source": [
    "## Checking Linear Regression Assumptions\n",
    "\n",
    "- In order to make statistical inferences from a linear regression model, it is important to ensure that the assumptions of linear regression are satisfied."
   ]
  },
  {
   "cell_type": "markdown",
   "metadata": {},
   "source": [
    "These are the assumptions I'm checking for:\n",
    "\n",
    "1. **No Multicollinearity**\n",
    "\n",
    "2. **Linearity of variables**\n",
    "\n",
    "3. **Independence of error terms**\n",
    "\n",
    "4. **Normality of error terms**\n",
    "\n",
    "5. **No Heteroscedasticity**"
   ]
  },
  {
   "cell_type": "markdown",
   "metadata": {},
   "source": [
    "## Test for Multicollinearity"
   ]
  },
  {
   "cell_type": "code",
   "execution_count": 67,
   "metadata": {
    "id": "naX-iXItqH-b"
   },
   "outputs": [],
   "source": [
    "from statsmodels.stats.outliers_influence import variance_inflation_factor\n",
    "\n",
    "def checking_vif(predictors):\n",
    "    vif = pd.DataFrame()\n",
    "    vif[\"feature\"] = predictors.columns\n",
    "\n",
    "    # calculating VIF for each feature\n",
    "    vif[\"VIF\"] = [\n",
    "        variance_inflation_factor(predictors.values, i)\n",
    "        for i in range(len(predictors.columns))\n",
    "    ]\n",
    "    \n",
    "    return vif"
   ]
  },
  {
   "cell_type": "code",
   "execution_count": 68,
   "metadata": {},
   "outputs": [
    {
     "data": {
      "text/html": [
       "<div>\n",
       "<style scoped>\n",
       "    .dataframe tbody tr th:only-of-type {\n",
       "        vertical-align: middle;\n",
       "    }\n",
       "\n",
       "    .dataframe tbody tr th {\n",
       "        vertical-align: top;\n",
       "    }\n",
       "\n",
       "    .dataframe thead th {\n",
       "        text-align: right;\n",
       "    }\n",
       "</style>\n",
       "<table border=\"1\" class=\"dataframe\">\n",
       "  <thead>\n",
       "    <tr style=\"text-align: right;\">\n",
       "      <th></th>\n",
       "      <th>feature</th>\n",
       "      <th>VIF</th>\n",
       "    </tr>\n",
       "  </thead>\n",
       "  <tbody>\n",
       "    <tr>\n",
       "      <th>0</th>\n",
       "      <td>const</td>\n",
       "      <td>4.254522e+06</td>\n",
       "    </tr>\n",
       "    <tr>\n",
       "      <th>1</th>\n",
       "      <td>screen_size</td>\n",
       "      <td>4.467370e+00</td>\n",
       "    </tr>\n",
       "    <tr>\n",
       "      <th>2</th>\n",
       "      <td>main_camera_mp</td>\n",
       "      <td>2.542906e+00</td>\n",
       "    </tr>\n",
       "    <tr>\n",
       "      <th>3</th>\n",
       "      <td>selfie_camera_mp</td>\n",
       "      <td>3.979971e+00</td>\n",
       "    </tr>\n",
       "    <tr>\n",
       "      <th>4</th>\n",
       "      <td>int_memory</td>\n",
       "      <td>2.498472e+00</td>\n",
       "    </tr>\n",
       "    <tr>\n",
       "      <th>5</th>\n",
       "      <td>ram</td>\n",
       "      <td>2.224085e+00</td>\n",
       "    </tr>\n",
       "    <tr>\n",
       "      <th>6</th>\n",
       "      <td>battery</td>\n",
       "      <td>4.017405e+00</td>\n",
       "    </tr>\n",
       "    <tr>\n",
       "      <th>7</th>\n",
       "      <td>weight</td>\n",
       "      <td>4.397369e+00</td>\n",
       "    </tr>\n",
       "    <tr>\n",
       "      <th>8</th>\n",
       "      <td>release_year</td>\n",
       "      <td>5.496928e+00</td>\n",
       "    </tr>\n",
       "    <tr>\n",
       "      <th>9</th>\n",
       "      <td>days_used</td>\n",
       "      <td>2.671061e+00</td>\n",
       "    </tr>\n",
       "    <tr>\n",
       "      <th>10</th>\n",
       "      <td>new_price_log</td>\n",
       "      <td>3.420142e+00</td>\n",
       "    </tr>\n",
       "    <tr>\n",
       "      <th>11</th>\n",
       "      <td>brand_name_Alcatel</td>\n",
       "      <td>3.407144e+00</td>\n",
       "    </tr>\n",
       "    <tr>\n",
       "      <th>12</th>\n",
       "      <td>brand_name_Apple</td>\n",
       "      <td>1.311745e+01</td>\n",
       "    </tr>\n",
       "    <tr>\n",
       "      <th>13</th>\n",
       "      <td>brand_name_Asus</td>\n",
       "      <td>3.330121e+00</td>\n",
       "    </tr>\n",
       "    <tr>\n",
       "      <th>14</th>\n",
       "      <td>brand_name_BlackBerry</td>\n",
       "      <td>1.639761e+00</td>\n",
       "    </tr>\n",
       "    <tr>\n",
       "      <th>15</th>\n",
       "      <td>brand_name_Celkon</td>\n",
       "      <td>1.807244e+00</td>\n",
       "    </tr>\n",
       "    <tr>\n",
       "      <th>16</th>\n",
       "      <td>brand_name_Coolpad</td>\n",
       "      <td>1.469474e+00</td>\n",
       "    </tr>\n",
       "    <tr>\n",
       "      <th>17</th>\n",
       "      <td>brand_name_Gionee</td>\n",
       "      <td>1.951124e+00</td>\n",
       "    </tr>\n",
       "    <tr>\n",
       "      <th>18</th>\n",
       "      <td>brand_name_Google</td>\n",
       "      <td>1.322951e+00</td>\n",
       "    </tr>\n",
       "    <tr>\n",
       "      <th>19</th>\n",
       "      <td>brand_name_HTC</td>\n",
       "      <td>3.414997e+00</td>\n",
       "    </tr>\n",
       "    <tr>\n",
       "      <th>20</th>\n",
       "      <td>brand_name_Honor</td>\n",
       "      <td>3.349988e+00</td>\n",
       "    </tr>\n",
       "    <tr>\n",
       "      <th>21</th>\n",
       "      <td>brand_name_Huawei</td>\n",
       "      <td>5.988478e+00</td>\n",
       "    </tr>\n",
       "    <tr>\n",
       "      <th>22</th>\n",
       "      <td>brand_name_Infinix</td>\n",
       "      <td>1.286993e+00</td>\n",
       "    </tr>\n",
       "    <tr>\n",
       "      <th>23</th>\n",
       "      <td>brand_name_Karbonn</td>\n",
       "      <td>1.576737e+00</td>\n",
       "    </tr>\n",
       "    <tr>\n",
       "      <th>24</th>\n",
       "      <td>brand_name_LG</td>\n",
       "      <td>4.856751e+00</td>\n",
       "    </tr>\n",
       "    <tr>\n",
       "      <th>25</th>\n",
       "      <td>brand_name_Lava</td>\n",
       "      <td>1.710950e+00</td>\n",
       "    </tr>\n",
       "    <tr>\n",
       "      <th>26</th>\n",
       "      <td>brand_name_Lenovo</td>\n",
       "      <td>4.557551e+00</td>\n",
       "    </tr>\n",
       "    <tr>\n",
       "      <th>27</th>\n",
       "      <td>brand_name_Meizu</td>\n",
       "      <td>2.186201e+00</td>\n",
       "    </tr>\n",
       "    <tr>\n",
       "      <th>28</th>\n",
       "      <td>brand_name_Micromax</td>\n",
       "      <td>3.361420e+00</td>\n",
       "    </tr>\n",
       "    <tr>\n",
       "      <th>29</th>\n",
       "      <td>brand_name_Microsoft</td>\n",
       "      <td>1.869314e+00</td>\n",
       "    </tr>\n",
       "    <tr>\n",
       "      <th>30</th>\n",
       "      <td>brand_name_Motorola</td>\n",
       "      <td>3.268255e+00</td>\n",
       "    </tr>\n",
       "    <tr>\n",
       "      <th>31</th>\n",
       "      <td>brand_name_Nokia</td>\n",
       "      <td>3.498988e+00</td>\n",
       "    </tr>\n",
       "    <tr>\n",
       "      <th>32</th>\n",
       "      <td>brand_name_OnePlus</td>\n",
       "      <td>1.440946e+00</td>\n",
       "    </tr>\n",
       "    <tr>\n",
       "      <th>33</th>\n",
       "      <td>brand_name_Oppo</td>\n",
       "      <td>3.960378e+00</td>\n",
       "    </tr>\n",
       "    <tr>\n",
       "      <th>34</th>\n",
       "      <td>brand_name_Others</td>\n",
       "      <td>9.696739e+00</td>\n",
       "    </tr>\n",
       "    <tr>\n",
       "      <th>35</th>\n",
       "      <td>brand_name_Panasonic</td>\n",
       "      <td>2.107070e+00</td>\n",
       "    </tr>\n",
       "    <tr>\n",
       "      <th>36</th>\n",
       "      <td>brand_name_Realme</td>\n",
       "      <td>1.948467e+00</td>\n",
       "    </tr>\n",
       "    <tr>\n",
       "      <th>37</th>\n",
       "      <td>brand_name_Samsung</td>\n",
       "      <td>7.554825e+00</td>\n",
       "    </tr>\n",
       "    <tr>\n",
       "      <th>38</th>\n",
       "      <td>brand_name_Sony</td>\n",
       "      <td>2.954585e+00</td>\n",
       "    </tr>\n",
       "    <tr>\n",
       "      <th>39</th>\n",
       "      <td>brand_name_Spice</td>\n",
       "      <td>1.689935e+00</td>\n",
       "    </tr>\n",
       "    <tr>\n",
       "      <th>40</th>\n",
       "      <td>brand_name_Vivo</td>\n",
       "      <td>3.669890e+00</td>\n",
       "    </tr>\n",
       "    <tr>\n",
       "      <th>41</th>\n",
       "      <td>brand_name_XOLO</td>\n",
       "      <td>2.140255e+00</td>\n",
       "    </tr>\n",
       "    <tr>\n",
       "      <th>42</th>\n",
       "      <td>brand_name_Xiaomi</td>\n",
       "      <td>3.730340e+00</td>\n",
       "    </tr>\n",
       "    <tr>\n",
       "      <th>43</th>\n",
       "      <td>brand_name_ZTE</td>\n",
       "      <td>3.798859e+00</td>\n",
       "    </tr>\n",
       "    <tr>\n",
       "      <th>44</th>\n",
       "      <td>os_Others</td>\n",
       "      <td>1.724416e+00</td>\n",
       "    </tr>\n",
       "    <tr>\n",
       "      <th>45</th>\n",
       "      <td>os_Windows</td>\n",
       "      <td>1.601933e+00</td>\n",
       "    </tr>\n",
       "    <tr>\n",
       "      <th>46</th>\n",
       "      <td>os_iOS</td>\n",
       "      <td>1.171183e+01</td>\n",
       "    </tr>\n",
       "    <tr>\n",
       "      <th>47</th>\n",
       "      <td>4g_yes</td>\n",
       "      <td>2.515927e+00</td>\n",
       "    </tr>\n",
       "    <tr>\n",
       "      <th>48</th>\n",
       "      <td>5g_yes</td>\n",
       "      <td>1.807365e+00</td>\n",
       "    </tr>\n",
       "  </tbody>\n",
       "</table>\n",
       "</div>"
      ],
      "text/plain": [
       "                  feature           VIF\n",
       "0                   const  4.254522e+06\n",
       "1             screen_size  4.467370e+00\n",
       "2          main_camera_mp  2.542906e+00\n",
       "3        selfie_camera_mp  3.979971e+00\n",
       "4              int_memory  2.498472e+00\n",
       "5                     ram  2.224085e+00\n",
       "6                 battery  4.017405e+00\n",
       "7                  weight  4.397369e+00\n",
       "8            release_year  5.496928e+00\n",
       "9               days_used  2.671061e+00\n",
       "10          new_price_log  3.420142e+00\n",
       "11     brand_name_Alcatel  3.407144e+00\n",
       "12       brand_name_Apple  1.311745e+01\n",
       "13        brand_name_Asus  3.330121e+00\n",
       "14  brand_name_BlackBerry  1.639761e+00\n",
       "15      brand_name_Celkon  1.807244e+00\n",
       "16     brand_name_Coolpad  1.469474e+00\n",
       "17      brand_name_Gionee  1.951124e+00\n",
       "18      brand_name_Google  1.322951e+00\n",
       "19         brand_name_HTC  3.414997e+00\n",
       "20       brand_name_Honor  3.349988e+00\n",
       "21      brand_name_Huawei  5.988478e+00\n",
       "22     brand_name_Infinix  1.286993e+00\n",
       "23     brand_name_Karbonn  1.576737e+00\n",
       "24          brand_name_LG  4.856751e+00\n",
       "25        brand_name_Lava  1.710950e+00\n",
       "26      brand_name_Lenovo  4.557551e+00\n",
       "27       brand_name_Meizu  2.186201e+00\n",
       "28    brand_name_Micromax  3.361420e+00\n",
       "29   brand_name_Microsoft  1.869314e+00\n",
       "30    brand_name_Motorola  3.268255e+00\n",
       "31       brand_name_Nokia  3.498988e+00\n",
       "32     brand_name_OnePlus  1.440946e+00\n",
       "33        brand_name_Oppo  3.960378e+00\n",
       "34      brand_name_Others  9.696739e+00\n",
       "35   brand_name_Panasonic  2.107070e+00\n",
       "36      brand_name_Realme  1.948467e+00\n",
       "37     brand_name_Samsung  7.554825e+00\n",
       "38        brand_name_Sony  2.954585e+00\n",
       "39       brand_name_Spice  1.689935e+00\n",
       "40        brand_name_Vivo  3.669890e+00\n",
       "41        brand_name_XOLO  2.140255e+00\n",
       "42      brand_name_Xiaomi  3.730340e+00\n",
       "43         brand_name_ZTE  3.798859e+00\n",
       "44              os_Others  1.724416e+00\n",
       "45             os_Windows  1.601933e+00\n",
       "46                 os_iOS  1.171183e+01\n",
       "47                 4g_yes  2.515927e+00\n",
       "48                 5g_yes  1.807365e+00"
      ]
     },
     "execution_count": 68,
     "metadata": {},
     "output_type": "execute_result"
    }
   ],
   "source": [
    "checking_vif(x_train)"
   ]
  },
  {
   "cell_type": "code",
   "execution_count": 69,
   "metadata": {},
   "outputs": [
    {
     "name": "stdout",
     "output_type": "stream",
     "text": [
      "['const', 'screen_size', 'main_camera_mp', 'selfie_camera_mp', 'int_memory', 'ram', 'battery', 'weight', 'release_year', 'new_price_log', 'brand_name_Lenovo', 'brand_name_Nokia', 'brand_name_Sony', 'brand_name_Xiaomi', 'os_Others', '4g_yes', '5g_yes']\n"
     ]
    }
   ],
   "source": [
    "cols = x_train.columns.tolist() \n",
    "\n",
    "# setting an initial max p-value\n",
    "max_p_value = 1\n",
    "\n",
    "while len(cols) > 0:\n",
    "    # defining the train set\n",
    "    x_train_aux = x_train[cols] \n",
    "\n",
    "    # fitting the model\n",
    "    model = sm.OLS(y_train, x_train_aux).fit()\n",
    "\n",
    "    # getting the p-values and the maximum p-value\n",
    "    p_values = model.pvalues\n",
    "    max_p_value = max(p_values)\n",
    "\n",
    "    # name of the variable with maximum p-value\n",
    "    feature_with_p_max = p_values.idxmax()\n",
    "\n",
    "    if max_p_value > 0.05:\n",
    "        cols.remove(feature_with_p_max)\n",
    "    else:\n",
    "        break\n",
    "\n",
    "selected_features = cols\n",
    "print(selected_features)"
   ]
  },
  {
   "cell_type": "code",
   "execution_count": 70,
   "metadata": {},
   "outputs": [],
   "source": [
    "x_train1 = x_train[selected_features]\n",
    "x_test1 = x_test[selected_features]"
   ]
  },
  {
   "cell_type": "code",
   "execution_count": 71,
   "metadata": {},
   "outputs": [
    {
     "name": "stdout",
     "output_type": "stream",
     "text": [
      "                            OLS Regression Results                            \n",
      "==============================================================================\n",
      "Dep. Variable:         used_price_log   R-squared:                       0.847\n",
      "Model:                            OLS   Adj. R-squared:                  0.846\n",
      "Method:                 Least Squares   F-statistic:                     828.3\n",
      "Date:                Fri, 04 Mar 2022   Prob (F-statistic):               0.00\n",
      "Time:                        13:38:52   Log-Likelihood:                 137.82\n",
      "No. Observations:                2417   AIC:                            -241.6\n",
      "Df Residuals:                    2400   BIC:                            -143.2\n",
      "Df Model:                          16                                         \n",
      "Covariance Type:            nonrobust                                         \n",
      "=====================================================================================\n",
      "                        coef    std err          t      P>|t|      [0.025      0.975]\n",
      "-------------------------------------------------------------------------------------\n",
      "const               -21.4979      8.013     -2.683      0.007     -37.212      -5.784\n",
      "screen_size           0.0331      0.003      9.813      0.000       0.026       0.040\n",
      "main_camera_mp        0.0238      0.002     15.382      0.000       0.021       0.027\n",
      "selfie_camera_mp      0.0179      0.002     10.704      0.000       0.015       0.021\n",
      "int_memory            0.0005      0.000      2.885      0.004       0.000       0.001\n",
      "ram                   0.0268      0.005      5.482      0.000       0.017       0.036\n",
      "battery           -1.887e-05   6.96e-06     -2.709      0.007   -3.25e-05   -5.21e-06\n",
      "weight                0.0012      0.000     11.061      0.000       0.001       0.001\n",
      "release_year          0.0112      0.004      2.827      0.005       0.003       0.019\n",
      "new_price_log         0.4030      0.011     35.549      0.000       0.381       0.425\n",
      "brand_name_Lenovo     0.0431      0.021      2.030      0.042       0.001       0.085\n",
      "brand_name_Nokia      0.0950      0.031      3.090      0.002       0.035       0.155\n",
      "brand_name_Sony      -0.0630      0.030     -2.108      0.035      -0.122      -0.004\n",
      "brand_name_Xiaomi     0.0657      0.025      2.596      0.009       0.016       0.115\n",
      "os_Others            -0.0936      0.029     -3.257      0.001      -0.150      -0.037\n",
      "4g_yes                0.0441      0.015      2.934      0.003       0.015       0.074\n",
      "5g_yes               -0.0632      0.030     -2.093      0.036      -0.122      -0.004\n",
      "==============================================================================\n",
      "Omnibus:                      226.057   Durbin-Watson:                   1.929\n",
      "Prob(Omnibus):                  0.000   Jarque-Bera (JB):              428.497\n",
      "Skew:                          -0.624   Prob(JB):                     8.98e-94\n",
      "Kurtosis:                       4.642   Cond. No.                     6.70e+06\n",
      "==============================================================================\n",
      "\n",
      "Notes:\n",
      "[1] Standard Errors assume that the covariance matrix of the errors is correctly specified.\n",
      "[2] The condition number is large, 6.7e+06. This might indicate that there are\n",
      "strong multicollinearity or other numerical problems.\n"
     ]
    }
   ],
   "source": [
    "olsmodel2 = sm.OLS(y_train, x_train1).fit()\n",
    "print(olsmodel2.summary())"
   ]
  },
  {
   "cell_type": "code",
   "execution_count": 72,
   "metadata": {},
   "outputs": [
    {
     "name": "stdout",
     "output_type": "stream",
     "text": [
      "Training Performance\n",
      "\n"
     ]
    },
    {
     "data": {
      "text/html": [
       "<div>\n",
       "<style scoped>\n",
       "    .dataframe tbody tr th:only-of-type {\n",
       "        vertical-align: middle;\n",
       "    }\n",
       "\n",
       "    .dataframe tbody tr th {\n",
       "        vertical-align: top;\n",
       "    }\n",
       "\n",
       "    .dataframe thead th {\n",
       "        text-align: right;\n",
       "    }\n",
       "</style>\n",
       "<table border=\"1\" class=\"dataframe\">\n",
       "  <thead>\n",
       "    <tr style=\"text-align: right;\">\n",
       "      <th></th>\n",
       "      <th>RMSE</th>\n",
       "      <th>MAE</th>\n",
       "      <th>R-squared</th>\n",
       "      <th>Adj. R-squared</th>\n",
       "      <th>MAPE</th>\n",
       "    </tr>\n",
       "  </thead>\n",
       "  <tbody>\n",
       "    <tr>\n",
       "      <th>0</th>\n",
       "      <td>24.666923</td>\n",
       "      <td>16.352233</td>\n",
       "      <td>0.802234</td>\n",
       "      <td>0.800833</td>\n",
       "      <td>18.70982</td>\n",
       "    </tr>\n",
       "  </tbody>\n",
       "</table>\n",
       "</div>"
      ],
      "text/plain": [
       "        RMSE        MAE  R-squared  Adj. R-squared      MAPE\n",
       "0  24.666923  16.352233   0.802234        0.800833  18.70982"
      ]
     },
     "execution_count": 72,
     "metadata": {},
     "output_type": "execute_result"
    }
   ],
   "source": [
    "print(\"Training Performance\\n\")\n",
    "olsmodel2_train_perf = model_performance_regression(olsmodel2, x_train1, y_train)\n",
    "olsmodel2_train_perf"
   ]
  },
  {
   "cell_type": "code",
   "execution_count": 73,
   "metadata": {},
   "outputs": [
    {
     "name": "stdout",
     "output_type": "stream",
     "text": [
      "Test Performance\n",
      "\n"
     ]
    },
    {
     "data": {
      "text/html": [
       "<div>\n",
       "<style scoped>\n",
       "    .dataframe tbody tr th:only-of-type {\n",
       "        vertical-align: middle;\n",
       "    }\n",
       "\n",
       "    .dataframe tbody tr th {\n",
       "        vertical-align: top;\n",
       "    }\n",
       "\n",
       "    .dataframe thead th {\n",
       "        text-align: right;\n",
       "    }\n",
       "</style>\n",
       "<table border=\"1\" class=\"dataframe\">\n",
       "  <thead>\n",
       "    <tr style=\"text-align: right;\">\n",
       "      <th></th>\n",
       "      <th>RMSE</th>\n",
       "      <th>MAE</th>\n",
       "      <th>R-squared</th>\n",
       "      <th>Adj. R-squared</th>\n",
       "      <th>MAPE</th>\n",
       "    </tr>\n",
       "  </thead>\n",
       "  <tbody>\n",
       "    <tr>\n",
       "      <th>0</th>\n",
       "      <td>24.103249</td>\n",
       "      <td>16.466806</td>\n",
       "      <td>0.791948</td>\n",
       "      <td>0.788477</td>\n",
       "      <td>19.338349</td>\n",
       "    </tr>\n",
       "  </tbody>\n",
       "</table>\n",
       "</div>"
      ],
      "text/plain": [
       "        RMSE        MAE  R-squared  Adj. R-squared       MAPE\n",
       "0  24.103249  16.466806   0.791948        0.788477  19.338349"
      ]
     },
     "execution_count": 73,
     "metadata": {},
     "output_type": "execute_result"
    }
   ],
   "source": [
    "print(\"Test Performance\\n\")\n",
    "olsmodel2_test_perf = model_performance_regression(olsmodel2, x_test1, y_test)\n",
    "olsmodel2_test_perf"
   ]
  },
  {
   "cell_type": "markdown",
   "metadata": {},
   "source": [
    "## Test for Linearity and Independence"
   ]
  },
  {
   "cell_type": "code",
   "execution_count": 74,
   "metadata": {},
   "outputs": [
    {
     "data": {
      "text/html": [
       "<div>\n",
       "<style scoped>\n",
       "    .dataframe tbody tr th:only-of-type {\n",
       "        vertical-align: middle;\n",
       "    }\n",
       "\n",
       "    .dataframe tbody tr th {\n",
       "        vertical-align: top;\n",
       "    }\n",
       "\n",
       "    .dataframe thead th {\n",
       "        text-align: right;\n",
       "    }\n",
       "</style>\n",
       "<table border=\"1\" class=\"dataframe\">\n",
       "  <thead>\n",
       "    <tr style=\"text-align: right;\">\n",
       "      <th></th>\n",
       "      <th>Actual Values</th>\n",
       "      <th>Fitted Values</th>\n",
       "      <th>Residuals</th>\n",
       "    </tr>\n",
       "  </thead>\n",
       "  <tbody>\n",
       "    <tr>\n",
       "      <th>0</th>\n",
       "      <td>4.087488</td>\n",
       "      <td>3.828051</td>\n",
       "      <td>0.259437</td>\n",
       "    </tr>\n",
       "    <tr>\n",
       "      <th>1</th>\n",
       "      <td>4.448399</td>\n",
       "      <td>4.654832</td>\n",
       "      <td>-0.206432</td>\n",
       "    </tr>\n",
       "    <tr>\n",
       "      <th>2</th>\n",
       "      <td>4.315353</td>\n",
       "      <td>4.303635</td>\n",
       "      <td>0.011718</td>\n",
       "    </tr>\n",
       "    <tr>\n",
       "      <th>3</th>\n",
       "      <td>4.282068</td>\n",
       "      <td>4.190733</td>\n",
       "      <td>0.091335</td>\n",
       "    </tr>\n",
       "    <tr>\n",
       "      <th>4</th>\n",
       "      <td>4.456438</td>\n",
       "      <td>4.507339</td>\n",
       "      <td>-0.050901</td>\n",
       "    </tr>\n",
       "    <tr>\n",
       "      <th>5</th>\n",
       "      <td>3.043570</td>\n",
       "      <td>3.258869</td>\n",
       "      <td>-0.215299</td>\n",
       "    </tr>\n",
       "    <tr>\n",
       "      <th>6</th>\n",
       "      <td>4.238445</td>\n",
       "      <td>4.658310</td>\n",
       "      <td>-0.419865</td>\n",
       "    </tr>\n",
       "    <tr>\n",
       "      <th>7</th>\n",
       "      <td>4.726591</td>\n",
       "      <td>4.567795</td>\n",
       "      <td>0.158796</td>\n",
       "    </tr>\n",
       "    <tr>\n",
       "      <th>8</th>\n",
       "      <td>4.426044</td>\n",
       "      <td>4.269991</td>\n",
       "      <td>0.156052</td>\n",
       "    </tr>\n",
       "    <tr>\n",
       "      <th>9</th>\n",
       "      <td>3.189653</td>\n",
       "      <td>3.214883</td>\n",
       "      <td>-0.025230</td>\n",
       "    </tr>\n",
       "    <tr>\n",
       "      <th>10</th>\n",
       "      <td>4.600560</td>\n",
       "      <td>5.090568</td>\n",
       "      <td>-0.490008</td>\n",
       "    </tr>\n",
       "    <tr>\n",
       "      <th>11</th>\n",
       "      <td>3.945071</td>\n",
       "      <td>3.724653</td>\n",
       "      <td>0.220418</td>\n",
       "    </tr>\n",
       "    <tr>\n",
       "      <th>12</th>\n",
       "      <td>4.508769</td>\n",
       "      <td>4.571750</td>\n",
       "      <td>-0.062980</td>\n",
       "    </tr>\n",
       "    <tr>\n",
       "      <th>13</th>\n",
       "      <td>5.315125</td>\n",
       "      <td>5.215430</td>\n",
       "      <td>0.099695</td>\n",
       "    </tr>\n",
       "    <tr>\n",
       "      <th>14</th>\n",
       "      <td>4.222298</td>\n",
       "      <td>4.471035</td>\n",
       "      <td>-0.248737</td>\n",
       "    </tr>\n",
       "    <tr>\n",
       "      <th>15</th>\n",
       "      <td>4.374876</td>\n",
       "      <td>4.504747</td>\n",
       "      <td>-0.129871</td>\n",
       "    </tr>\n",
       "    <tr>\n",
       "      <th>16</th>\n",
       "      <td>4.709440</td>\n",
       "      <td>4.980546</td>\n",
       "      <td>-0.271106</td>\n",
       "    </tr>\n",
       "    <tr>\n",
       "      <th>17</th>\n",
       "      <td>5.360588</td>\n",
       "      <td>5.368191</td>\n",
       "      <td>-0.007603</td>\n",
       "    </tr>\n",
       "    <tr>\n",
       "      <th>18</th>\n",
       "      <td>3.954508</td>\n",
       "      <td>4.265803</td>\n",
       "      <td>-0.311296</td>\n",
       "    </tr>\n",
       "    <tr>\n",
       "      <th>19</th>\n",
       "      <td>5.099744</td>\n",
       "      <td>4.910728</td>\n",
       "      <td>0.189017</td>\n",
       "    </tr>\n",
       "  </tbody>\n",
       "</table>\n",
       "</div>"
      ],
      "text/plain": [
       "    Actual Values  Fitted Values  Residuals\n",
       "0        4.087488       3.828051   0.259437\n",
       "1        4.448399       4.654832  -0.206432\n",
       "2        4.315353       4.303635   0.011718\n",
       "3        4.282068       4.190733   0.091335\n",
       "4        4.456438       4.507339  -0.050901\n",
       "5        3.043570       3.258869  -0.215299\n",
       "6        4.238445       4.658310  -0.419865\n",
       "7        4.726591       4.567795   0.158796\n",
       "8        4.426044       4.269991   0.156052\n",
       "9        3.189653       3.214883  -0.025230\n",
       "10       4.600560       5.090568  -0.490008\n",
       "11       3.945071       3.724653   0.220418\n",
       "12       4.508769       4.571750  -0.062980\n",
       "13       5.315125       5.215430   0.099695\n",
       "14       4.222298       4.471035  -0.248737\n",
       "15       4.374876       4.504747  -0.129871\n",
       "16       4.709440       4.980546  -0.271106\n",
       "17       5.360588       5.368191  -0.007603\n",
       "18       3.954508       4.265803  -0.311296\n",
       "19       5.099744       4.910728   0.189017"
      ]
     },
     "execution_count": 74,
     "metadata": {},
     "output_type": "execute_result"
    }
   ],
   "source": [
    "df_pred = pd.DataFrame()\n",
    "\n",
    "df_pred[\"Actual Values\"] = y_train.values.flatten()\n",
    "df_pred[\"Fitted Values\"] = olsmodel2.fittedvalues.values\n",
    "df_pred[\"Residuals\"] = olsmodel2.resid.values\n",
    "\n",
    "df_pred.head(20)"
   ]
  },
  {
   "cell_type": "code",
   "execution_count": 75,
   "metadata": {},
   "outputs": [
    {
     "data": {
      "image/png": "[encoded data removed]",
      "text/plain": [
       "<Figure size 432x288 with 1 Axes>"
      ]
     },
     "metadata": {},
     "output_type": "display_data"
    }
   ],
   "source": [
    "sns.set_style(\"whitegrid\")\n",
    "sns.residplot(\n",
    "    data=df_pred, x=\"Fitted Values\", y=\"Residuals\", color=\"purple\", lowess=True\n",
    ")\n",
    "plt.xlabel(\"Fitted Values\")\n",
    "plt.ylabel(\"Residuals\")\n",
    "plt.title(\"Fitted vs Residual plot\")\n",
    "plt.show()"
   ]
  },
  {
   "cell_type": "markdown",
   "metadata": {},
   "source": [
    "While there does appear to be a small amount of non-linearity to the plot, the curve looks to be fairly close to linear centered around 0 so I will accept this assumption of linearity."
   ]
  },
  {
   "cell_type": "markdown",
   "metadata": {},
   "source": [
    "## Test for Normality"
   ]
  },
  {
   "cell_type": "code",
   "execution_count": 76,
   "metadata": {},
   "outputs": [
    {
     "data": {
      "image/png": "[encoded data removed]",
      "text/plain": [
       "<Figure size 432x288 with 1 Axes>"
      ]
     },
     "metadata": {},
     "output_type": "display_data"
    }
   ],
   "source": [
    "sns.histplot(df_pred[\"Residuals\"], kde=True)\n",
    "plt.title(\"Normality of residuals\")\n",
    "plt.show()"
   ]
  },
  {
   "cell_type": "code",
   "execution_count": 77,
   "metadata": {},
   "outputs": [
    {
     "data": {
      "image/png": "[encoded data removed]",
      "text/plain": [
       "<Figure size 432x288 with 1 Axes>"
      ]
     },
     "metadata": {},
     "output_type": "display_data"
    }
   ],
   "source": [
    "import pylab\n",
    "import scipy.stats as stats\n",
    "\n",
    "stats.probplot(df_pred[\"Residuals\"], dist=\"norm\", plot=pylab)\n",
    "plt.show()"
   ]
  },
  {
   "cell_type": "code",
   "execution_count": 78,
   "metadata": {},
   "outputs": [
    {
     "data": {
      "text/plain": [
       "ShapiroResult(statistic=0.9705737233161926, pvalue=7.199775709771131e-22)"
      ]
     },
     "execution_count": 78,
     "metadata": {},
     "output_type": "execute_result"
    }
   ],
   "source": [
    "stats.shapiro(df_pred[\"Residuals\"])"
   ]
  },
  {
   "cell_type": "markdown",
   "metadata": {},
   "source": [
    "Because the p-value is above .05 we are able to say that the residuals follow a normal distribution."
   ]
  },
  {
   "cell_type": "markdown",
   "metadata": {},
   "source": [
    "## Test for Homoscedasticity"
   ]
  },
  {
   "cell_type": "code",
   "execution_count": 79,
   "metadata": {},
   "outputs": [
    {
     "data": {
      "text/plain": [
       "[('F statistic', 1.0532481819531343), ('p-value', 0.1853523867900177)]"
      ]
     },
     "execution_count": 79,
     "metadata": {},
     "output_type": "execute_result"
    }
   ],
   "source": [
    "import statsmodels.stats.api as sms\n",
    "from statsmodels.compat import lzip\n",
    "\n",
    "name = [\"F statistic\", \"p-value\"]\n",
    "test = sms.het_goldfeldquandt(df_pred[\"Residuals\"], x_train1)\n",
    "lzip(name, test)"
   ]
  },
  {
   "cell_type": "markdown",
   "metadata": {},
   "source": [
    "Because the p-value is above .05 we are able to say that the results are homoscedastic."
   ]
  },
  {
   "cell_type": "markdown",
   "metadata": {
    "id": "jRYSDgFZMKtm"
   },
   "source": [
    "## Final Model Summary"
   ]
  },
  {
   "cell_type": "code",
   "execution_count": 80,
   "metadata": {
    "id": "x_Sqvs4TMKtn"
   },
   "outputs": [
    {
     "data": {
      "text/html": [
       "<div>\n",
       "<style scoped>\n",
       "    .dataframe tbody tr th:only-of-type {\n",
       "        vertical-align: middle;\n",
       "    }\n",
       "\n",
       "    .dataframe tbody tr th {\n",
       "        vertical-align: top;\n",
       "    }\n",
       "\n",
       "    .dataframe thead th {\n",
       "        text-align: right;\n",
       "    }\n",
       "</style>\n",
       "<table border=\"1\" class=\"dataframe\">\n",
       "  <thead>\n",
       "    <tr style=\"text-align: right;\">\n",
       "      <th></th>\n",
       "      <th>RMSE</th>\n",
       "      <th>MAE</th>\n",
       "      <th>R-squared</th>\n",
       "      <th>Adj. R-squared</th>\n",
       "      <th>MAPE</th>\n",
       "    </tr>\n",
       "  </thead>\n",
       "  <tbody>\n",
       "    <tr>\n",
       "      <th>0</th>\n",
       "      <td>24.666923</td>\n",
       "      <td>16.352233</td>\n",
       "      <td>0.802234</td>\n",
       "      <td>0.800833</td>\n",
       "      <td>18.70982</td>\n",
       "    </tr>\n",
       "  </tbody>\n",
       "</table>\n",
       "</div>"
      ],
      "text/plain": [
       "        RMSE        MAE  R-squared  Adj. R-squared      MAPE\n",
       "0  24.666923  16.352233   0.802234        0.800833  18.70982"
      ]
     },
     "execution_count": 80,
     "metadata": {},
     "output_type": "execute_result"
    }
   ],
   "source": [
    "olsmodel2_train_perf"
   ]
  },
  {
   "cell_type": "code",
   "execution_count": 81,
   "metadata": {},
   "outputs": [
    {
     "data": {
      "text/html": [
       "<div>\n",
       "<style scoped>\n",
       "    .dataframe tbody tr th:only-of-type {\n",
       "        vertical-align: middle;\n",
       "    }\n",
       "\n",
       "    .dataframe tbody tr th {\n",
       "        vertical-align: top;\n",
       "    }\n",
       "\n",
       "    .dataframe thead th {\n",
       "        text-align: right;\n",
       "    }\n",
       "</style>\n",
       "<table border=\"1\" class=\"dataframe\">\n",
       "  <thead>\n",
       "    <tr style=\"text-align: right;\">\n",
       "      <th></th>\n",
       "      <th>RMSE</th>\n",
       "      <th>MAE</th>\n",
       "      <th>R-squared</th>\n",
       "      <th>Adj. R-squared</th>\n",
       "      <th>MAPE</th>\n",
       "    </tr>\n",
       "  </thead>\n",
       "  <tbody>\n",
       "    <tr>\n",
       "      <th>0</th>\n",
       "      <td>24.103249</td>\n",
       "      <td>16.466806</td>\n",
       "      <td>0.791948</td>\n",
       "      <td>0.788477</td>\n",
       "      <td>19.338349</td>\n",
       "    </tr>\n",
       "  </tbody>\n",
       "</table>\n",
       "</div>"
      ],
      "text/plain": [
       "        RMSE        MAE  R-squared  Adj. R-squared       MAPE\n",
       "0  24.103249  16.466806   0.791948        0.788477  19.338349"
      ]
     },
     "execution_count": 81,
     "metadata": {},
     "output_type": "execute_result"
    }
   ],
   "source": [
    "olsmodel2_test_perf"
   ]
  },
  {
   "cell_type": "code",
   "execution_count": 82,
   "metadata": {},
   "outputs": [
    {
     "name": "stdout",
     "output_type": "stream",
     "text": [
      "used price = -21.497912529504678 + 0.03305269581506807 * ( screen_size ) +  0.023831682498752012 * ( main_camera_mp ) +  0.017940106689076144 * ( selfie_camera_mp ) +  0.0005129368463427245 * ( int_memory ) +  0.0267803829874932 * ( ram ) +  -1.88674315360455e-05 * ( battery ) +  0.0011774834522774134 * ( weight ) +  0.011238531282519755 * ( release_year ) +  0.4029746870423768 * ( new_price_log ) +  0.043122611597760194 * ( brand_name_Lenovo ) +  0.09500427241741508 * ( brand_name_Nokia ) +  -0.06296468210494494 * ( brand_name_Sony ) +  0.06574627200440639 * ( brand_name_Xiaomi ) +  -0.09363592179811747 * ( os_Others ) +  0.044141582792255496 * ( 4g_yes ) +  -0.06319967007072691 * ( 5g_yes )\n"
     ]
    }
   ],
   "source": [
    "# The equation of our linear regression model\n",
    "Equation = \"used price =\"\n",
    "print(Equation, end=\" \")\n",
    "for i in range(len(x_train1.columns)):\n",
    "    if i == 0:\n",
    "        print(olsmodel2.params[i], \"+\", end=\" \")\n",
    "    elif i != len(x_train1.columns) - 1:\n",
    "        print(\n",
    "            olsmodel2.params[i],\n",
    "            \"* (\",\n",
    "            x_train1.columns[i],\n",
    "            \")\",\n",
    "            \"+\",\n",
    "            end=\"  \",\n",
    "        )\n",
    "    else:\n",
    "        print(olsmodel2.params[i], \"* (\", x_train1.columns[i], \")\")"
   ]
  },
  {
   "cell_type": "markdown",
   "metadata": {
    "id": "2BkZh6eHluZK"
   },
   "source": [
    "## Actionable Insights and Recommendations\n",
    "\n",
    "- We were able to create a model that is able to explain 80% of the variation in used phone prices on the training data, and we also see that our model explains 80% of the variation in the testing data as well so we can be confident that this model doesn't suffer from overfitting.\n",
    "- The most important factors in predicting the price of a used phone are the camera quality, internal memory and ram, screen size and weight, release year and new price. There are additional factors included in our model, those being certain brands and functionalities (operating system, 4g capability) which can have a meaningful impact on our prediction for the phone price. In general, phones that are larger, newer, initially more expensive, and more techonologically advanced (better camera, more memory) will resell for a higher price.\n",
    "- The next steps for this project should be to create a system where our prediction for a used phone's selling price is compared to what the original owner is offering us the device for. If their price is meaningfully lower than our predicted price, we'll know there's a high likelihood that we can turn a profit on that unit."
   ]
  }
 ],
 "metadata": {
  "colab": {
   "collapsed_sections": [],
   "name": "SLF P1 (ReCell) Learner Notebook (Full Code).ipynb",
   "provenance": []
  },
  "kernelspec": {
   "display_name": "Python 3 (ipykernel)",
   "language": "python",
   "name": "python3"
  },
  "language_info": {
   "codemirror_mode": {
    "name": "ipython",
    "version": 3
   },
   "file_extension": ".py",
   "mimetype": "text/x-python",
   "name": "python",
   "nbconvert_exporter": "python",
   "pygments_lexer": "ipython3",
   "version": "3.9.7"
  }
 },
 "nbformat": 4,
 "nbformat_minor": 1
}
